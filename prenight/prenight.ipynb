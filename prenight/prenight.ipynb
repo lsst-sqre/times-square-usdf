{
 "cells": [
  {
   "cell_type": "markdown",
   "id": "78a0ef72-3c8c-482c-a91e-caff394de59c",
   "metadata": {},
   "source": [
    "# Prenight briefing"
   ]
  },
  {
   "cell_type": "code",
   "execution_count": null,
   "id": "f24fcc62-1538-41b3-9b30-1ff2d0691d39",
   "metadata": {},
   "outputs": [],
   "source": []
  }
 ],
 "metadata": {
  "kernelspec": {
   "display_name": "LSST",
   "language": "python",
   "name": "lsst"
  },
  "language_info": {
   "codemirror_mode": {
    "name": "ipython",
    "version": 3
   },
   "file_extension": ".py",
   "mimetype": "text/x-python",
   "name": "python",
   "nbconvert_exporter": "python",
   "pygments_lexer": "ipython3",
   "version": "3.11.7"
  }
 },
 "nbformat": 4,
 "nbformat_minor": 5
}
