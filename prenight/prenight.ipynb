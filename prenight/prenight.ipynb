{
 "cells": [
  {
   "cell_type": "markdown",
   "id": "78a0ef72-3c8c-482c-a91e-caff394de59c",
   "metadata": {},
   "source": [
    "# Prenight Briefing"
   ]
  },
  {
   "cell_type": "markdown",
   "id": "e62944f7-3180-4018-bd4f-1ced0b25f117",
   "metadata": {},
   "source": [
    "This is presently just a playground for building a pre-night briefing."
   ]
  },
  {
   "cell_type": "code",
   "execution_count": null,
   "id": "1443b550-9836-495b-8f95-3a3d85d72372",
   "metadata": {},
   "outputs": [],
   "source": [
    "# This cell is only for setting parameter defaults\n",
    "day_obs = \"2025-05-01\""
   ]
  },
  {
   "cell_type": "code",
   "execution_count": null,
   "id": "49baa158-7436-4623-94f4-047901d7421b",
   "metadata": {},
   "outputs": [],
   "source": [
    "print(f\"day_obs is {day_obs}\")"
   ]
  },
  {
   "cell_type": "raw",
   "id": "5957bc5e-0c8a-45ca-8d9d-63ca836470e4",
   "metadata": {},
   "source": [
    "import pandas as pd\n",
    "import bokeh\n",
    "import bokeh.io\n",
    "import bokeh.plotting\n",
    "import bokeh.models\n",
    "import sqlite3\n",
    "import numpy as np\n",
    "from astropy.time import Time\n",
    "from lsst.resources import ResourcePath"
   ]
  },
  {
   "cell_type": "raw",
   "id": "15e0f394-8b2c-4201-b8f2-e4b523855187",
   "metadata": {},
   "source": [
    "bokeh.io.output_notebook()"
   ]
  },
  {
   "cell_type": "raw",
   "id": "9818621a-befd-4611-a08e-284422e5d222",
   "metadata": {},
   "source": [
    "baseline_opsim_rp = ResourcePath('/sdf/group/rubin/web_data/sim-data/sims_featureScheduler_runs3.4/baseline/baseline_v3.4_10yrs.db')\n",
    "day_obs_mjd = int(Time(day_obs).mjd)"
   ]
  },
  {
   "cell_type": "raw",
   "id": "e92f5a4d-59a5-488d-af2b-c8d20b1ca949",
   "metadata": {},
   "source": [
    "with baseline_opsim_rp.as_local() as local_baseline_opsim_rp:\n",
    "    with sqlite3.connect(local_baseline_opsim_rp.ospath) as baseline_db_connection:\n",
    "        visits = pd.read_sql_query(f\"SELECT * FROM observations WHERE FLOOR(observationStartMJD-0.5)={day_obs_mjd}\", baseline_db_connection)"
   ]
  },
  {
   "cell_type": "raw",
   "id": "657fe838-b04e-423e-bb94-c33de7b91aca",
   "metadata": {},
   "source": [
    "visits['fieldSPD'] = visits['fieldDec'] + 90"
   ]
  },
  {
   "cell_type": "raw",
   "id": "c280ba2a-e2ec-4f81-a42b-e7e24d401bab",
   "metadata": {},
   "source": [
    "p = bokeh.plotting.figure(x_axis_type=None, y_axis_type=None,)\n",
    "polar_transform = bokeh.models.PolarTransform(\n",
    "    angle='fieldRA',\n",
    "    angle_units='deg',\n",
    "    radius='fieldSPD'\n",
    ")\n",
    "p.circle(polar_transform.x, polar_transform.y, source=visits)\n",
    "bokeh.plotting.show(p)"
   ]
  },
  {
   "cell_type": "raw",
   "id": "d6b61219-6ff8-4dca-bf34-5100f90dcadf",
   "metadata": {},
   "source": []
  }
 ],
 "metadata": {
  "kernelspec": {
   "display_name": "LSST",
   "language": "python",
   "name": "lsst"
  },
  "language_info": {
   "codemirror_mode": {
    "name": "ipython",
    "version": 3
   },
   "file_extension": ".py",
   "mimetype": "text/x-python",
   "name": "python",
   "nbconvert_exporter": "python",
   "pygments_lexer": "ipython3",
   "version": "3.11.7"
  }
 },
 "nbformat": 4,
 "nbformat_minor": 5
}
