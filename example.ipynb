{
 "cells": [
  {
   "cell_type": "markdown",
   "id": "f80e074a-e637-407e-a922-85d06cf1f34c",
   "metadata": {},
   "source": [
    "# Example Times Square Notebook"
   ]
  },
  {
   "cell_type": "code",
   "execution_count": null,
   "id": "07ad0044-dd6a-41b6-9329-5eb2521bd0e0",
   "metadata": {},
   "outputs": [],
   "source": [
    "# Parameters. Set defaults here.\n",
    "# Times Square replaces this cell with the user's parameters\n",
    "\n",
    "date = \"2024-02-04\""
   ]
  },
  {
   "cell_type": "code",
   "execution_count": null,
   "id": "83c0ff11-a181-468c-a971-0fbe4130fd9b",
   "metadata": {},
   "outputs": [],
   "source": [
    "from datetime import datetime\n",
    "\n",
    "from astroplan import Observer\n",
    "from pytz import timezone"
   ]
  },
  {
   "cell_type": "code",
   "execution_count": null,
   "id": "888b7280-a84d-49a9-8d31-011a38545c2b",
   "metadata": {},
   "outputs": [],
   "source": [
    "local_timezone = timezone(\"America/Santiago\")\n",
    "auxtel_site = Observer.at_site(\"Rubin AuxTel\")\n",
    "noon_local_dt = datetime.fromisoformat(date).replace(\n",
    "    hour=12, minute=0, second=0, tzinfo=local_timezone\n",
    ")\n",
    "moon_illumination = auxtel_site.moon_illumination(noon_local_dt)\n",
    "print(f\"{date}: moon illumination = {moon_illumination:.1%}\")"
   ]
  },
  {
   "cell_type": "code",
   "execution_count": null,
   "id": "40b45d9d-d92e-4feb-a28f-bdcfd3b27a94",
   "metadata": {},
   "outputs": [],
   "source": []
  }
 ],
 "metadata": {
  "kernelspec": {
   "display_name": "LSST",
   "language": "python",
   "name": "lsst"
  },
  "language_info": {
   "codemirror_mode": {
    "name": "ipython",
    "version": 3
   },
   "file_extension": ".py",
   "mimetype": "text/x-python",
   "name": "python",
   "nbconvert_exporter": "python",
   "pygments_lexer": "ipython3",
   "version": "3.11.4"
  }
 },
 "nbformat": 4,
 "nbformat_minor": 5
}
