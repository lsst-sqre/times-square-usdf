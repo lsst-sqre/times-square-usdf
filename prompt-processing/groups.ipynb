{
 "cells": [
  {
   "cell_type": "markdown",
   "id": "7c0def35-3c83-4cec-be85-47d6703ee73f",
   "metadata": {},
   "source": [
    "# Prompt Processing Bean Counting for {{ params.date }}"
   ]
  },
  {
   "cell_type": "code",
   "execution_count": null,
   "id": "52b5ccf4-48c8-4616-bb35-dbb2e41ec57b",
   "metadata": {},
   "outputs": [],
   "source": [
    "date = '2023-12-22'"
   ]
  },
  {
   "cell_type": "code",
   "execution_count": null,
   "id": "eb778a07-569e-4c33-9c06-8f64c5a3d584",
   "metadata": {},
   "outputs": [],
   "source": [
    "dayobs = int(date.replace(\"-\", \"\"))"
   ]
  },
  {
   "cell_type": "code",
   "execution_count": null,
   "id": "c8a5cf56-490f-404c-86a0-c099545d982e",
   "metadata": {},
   "outputs": [],
   "source": [
    "from astropy.time import Time, TimeDelta\n",
    "import boto3\n",
    "import json\n",
    "import pandas\n",
    "from lsst_efd_client import EfdClient"
   ]
  },
  {
   "cell_type": "code",
   "execution_count": null,
   "id": "67c79446-b539-497f-9810-21b4bf32d5f6",
   "metadata": {},
   "outputs": [],
   "source": [
    "import logging\n",
    "logger = logging.getLogger(\"analysis\")\n",
    "logger.setLevel(logging.DEBUG)"
   ]
  },
  {
   "cell_type": "code",
   "execution_count": null,
   "id": "d5d733f8-8bbd-4a63-81d9-7451583e43d2",
   "metadata": {},
   "outputs": [],
   "source": [
    "async def get_df_from_next_visit_events(date):\n",
    "    client = EfdClient(\"usdf_efd\")\n",
    "\n",
    "    start = Time(date, scale=\"utc\", format=\"isot\") + TimeDelta(12*60*60, format=\"sec\")\n",
    "    end = start + TimeDelta(1, format=\"jd\")\n",
    "    \n",
    "    topic = \"lsst.sal.ScriptQueue.logevent_nextVisit\"\n",
    "    df = await client.select_time_series(topic, [\"*\"], start.utc, end.utc)\n",
    "    all_canceled = await client.select_time_series(topic+\"Canceled\", [\"*\"], start.utc, end.utc)\n",
    "\n",
    "    if df.empty:\n",
    "        logger.info(f\"No events on {date}\")\n",
    "        return None\n",
    "    \n",
    "    # Only select on-sky AuxTel imaging survey\n",
    "    df = df.loc[\n",
    "        (df[\"coordinateSystem\"] == 2)\n",
    "        & (df[\"salIndex\"] == 2)\n",
    "        & (df[\"survey\"] == \"AUXTEL_PHOTO_IMAGING\")\n",
    "    ].set_index(\"groupId\")\n",
    "    logger.info(f\"There were {len(df)} AUXTEL_PHOTO_IMAGING nextVisit events on {date}\")\n",
    "    \n",
    "    # Ignore the explicitly canceled groups\n",
    "    if not all_canceled.empty:\n",
    "        canceled = df.index.intersection(all_canceled.set_index(\"groupId\").index).tolist()\n",
    "        if canceled:\n",
    "            logger.info(f\"{len(canceled)} events were canceled {canceled}\")\n",
    "            df = df.drop(canceled)\n",
    "\n",
    "    return df"
   ]
  },
  {
   "cell_type": "code",
   "execution_count": null,
   "id": "84a6ef03-6e7a-4ec2-a857-ff2971b89578",
   "metadata": {},
   "outputs": [],
   "source": [
    "df_efd = await get_df_from_next_visit_events(date)"
   ]
  },
  {
   "cell_type": "code",
   "execution_count": null,
   "id": "38550ad1-0a8b-493c-b1a2-85ac94b70083",
   "metadata": {},
   "outputs": [],
   "source": []
  },
  {
   "cell_type": "code",
   "execution_count": null,
   "id": "b7b45d8f-09a4-4057-a5da-e8f28b7f27cf",
   "metadata": {},
   "outputs": [],
   "source": [
    "from lsst.daf.butler import Butler\n",
    "butler = Butler(\"/repo/embargo\", writeable=False)"
   ]
  },
  {
   "cell_type": "code",
   "execution_count": null,
   "id": "41f8c952-395f-40a8-9891-1415846704b9",
   "metadata": {},
   "outputs": [],
   "source": [
    "results = butler.registry.queryDimensionRecords(\n",
    "    \"exposure\",\n",
    "    datasets=\"raw\",\n",
    "    collections=\"LATISS/raw/all\",\n",
    "    where=\"exposure.science_program IN ('AUXTEL_PHOTO_IMAGING') \"\n",
    "          \"and instrument='LATISS' and exposure.day_obs=day_obs  \",\n",
    "    bind={\"day_obs\": dayobs},\n",
    ")\n",
    "logger.info(f\"Found {results.count()} raws in {butler} for {dayobs}\")\n",
    "\n",
    "embargo_records = dict()\n",
    "for record in results:\n",
    "    embargo_records[record.id] = record\n",
    "\n",
    "df_butler = pandas.DataFrame.from_records([embargo_records[num].toDict() for num in embargo_records]).set_index(\"group_name\")"
   ]
  },
  {
   "cell_type": "code",
   "execution_count": null,
   "id": "3bcd8dfe-86c6-4c41-875a-6b90648367c5",
   "metadata": {},
   "outputs": [],
   "source": [
    "groups_no_raw = set(df_efd.index) -  set(df_butler.index)\n",
    "if groups_no_raw:\n",
    "    logger.info(f\"{len(groups_no_raw)} group had records in EFD but no raws in the embargo butler: {groups_no_raw}\")"
   ]
  },
  {
   "cell_type": "code",
   "execution_count": null,
   "id": "ecec251e-466d-46f1-9420-ac0c9e39a6e6",
   "metadata": {},
   "outputs": [],
   "source": [
    "df_efd = df_efd.drop(groups_no_raw)"
   ]
  },
  {
   "cell_type": "code",
   "execution_count": null,
   "id": "a9032204-01f8-4c48-85aa-92d5b28f9244",
   "metadata": {},
   "outputs": [],
   "source": [
    "if len(df_efd) != len(df_butler):\n",
    "    logger.warning(\"Counts do not match; need attention\")"
   ]
  },
  {
   "cell_type": "code",
   "execution_count": null,
   "id": "d8074d56-f0d2-403b-bc72-1be0824e43d9",
   "metadata": {},
   "outputs": [],
   "source": [
    "df_md = pandas.merge(df_efd.reset_index(), df_butler.reset_index(), \n",
    "                     how=\"outer\", left_on=\"groupId\", right_on=\"group_name\",\n",
    "                     suffixes=('_efd', '_butler'),\n",
    "                     validate=\"one_to_one\",).set_index(\"groupId\")\n",
    "\n",
    "logger.info(f\"Total: {len(df_md)} groups in the table\")"
   ]
  },
  {
   "cell_type": "code",
   "execution_count": null,
   "id": "0cc8f214-6ac2-4430-ac45-3cc69ef565c4",
   "metadata": {},
   "outputs": [],
   "source": [
    "boring_cols = [\"instrument_efd\", \"instrument_butler\", \"science_program\", \"observation_reason\", \"observation_type\", \n",
    "               \"cameraAngle\", \"has_simulated\", \"dome\", \"coordinateSystem\", \"rotationSystem\",\n",
    "               \"private_identity\", \"private_origin\", \"private_revCode\", \"salIndex\", \"totalCheckpoints\",\n",
    "               \"nimages\",\n",
    "               \"day_obs\", \"survey\", \"exposure_time\"]\n",
    "for col in boring_cols:\n",
    "    if df_md[col].nunique() == 1:\n",
    "        logger.debug(f\"column {col} has only {df_md[col].unique()}\")\n",
    "        df_md.drop(columns=[col,], inplace=True) \n",
    "    else:\n",
    "        logger.warning(f\"Column {col} has {df_md[col].unique()}\")"
   ]
  },
  {
   "cell_type": "code",
   "execution_count": null,
   "id": "55908452-ec11-4adb-8631-827fe1afb9f2",
   "metadata": {},
   "outputs": [],
   "source": [
    "for col in (\"physical_filter\", ):\n",
    "    logger.info(f\"Column {col} has {df_md[col].unique()}\")"
   ]
  },
  {
   "cell_type": "code",
   "execution_count": null,
   "id": "42722584-834e-4220-bff0-edd71e9e6c6c",
   "metadata": {},
   "outputs": [],
   "source": [
    "df_md.columns"
   ]
  },
  {
   "cell_type": "code",
   "execution_count": null,
   "id": "7dfbddf8-0243-49fc-bc27-09f8eee6e2ad",
   "metadata": {},
   "outputs": [],
   "source": [
    "df_md[\"offset0\"] = df_md[\"position0\"] - df_md[\"tracking_ra\"]\n",
    "df_md[\"offset1\"] = df_md[\"position1\"] - df_md[\"tracking_dec\"]"
   ]
  },
  {
   "cell_type": "code",
   "execution_count": null,
   "id": "9c5ace6e-4fef-4a0e-a656-e742cb49d2cd",
   "metadata": {},
   "outputs": [],
   "source": [
    "df_md[[\"seq_num\", \"position0\", \"tracking_ra\", \"offset0\", \"position1\", \"tracking_dec\", \"offset1\", \"physical_filter\", \"id\"]]"
   ]
  },
  {
   "cell_type": "code",
   "execution_count": null,
   "id": "36a85638-1f14-4bcf-9c9a-c0cfcedd6f9a",
   "metadata": {},
   "outputs": [],
   "source": [
    "df_md[[\"offset0\", \"offset1\"]].describe()"
   ]
  },
  {
   "cell_type": "code",
   "execution_count": null,
   "id": "c5e8101a-036e-4a14-9941-e1f156c85d88",
   "metadata": {},
   "outputs": [],
   "source": []
  },
  {
   "cell_type": "code",
   "execution_count": null,
   "id": "1a182ce5-4541-40c3-bc75-e5be75feede1",
   "metadata": {},
   "outputs": [],
   "source": [
    "def get_exposure_id(dayobs: int):\n",
    "    \"\"\"\n",
    "    Returns\n",
    "    -------\n",
    "    df : `pandas.DataFrame`\n",
    "    \"\"\"\n",
    "    butler = Butler(\"/repo/embargo\", writeable=False)\n",
    "\n",
    "    results = butler.registry.queryDimensionRecords(\n",
    "        \"exposure\",\n",
    "        datasets=\"raw\",\n",
    "        collections=\"LATISS/raw/all\",\n",
    "        where=\"instrument='LATISS' and exposure.observation_type='science' and\"\n",
    "        \" exposure.day_obs=dayobs\",\n",
    "        bind={\"dayobs\": dayobs},\n",
    "    )\n",
    "\n",
    "    df = pandas.DataFrame(\n",
    "        [(_.group_name, _.id) for _ in results], columns=[\"groupId\", \"expId\"]\n",
    "    ).set_index(\"groupId\")\n",
    "\n",
    "    return df"
   ]
  },
  {
   "cell_type": "code",
   "execution_count": null,
   "id": "fbdd3851-6ec4-4706-bd74-dd35ccb4839c",
   "metadata": {},
   "outputs": [],
   "source": [
    "def get_df_file(df_expId, butler, datasetType, where=\"\", collections=...):\n",
    "    \"\"\"\n",
    "    Get the last-moditied timestamps of the dataset files in a bucket-based butler repo at USDF\n",
    "\n",
    "    Returns\n",
    "    -------\n",
    "    df : `pandas.DataFrame`\n",
    "    \"\"\" \n",
    "    s3_endpoint = \"https://s3dfrgw.slac.stanford.edu\"\n",
    "    s3client = boto3.client(\"s3\", endpoint_url=s3_endpoint)\n",
    "    refs = butler.registry.queryDatasets(\n",
    "        datasetType=datasetType,\n",
    "        collections=collections,\n",
    "        where=where,\n",
    "    )\n",
    "\n",
    "    timestamps = dict()\n",
    "    dimension = None\n",
    "    for ref in refs:\n",
    "        if not dimension:\n",
    "            if \"visit\" in ref.dataId:\n",
    "                dimension = \"visit\"\n",
    "            else:\n",
    "                dimension = \"exposure\"\n",
    "        fits_uri = butler.getURI(ref)\n",
    "        time_written = s3client.head_object(\n",
    "            Bucket=fits_uri.netloc,\n",
    "            Key=fits_uri.relativeToPathRoot,\n",
    "        )[\"LastModified\"]\n",
    "        timestamps[ref.dataId[dimension]] = time_written\n",
    "        \n",
    "    df = pandas.DataFrame.from_dict(data=timestamps, orient='index', columns=[\"file\"])  \n",
    "    df = pandas.merge(df, df_expId.reset_index(), left_index=True, right_on=\"expId\", \n",
    "                      how=\"left\", validate=\"one_to_one\",).set_index(\"groupId\")\n",
    "    return df"
   ]
  },
  {
   "cell_type": "code",
   "execution_count": null,
   "id": "55208bb3-d4a8-4d5e-a1c1-53e464db29f9",
   "metadata": {},
   "outputs": [],
   "source": [
    "df_expId = get_exposure_id(dayobs)"
   ]
  },
  {
   "cell_type": "code",
   "execution_count": null,
   "id": "0b423ff9-f41a-47cc-a331-15700334e910",
   "metadata": {},
   "outputs": [],
   "source": [
    "df_raw = get_df_file(df_expId, butler, \"raw\", \n",
    "    collections=[\"LATISS/raw/all\"],\n",
    "    where=f\"exposure.science_program IN ('AUXTEL_PHOTO_IMAGING') and instrument='LATISS' and exposure.day_obs={dayobs}\")"
   ]
  },
  {
   "cell_type": "code",
   "execution_count": null,
   "id": "3fd370c4-8389-4006-b23f-ee6a7f5852f2",
   "metadata": {},
   "outputs": [],
   "source": [
    "if len(df_raw) != len(df_md):\n",
    "    logger.warning(\"Counts of raw files do not match; need attention\")"
   ]
  },
  {
   "cell_type": "code",
   "execution_count": null,
   "id": "71fc7e31-3c39-4bde-a2cd-86e255b44ac0",
   "metadata": {},
   "outputs": [],
   "source": [
    "df_md = df_md.merge(df_raw[[\"file\"]], how=\"outer\", left_index=True, right_index=True, validate=\"one_to_one\",)"
   ]
  },
  {
   "cell_type": "code",
   "execution_count": null,
   "id": "345f7d89-fa0d-4594-8d83-7b13b838d30d",
   "metadata": {},
   "outputs": [],
   "source": [
    "df_md.rename(columns={\"file\": \"ts_raw\"}, inplace=True)"
   ]
  },
  {
   "cell_type": "code",
   "execution_count": null,
   "id": "014c2f3c-1441-4567-aadf-bf14da1369ff",
   "metadata": {},
   "outputs": [],
   "source": [
    "df_output = get_df_file(df_expId, butler, \"calexp\", \n",
    "    collections=[f\"LATISS/prompt/output-{date}/*/prompt-proto-service-*\"])"
   ]
  },
  {
   "cell_type": "code",
   "execution_count": null,
   "id": "f3272504-db65-4e10-a7f3-450eb60a8ed8",
   "metadata": {},
   "outputs": [],
   "source": [
    "df_md = df_md.merge(df_output[[\"file\"]], how=\"outer\", left_index=True, right_index=True, validate=\"one_to_one\",)"
   ]
  },
  {
   "cell_type": "code",
   "execution_count": null,
   "id": "790edcc5-d023-43cf-a04b-4203a7c0fbf7",
   "metadata": {},
   "outputs": [],
   "source": [
    "df_md.rename(columns={\"file\": \"ts_output\"}, inplace=True)"
   ]
  },
  {
   "cell_type": "code",
   "execution_count": null,
   "id": "5a20abfc-5102-4ece-8dd0-58dba88f541a",
   "metadata": {},
   "outputs": [],
   "source": []
  },
  {
   "cell_type": "code",
   "execution_count": null,
   "id": "b4748735-fb63-4b67-ae6b-240591969971",
   "metadata": {},
   "outputs": [],
   "source": [
    "!realpath ~"
   ]
  },
  {
   "cell_type": "code",
   "execution_count": null,
   "id": "d3705a97-c9a8-437b-95d6-5c163d18ec59",
   "metadata": {},
   "outputs": [],
   "source": []
  },
  {
   "cell_type": "code",
   "execution_count": null,
   "id": "3c0e28e9-7b35-419f-ab5b-b1560de18e28",
   "metadata": {},
   "outputs": [],
   "source": [
    "def get_loki_command_with_phrase(time_start, time_end, phrase, extra=\"\"):\n",
    "    command = f\"\"\"~/binaries/logcli-linux-amd64 --output=jsonl --tls-skip-verify query --addr=http://sdfloki.slac.stanford.edu:80 --timezone=UTC -q --limit=200 --from=\"{time_start}\" --to=\"{time_end}\" --proxy-url=http://sdfproxy.sdf.slac.stanford.edu:3128  '{{namespace=\"vcluster--usdf-prompt-processing\", container=\"user-container\", pod=~\"prompt-proto-service-.+\"}} |~ \"{phrase}\" {extra} ' \"\"\"\n",
    "    return command"
   ]
  },
  {
   "cell_type": "code",
   "execution_count": null,
   "id": "5e783edc-f809-430d-9a3a-d340c1e761ea",
   "metadata": {},
   "outputs": [],
   "source": [
    "def get_df_from_loki(date, search_phrase=\"Waiting for snaps\"):\n",
    "    start = Time(date, scale=\"utc\", format=\"isot\") + TimeDelta(12*60*60, format=\"sec\")\n",
    "    end = start + TimeDelta(1, format=\"jd\")\n",
    "    command = get_loki_command_with_phrase(start.strftime('%Y-%m-%dT%H:%M:%SZ'), \n",
    "                                           end.strftime('%Y-%m-%dT%H:%M:%SZ'),\n",
    "                                           search_phrase)\n",
    "    results = !{command}\n",
    "    logger.debug(f\"Got {len(results)} Loki records for {phrase}\")\n",
    "    data = [json.loads(_) for _ in results]\n",
    "    df = pandas.json_normalize(data)\n",
    "    df = df.merge(pandas.json_normalize(df[\"line\"].apply(json.loads)),\n",
    "                  left_index=True, right_index=True).drop(columns=[\"line\"])\n",
    "\n",
    "    if \"group\" not in df.columns and \"message\" in df.columns:\n",
    "        df[\"group\"] = df[\"message\"].str.extract(r\"groupId='([T:.\\d-]*)',\")\n",
    "\n",
    "    df[\"ts\"] = pandas.to_datetime(df[\"timestamp\"])\n",
    "    \n",
    "    return df[[\"group\", \"ts\"]]"
   ]
  },
  {
   "cell_type": "code",
   "execution_count": null,
   "id": "246b8632-4f90-49be-8376-5ef1911a67bc",
   "metadata": {},
   "outputs": [],
   "source": [
    "phrases = {\n",
    "    \"unpckMsg\": \"Unpacked message as \\\" |~ \\\"AUXTEL\",\n",
    "    \"prepBtlr\": \"Preparing Butler for visit\",\n",
    "    \"waitSnap\": \"Waiting for snaps\",\n",
    "    \"runPipe1\": \"Running pipeline\",\n",
    "    \"pipeSucc\": \"Pipeline successfully run\",\n",
    "    \"outputSa\": \"Pipeline products saved to collection\",\n",
    "    #\"timeout1\": \"Timed out waiting for image after receiving exposures \",\n",
    "}"
   ]
  },
  {
   "cell_type": "code",
   "execution_count": null,
   "id": "9afa63c6-359f-486c-805f-684bf86c7ae2",
   "metadata": {},
   "outputs": [],
   "source": [
    "df_loki = pandas.DataFrame(columns=[\"group\"])\n",
    "for phrase in phrases:\n",
    "    df2 = get_df_from_loki(date, phrases[phrase]).rename(columns={\"ts\": \"ts_\" + phrase})\n",
    "    df_loki = df_loki.merge(df2, on=\"group\", how=\"outer\", validate=\"one_to_one\",)\n",
    "df_loki = df_loki.rename(columns={\"group\": \"groupId\"}).set_index(\"groupId\")"
   ]
  },
  {
   "cell_type": "code",
   "execution_count": null,
   "id": "f96dc090-8d7b-47b0-a86a-531f496d6c01",
   "metadata": {},
   "outputs": [],
   "source": [
    "# This plot only uses Loki timestamp.  Hence it includes groups with no data taken.  \n",
    "df1 = pandas.DataFrame(index=df_loki.index)\n",
    "ref = \"ts_unpckMsg\"\n",
    "for col_name in df_loki.columns:\n",
    "    # Notes: if the ref column doesn't exist, all become NaN in df1 \n",
    "    # This can happens e.g. an exposure wasn't taken, so that group isn't in df_md\n",
    "    df1[col_name] = (df_loki[col_name] - df_loki[ref]).dt.total_seconds()\n",
    "    \n",
    "ax = df1.drop(columns=[ref]).plot(kind=\"hist\", title=f\"{date}; ref={ref}\", xlabel=\"seconds\", ylabel=\"\", bins=50,\n",
    "         #subplots=True, layout=(2,4), figsize=(12,6),\n",
    "         alpha=0.5, rot=45, \n",
    ")\n",
    "\n",
    "pandas.merge(df1, df_loki, how=\"outer\", left_index=True, right_index=True, \n",
    "             suffixes=('_diff', '_loki'),\n",
    "             validate=\"one_to_one\",).head()"
   ]
  },
  {
   "cell_type": "code",
   "execution_count": null,
   "id": "2a254629-67e2-46cb-a984-00026396a0d5",
   "metadata": {},
   "outputs": [],
   "source": [
    "df_md[\"ts_begin\"] = df_md[\"timespan\"].apply(lambda _: pandas.Timestamp(_.begin.utc.datetime, tz=\"UTC\"))\n",
    "df_md[\"ts_end\"] = df_md[\"timespan\"].apply(lambda _: pandas.Timestamp(_.end.utc.datetime, tz=\"UTC\"))\n",
    "\n",
    "# typically a small fraction of seconds before sndStamp \n",
    "df_md[\"ts_group_utc\"] = df_md[\"group_name\"].apply(lambda _: pandas.Timestamp(Time(_, scale=\"tai\").utc.datetime, tz=\"UTC\"))\n",
    "\n",
    "# time of visit publication; TAI in unix seconds\n",
    "df_md[\"ts_sndStamp\"] = df_md[\"private_sndStamp\"].apply(lambda _: pandas.Timestamp(Time(_, format=\"unix_tai\").utc.datetime, tz=\"UTC\"))\n",
    "# time of visit publication; UTC in unix seconds\n",
    "df_md[\"ts_efdStamp\"] = df_md[\"private_efdStamp\"].apply(lambda _: pandas.Timestamp.fromtimestamp(_, tz=\"UTC\")) \n",
    "# Let them be private \n",
    "df_md[\"ts_rcvStamp\"] = df_md[\"private_rcvStamp\"].apply(lambda _: pandas.Timestamp.fromtimestamp(_, tz=\"UTC\")) \n",
    "df_md[\"ts_kafkaStamp\"] = df_md[\"private_kafkaStamp\"].apply(lambda _: pandas.Timestamp.fromtimestamp(_, tz=\"UTC\")) "
   ]
  },
  {
   "cell_type": "code",
   "execution_count": null,
   "id": "2cab28cd-2698-45b5-bcb5-0f95e3618642",
   "metadata": {},
   "outputs": [],
   "source": [
    "columns = [\"ts_sndStamp\", \"ts_begin\", \"ts_end\", \"ts_raw\", \"ts_output\"]\n",
    "df0 = pandas.merge(df_md[columns],\n",
    "                   df_loki, \n",
    "                   # only those with data in butler, not those groups with events but no data taken.\n",
    "                   how=\"left\",\n",
    "                   left_index=True, right_index=True, validate=\"one_to_one\",)"
   ]
  },
  {
   "cell_type": "code",
   "execution_count": null,
   "id": "a77cdfd2-297d-4926-b0f1-7a9f793c7ac3",
   "metadata": {},
   "outputs": [],
   "source": [
    "df2 = pandas.DataFrame(index=df0.index)\n",
    "ref = \"ts_sndStamp\"\n",
    "for col_name in df0.columns:\n",
    "    df2[col_name] = (df0[col_name] - df0[ref]).dt.total_seconds()\n",
    "\n",
    "df2[[\"ts_sndStamp\", \"ts_waitSnap\",\"ts_begin\",\"ts_end\", \"ts_runPipe1\", \"ts_outputSa\", \"ts_raw\", \"ts_output\"]].plot(\n",
    "    kind=\"hist\", title=f\"{date}; ref={ref}\", xlabel=\"seconds\", ylabel=\"\", bins=150,\n",
    "    alpha=0.5, rot=45, \n",
    ")\n",
    "\n",
    "df2.describe()"
   ]
  },
  {
   "cell_type": "code",
   "execution_count": null,
   "id": "c6ec5219-0964-414a-b3f5-21ebf88194f9",
   "metadata": {},
   "outputs": [],
   "source": [
    "df2 = pandas.DataFrame(index=df0.index)\n",
    "ref = \"ts_end\"\n",
    "for col_name in df0.columns:\n",
    "    df2[col_name] = (df0[col_name] - df0[ref]).dt.total_seconds()\n",
    "\n",
    "df2[[\"ts_sndStamp\", \"ts_waitSnap\",\"ts_begin\",\"ts_end\", \"ts_runPipe1\", \"ts_raw\", \"ts_output\"]].plot(\n",
    "    kind=\"hist\", title=f\"{date}; ref={ref}\", xlabel=\"seconds\", ylabel=\"\", bins=150,\n",
    "    alpha=0.5, rot=45, \n",
    ")\n",
    "\n",
    "df2.describe()"
   ]
  },
  {
   "cell_type": "code",
   "execution_count": null,
   "id": "299216ec-0637-43f3-a153-82e0e2b930be",
   "metadata": {},
   "outputs": [],
   "source": [
    "ax = df2.plot.box(title=f\"{date}; ref={ref}\", ylabel=\"seconds\", figsize=(12,5),\n",
    "             column=df2.median().sort_values().index.tolist(),\n",
    ")\n",
    "ax.legend(labels=df2.median().sort_values().to_string().split(\"\\n\"), \n",
    "          loc=\"lower right\", title=\"median\", handlelength=0)"
   ]
  },
  {
   "cell_type": "code",
   "execution_count": null,
   "id": "9ed3aa0b-cfde-47da-ab21-fc1799875e49",
   "metadata": {},
   "outputs": [],
   "source": []
  }
 ],
 "metadata": {
  "kernelspec": {
   "display_name": "LSST",
   "language": "python",
   "name": "lsst"
  },
  "language_info": {
   "codemirror_mode": {
    "name": "ipython",
    "version": 3
   },
   "file_extension": ".py",
   "mimetype": "text/x-python",
   "name": "python",
   "nbconvert_exporter": "python",
   "pygments_lexer": "ipython3",
   "version": "3.11.7"
  }
 },
 "nbformat": 4,
 "nbformat_minor": 5
}
