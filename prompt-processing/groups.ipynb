{
 "cells": [
  {
   "cell_type": "markdown",
   "id": "7c0def35-3c83-4cec-be85-47d6703ee73f",
   "metadata": {},
   "source": [
    "# Prompt Processing Group Summary for {{ params.date }}"
   ]
  },
  {
   "cell_type": "code",
   "execution_count": null,
   "id": "52b5ccf4-48c8-4616-bb35-dbb2e41ec57b",
   "metadata": {},
   "outputs": [],
   "source": [
    "# Times Square parameters\n",
    "date = \"2024-04-01\"\n",
    "instrument = \"LATISS\"\n",
    "survey = \"AUXTEL_PHOTO_IMAGING\"\n",
    "mode = \"INFO\""
   ]
  },
  {
   "cell_type": "code",
   "execution_count": null,
   "id": "eb778a07-569e-4c33-9c06-8f64c5a3d584",
   "metadata": {},
   "outputs": [],
   "source": [
    "dayobs = int(date.replace(\"-\", \"\"))"
   ]
  },
  {
   "cell_type": "code",
   "execution_count": null,
   "id": "c8a5cf56-490f-404c-86a0-c099545d982e",
   "metadata": {},
   "outputs": [],
   "source": [
    "from astropy.time import Time, TimeDelta\n",
    "import boto3\n",
    "import json\n",
    "\n",
    "%matplotlib inline\n",
    "import matplotlib.pyplot as plt\n",
    "import pandas\n",
    "import re\n",
    "from lsst_efd_client import EfdClient"
   ]
  },
  {
   "cell_type": "code",
   "execution_count": null,
   "id": "93b4d023-2b69-4293-9f33-9376f28d2854",
   "metadata": {},
   "outputs": [],
   "source": [
    "import logging\n",
    "\n",
    "logger = logging.getLogger(\"analysis\")\n",
    "level = getattr(logging, mode)\n",
    "logger.setLevel(level)"
   ]
  },
  {
   "cell_type": "code",
   "execution_count": null,
   "id": "0ecfe2ea-ad10-42a2-9820-5614d22c6216",
   "metadata": {},
   "outputs": [],
   "source": [
    "match instrument:\n",
    "    case \"LATISS\":\n",
    "        sal_index = 2\n",
    "        n_detector = 1\n",
    "    case \"LSSTComCamSim\":\n",
    "        sal_index = 3\n",
    "        n_detector = 9\n",
    "    case _:\n",
    "        logger.error(f\"Unknown instrument {instrument}\")"
   ]
  },
  {
   "cell_type": "code",
   "execution_count": null,
   "id": "d5d733f8-8bbd-4a63-81d9-7451583e43d2",
   "metadata": {},
   "outputs": [],
   "source": [
    "async def get_df_from_next_visit_events(date):\n",
    "    client = EfdClient(\"usdf_efd\")\n",
    "\n",
    "    start = Time(date, scale=\"utc\", format=\"isot\") + TimeDelta(\n",
    "        12 * 60 * 60, format=\"sec\"\n",
    "    )\n",
    "    end = start + TimeDelta(1, format=\"jd\")\n",
    "\n",
    "    topic = \"lsst.sal.ScriptQueue.logevent_nextVisit\"\n",
    "    df = await client.select_time_series(topic, [\"*\"], start.utc, end.utc)\n",
    "    all_canceled = await client.select_time_series(\n",
    "        topic + \"Canceled\", [\"*\"], start.utc, end.utc\n",
    "    )\n",
    "\n",
    "    if df.empty:\n",
    "        logger.info(f\"No events on {date}\")\n",
    "        return None\n",
    "\n",
    "    # Only select on-sky AuxTel imaging survey\n",
    "    df = df.loc[\n",
    "        (df[\"coordinateSystem\"] == 2)\n",
    "        & (df[\"salIndex\"] == sal_index)\n",
    "        & (df[\"survey\"] == survey)\n",
    "    ].set_index(\"groupId\")\n",
    "    logger.info(f\"There were {len(df)} {survey} nextVisit events on {date}\")\n",
    "\n",
    "    # Ignore the explicitly canceled groups\n",
    "    if not all_canceled.empty:\n",
    "        canceled = df.index.intersection(\n",
    "            all_canceled.set_index(\"groupId\").index\n",
    "        ).tolist()\n",
    "        if canceled:\n",
    "            logger.info(f\"{len(canceled)} events were canceled {canceled}\")\n",
    "            df = df.drop(canceled)\n",
    "\n",
    "    return df"
   ]
  },
  {
   "cell_type": "code",
   "execution_count": null,
   "id": "84a6ef03-6e7a-4ec2-a857-ff2971b89578",
   "metadata": {},
   "outputs": [],
   "source": [
    "df_efd = await get_df_from_next_visit_events(date)"
   ]
  },
  {
   "cell_type": "code",
   "execution_count": null,
   "id": "38550ad1-0a8b-493c-b1a2-85ac94b70083",
   "metadata": {},
   "outputs": [],
   "source": []
  },
  {
   "cell_type": "code",
   "execution_count": null,
   "id": "b7b45d8f-09a4-4057-a5da-e8f28b7f27cf",
   "metadata": {},
   "outputs": [],
   "source": [
    "from lsst.daf.butler import Butler\n",
    "\n",
    "butler = Butler(\"/repo/embargo\", writeable=False)"
   ]
  },
  {
   "cell_type": "code",
   "execution_count": null,
   "id": "41f8c952-395f-40a8-9891-1415846704b9",
   "metadata": {},
   "outputs": [],
   "source": [
    "results = butler.registry.queryDimensionRecords(\n",
    "    \"exposure\",\n",
    "    where=\"exposure.science_program IN (survey) \"\n",
    "    \"and instrument=instrument_name and exposure.day_obs=dayobs  \",\n",
    "    bind={\"dayobs\": dayobs, \"instrument_name\": instrument, \"survey\": survey},\n",
    ")\n",
    "logger.info(f\"Found {results.count()} raw exposure records in {butler} for {dayobs}\")\n",
    "\n",
    "embargo_records = dict()\n",
    "for record in results:\n",
    "    embargo_records[record.id] = record\n",
    "\n",
    "if embargo_records:\n",
    "    df_butler = pandas.DataFrame.from_records(\n",
    "        [embargo_records[num].toDict() for num in embargo_records]\n",
    "    ).set_index(\"group_name\")\n",
    "else:\n",
    "    df_butler = None\n",
    "    logger.warning(\"No raw records found in /repo/embargo. Notebook will fail.\")"
   ]
  },
  {
   "cell_type": "code",
   "execution_count": null,
   "id": "3bcd8dfe-86c6-4c41-875a-6b90648367c5",
   "metadata": {},
   "outputs": [],
   "source": [
    "groups_no_raw = set(df_efd.index) - set(df_butler.index)\n",
    "if groups_no_raw:\n",
    "    logger.info(\n",
    "        f\"{len(groups_no_raw)} group had records in EFD but no raws in the embargo butler: {groups_no_raw}\"\n",
    "    )"
   ]
  },
  {
   "cell_type": "code",
   "execution_count": null,
   "id": "ecec251e-466d-46f1-9420-ac0c9e39a6e6",
   "metadata": {},
   "outputs": [],
   "source": [
    "df_efd = df_efd.drop(groups_no_raw)"
   ]
  },
  {
   "cell_type": "code",
   "execution_count": null,
   "id": "a9032204-01f8-4c48-85aa-92d5b28f9244",
   "metadata": {},
   "outputs": [],
   "source": [
    "if len(df_efd) != len(df_butler):\n",
    "    logger.warning(\"Counts do not match; need attention\")"
   ]
  },
  {
   "cell_type": "code",
   "execution_count": null,
   "id": "d8074d56-f0d2-403b-bc72-1be0824e43d9",
   "metadata": {},
   "outputs": [],
   "source": [
    "df_md = pandas.merge(\n",
    "    df_efd.reset_index(),\n",
    "    df_butler.reset_index(),\n",
    "    how=\"outer\",\n",
    "    left_on=\"groupId\",\n",
    "    right_on=\"group_name\",\n",
    "    suffixes=(\"_efd\", \"_butler\"),\n",
    "    validate=\"one_to_one\",\n",
    ").set_index(\"groupId\")\n",
    "\n",
    "logger.info(f\"Total: {len(df_md)} groups in the table\")"
   ]
  },
  {
   "cell_type": "code",
   "execution_count": null,
   "id": "0cc8f214-6ac2-4430-ac45-3cc69ef565c4",
   "metadata": {},
   "outputs": [],
   "source": [
    "boring_cols = [\n",
    "    \"instrument_efd\",\n",
    "    \"instrument_butler\",\n",
    "    \"science_program\",\n",
    "    \"observation_reason\",\n",
    "    \"observation_type\",\n",
    "    \"has_simulated\",\n",
    "    \"dome\",\n",
    "    \"coordinateSystem\",\n",
    "    \"rotationSystem\",\n",
    "    \"private_identity\",\n",
    "    \"private_origin\",\n",
    "    \"private_revCode\",\n",
    "    \"salIndex\",\n",
    "    \"totalCheckpoints\",\n",
    "    \"nimages\",\n",
    "    \"day_obs\",\n",
    "    \"survey\",\n",
    "    \"exposure_time\",\n",
    "]\n",
    "for col in boring_cols:\n",
    "    if df_md[col].nunique() == 1:\n",
    "        logger.debug(f\"column {col} has only {df_md[col].unique()}\")\n",
    "        df_md.drop(\n",
    "            columns=[\n",
    "                col,\n",
    "            ],\n",
    "            inplace=True,\n",
    "        )\n",
    "    else:\n",
    "        logger.warning(f\"Column {col} has {df_md[col].unique()}\")"
   ]
  },
  {
   "cell_type": "code",
   "execution_count": null,
   "id": "55908452-ec11-4adb-8631-827fe1afb9f2",
   "metadata": {},
   "outputs": [],
   "source": [
    "for col in (\"physical_filter\",):\n",
    "    logger.info(f\"Column {col} has {df_md[col].unique()}\")"
   ]
  },
  {
   "cell_type": "code",
   "execution_count": null,
   "id": "42722584-834e-4220-bff0-edd71e9e6c6c",
   "metadata": {},
   "outputs": [],
   "source": [
    "logger.debug(f\"Columns: {df_md.columns.to_list()}\")"
   ]
  },
  {
   "cell_type": "code",
   "execution_count": null,
   "id": "7dfbddf8-0243-49fc-bc27-09f8eee6e2ad",
   "metadata": {},
   "outputs": [],
   "source": [
    "df_md[\"offset_ra\"] = df_md[\"position0\"] - df_md[\"tracking_ra\"]\n",
    "df_md[\"offset_dec\"] = df_md[\"position1\"] - df_md[\"tracking_dec\"]\n",
    "df_md[\"offset_ang\"] = (df_md[\"cameraAngle\"] - df_md[\"sky_angle\"])%360.0 "
   ]
  },
  {
   "cell_type": "code",
   "execution_count": null,
   "id": "9c5ace6e-4fef-4a0e-a656-e742cb49d2cd",
   "metadata": {},
   "outputs": [],
   "source": [
    "if level < 20:\n",
    "    display(\n",
    "        df_md[\n",
    "            [\n",
    "                \"seq_num\",\n",
    "                \"position0\",\n",
    "                \"tracking_ra\",\n",
    "                \"offset_ra\",\n",
    "                \"position1\",\n",
    "                \"tracking_dec\",\n",
    "                \"offset_dec\",\n",
    "                \"cameraAngle\",\n",
    "                \"sky_angle\",\n",
    "                \"offset_ang\",\n",
    "                \"physical_filter\",\n",
    "                \"id\",\n",
    "            ]\n",
    "        ]\n",
    "    )"
   ]
  },
  {
   "cell_type": "code",
   "execution_count": null,
   "id": "36a85638-1f14-4bcf-9c9a-c0cfcedd6f9a",
   "metadata": {},
   "outputs": [],
   "source": [
    "df_md[[\"offset_ra\", \"offset_dec\", \"offset_ang\"]].describe()"
   ]
  },
  {
   "cell_type": "code",
   "execution_count": null,
   "id": "a1d55542-e606-48b0-9393-67fe0dac70fe",
   "metadata": {},
   "outputs": [],
   "source": [
    "if instrument != \"LATISS\":\n",
    "    logger.warning(f\"The rest of the notebook is not ready for {instrument}\")"
   ]
  },
  {
   "cell_type": "code",
   "execution_count": null,
   "id": "dd60128d-d8aa-4481-b6cd-ccf98866a718",
   "metadata": {},
   "outputs": [],
   "source": []
  },
  {
   "cell_type": "code",
   "execution_count": null,
   "id": "1a182ce5-4541-40c3-bc75-e5be75feede1",
   "metadata": {},
   "outputs": [],
   "source": [
    "def get_exposure_id(butler, dayobs: int):\n",
    "    \"\"\"\n",
    "    Returns\n",
    "    -------\n",
    "    df : `pandas.DataFrame`\n",
    "    \"\"\"\n",
    "    results = butler.registry.queryDimensionRecords(\n",
    "        \"exposure\",\n",
    "        where=\"instrument=instrument_name and exposure.observation_type='science' and\"\n",
    "        \" exposure.day_obs=dayobs\",\n",
    "        bind={\"dayobs\": dayobs, \"instrument_name\": instrument},\n",
    "    )\n",
    "\n",
    "    df = pandas.DataFrame(\n",
    "        [(_.group_name, _.id) for _ in results], columns=[\"groupId\", \"expId\"]\n",
    "    ).set_index(\"groupId\")\n",
    "\n",
    "    return df"
   ]
  },
  {
   "cell_type": "code",
   "execution_count": null,
   "id": "fbdd3851-6ec4-4706-bd74-dd35ccb4839c",
   "metadata": {},
   "outputs": [],
   "source": [
    "def get_df_file(df_expId, butler, datasetType, where=\"\", collections=...):\n",
    "    \"\"\"\n",
    "    Get the last-moditied timestamps of the dataset files in a bucket-based butler repo at USDF\n",
    "\n",
    "    Returns\n",
    "    -------\n",
    "    df : `pandas.DataFrame`\n",
    "    \"\"\"\n",
    "    s3_endpoint = \"https://s3dfrgw.slac.stanford.edu\"\n",
    "    s3client = boto3.client(\"s3\", endpoint_url=s3_endpoint)\n",
    "    refs = butler.registry.queryDatasets(\n",
    "        datasetType=datasetType,\n",
    "        collections=collections,\n",
    "        where=where,\n",
    "    )\n",
    "\n",
    "    timestamps = list()\n",
    "    dimension = None\n",
    "    if not refs.count():\n",
    "        logger.warning(f\"No {datasetType} were found. Expect errors.\")\n",
    "    for ref in refs:\n",
    "        if not dimension:\n",
    "            if \"visit\" in ref.dataId:\n",
    "                dimension = \"visit\"\n",
    "            else:\n",
    "                dimension = \"exposure\"\n",
    "        fits_uri = butler.getURI(ref)\n",
    "        time_written = s3client.head_object(\n",
    "            Bucket=fits_uri.netloc,\n",
    "            Key=fits_uri.relativeToPathRoot,\n",
    "        )[\"LastModified\"]\n",
    "        timestamps.append((ref.dataId[dimension], ref.dataId[\"detector\"], time_written))\n",
    "\n",
    "    df = pandas.DataFrame.from_records(data=timestamps, columns=[\"expId\", \"detector\", \"file\"])\n",
    "    df = pandas.merge(\n",
    "        df,\n",
    "        df_expId.reset_index(),\n",
    "        left_on=\"expId\",\n",
    "        right_on=\"expId\",\n",
    "        how=\"left\",\n",
    "        validate=\"many_to_one\",\n",
    "    ).set_index(\"groupId\")\n",
    "    return df"
   ]
  },
  {
   "cell_type": "code",
   "execution_count": null,
   "id": "55208bb3-d4a8-4d5e-a1c1-53e464db29f9",
   "metadata": {},
   "outputs": [],
   "source": [
    "df_expId = get_exposure_id(butler, dayobs)"
   ]
  },
  {
   "cell_type": "code",
   "execution_count": null,
   "id": "0b423ff9-f41a-47cc-a331-15700334e910",
   "metadata": {},
   "outputs": [],
   "source": [
    "df_raw = get_df_file(\n",
    "    df_expId,\n",
    "    butler,\n",
    "    \"raw\",\n",
    "    collections=[f\"{instrument}/raw/all\"],\n",
    "    where=f\"exposure.science_program IN ('{survey}') and instrument='{instrument}' and exposure.day_obs={dayobs}\",\n",
    ")"
   ]
  },
  {
   "cell_type": "code",
   "execution_count": null,
   "id": "3fd370c4-8389-4006-b23f-ee6a7f5852f2",
   "metadata": {},
   "outputs": [],
   "source": [
    "if len(df_raw) != len(df_md) * n_detector:\n",
    "    logger.warning(\"Counts of raw files do not match; need attention\")"
   ]
  },
  {
   "cell_type": "code",
   "execution_count": null,
   "id": "71fc7e31-3c39-4bde-a2cd-86e255b44ac0",
   "metadata": {},
   "outputs": [],
   "source": [
    "df_md2 = df_md.merge(\n",
    "    df_raw[[\"file\", \"detector\"]],\n",
    "    how=\"outer\",\n",
    "    left_index=True,\n",
    "    right_index=True,\n",
    "    validate=\"one_to_many\",\n",
    ")"
   ]
  },
  {
   "cell_type": "code",
   "execution_count": null,
   "id": "345f7d89-fa0d-4594-8d83-7b13b838d30d",
   "metadata": {},
   "outputs": [],
   "source": [
    "df_md2.rename(columns={\"file\": \"ts_raw\"}, inplace=True)"
   ]
  },
  {
   "cell_type": "code",
   "execution_count": null,
   "id": "362b8a09-536b-4060-b78c-f1a380f86ade",
   "metadata": {},
   "outputs": [],
   "source": [
    "output_chain = f\"{instrument}/prompt/output-{date}\"\n",
    "collections = [_ for _ in butler.registry.queryCollections(output_chain, flattenChains=True)]\n",
    "logger.info(f\"Output chain {output_chain} has {collections}\")"
   ]
  },
  {
   "cell_type": "code",
   "execution_count": null,
   "id": "b8d64d58-c4d7-4eae-86f7-d13d40d71442",
   "metadata": {},
   "outputs": [],
   "source": [
    "def count_files(dataset_type = \"isr_log\"):\n",
    "    df = get_df_file(\n",
    "        df_expId,\n",
    "        butler,\n",
    "        dataset_type,\n",
    "        collections=collections,\n",
    "    )\n",
    "    count = len(df[df[\"file\"].notnull()].index)\n",
    "    logger.info(f\"{count} {dataset_type} were stored\")\n",
    "    return df"
   ]
  },
  {
   "cell_type": "code",
   "execution_count": null,
   "id": "014c2f3c-1441-4567-aadf-bf14da1369ff",
   "metadata": {},
   "outputs": [],
   "source": [
    "tasks = [\"isr\", \"calibrateImage\", \"retrieveTemplate\", \"subtractImages\",\n",
    "         \"detectAndMeasure\", \"diffimTaskCore\", \"filterDiaSrcCat\",\n",
    "         \"transformDiaSrcCat\", \"diaPipe\"]"
   ]
  },
  {
   "cell_type": "code",
   "execution_count": null,
   "id": "c8fbfa89-b312-4005-86d2-d425e8f793e1",
   "metadata": {},
   "outputs": [],
   "source": [
    "for dataset_type in [_+\"_log\" for _ in tasks]:\n",
    "    count_files(dataset_type)"
   ]
  },
  {
   "cell_type": "code",
   "execution_count": null,
   "id": "70dd7e2d",
   "metadata": {},
   "outputs": [],
   "source": [
    "df_output = count_files(\"initial_pvi\")\n",
    "count = len(df_output[df_output[\"file\"].notnull()].index)\n",
    "df_output = count_files(\"apdb_marker\")"
   ]
  },
  {
   "cell_type": "code",
   "execution_count": null,
   "id": "09bb5c43",
   "metadata": {},
   "outputs": [],
   "source": [
    "if count:\n",
    "    df_md2 = df_md2.merge(\n",
    "        df_output,\n",
    "        how=\"outer\",\n",
    "        on=[\"groupId\", \"detector\"],\n",
    "        validate=\"one_to_one\",\n",
    "    )\n",
    "    df_md2.rename(columns={\"file\": \"ts_output\"}, inplace=True)"
   ]
  },
  {
   "cell_type": "code",
   "execution_count": null,
   "id": "2923eaf9-75b5-4d6e-9e21-f447be8a7513",
   "metadata": {},
   "outputs": [],
   "source": []
  },
  {
   "cell_type": "code",
   "execution_count": null,
   "id": "3c0e28e9-7b35-419f-ab5b-b1560de18e28",
   "metadata": {},
   "outputs": [],
   "source": [
    "def get_loki_command_with_phrase(time_start, time_end, phrase, extra=f\" |~ \\\"{instrument}\\\"\"):\n",
    "    command = f\"\"\"/sdf/data/rubin/user/hchiang2/times_square/logcli-linux-amd64 --output=jsonl --tls-skip-verify query --addr=http://sdfloki.slac.stanford.edu:80 --timezone=UTC -q --limit=2000 --from=\"{time_start}\" --to=\"{time_end}\" --proxy-url=http://sdfproxy.sdf.slac.stanford.edu:3128  '{{namespace=\"vcluster--usdf-prompt-processing\", container=\"user-container\", pod=~\"prompt-proto-service-.+\"}} |~ \"{phrase}\" {extra} ' \"\"\"\n",
    "    return command"
   ]
  },
  {
   "cell_type": "code",
   "execution_count": null,
   "id": "5e783edc-f809-430d-9a3a-d340c1e761ea",
   "metadata": {},
   "outputs": [],
   "source": [
    "def get_df_from_loki(date, search_phrase=\"Waiting for snaps\", extra=f\" |~ \\\"{instrument}\\\"\"):\n",
    "    start = Time(date, scale=\"utc\", format=\"isot\") + TimeDelta(\n",
    "        12 * 60 * 60, format=\"sec\"\n",
    "    )\n",
    "    end = start + TimeDelta(1, format=\"jd\")\n",
    "    command = get_loki_command_with_phrase(\n",
    "        start.strftime(\"%Y-%m-%dT%H:%M:%SZ\"),\n",
    "        end.strftime(\"%Y-%m-%dT%H:%M:%SZ\"),\n",
    "        search_phrase,\n",
    "        extra,\n",
    "    )\n",
    "    results = !{command}\n",
    "    logger.debug(f\"Got {len(results)} Loki records for {search_phrase}\")\n",
    "    if not results:\n",
    "        return pandas.DataFrame(columns=[\"group\", \"detector\", \"ts\"])\n",
    "\n",
    "    data = [json.loads(_) for _ in results]\n",
    "    df = pandas.json_normalize(data)\n",
    "    df = df.merge(\n",
    "        pandas.json_normalize(df[\"line\"].apply(json.loads)),\n",
    "        left_index=True,\n",
    "        right_index=True,\n",
    "    ).drop(columns=[\"line\"])\n",
    "\n",
    "    if \"group\" not in df.columns and \"message\" in df.columns:\n",
    "        df[\"group\"] = df[\"message\"].str.extract(r\"groupId='([T:.\\d-]*)',\")\n",
    "        df[\"detector\"] = df[\"message\"].str.extract(r\"detector=(\\d*),\")\n",
    "    if \"detector\" not in df.columns:\n",
    "        logger.info(f\"Missing detector info in Loki querying {search_phrase}\")\n",
    "        df[\"detector\"] = -1\n",
    "    else:\n",
    "        df[\"detector\"] = df[\"detector\"].astype({'detector': 'int32'})\n",
    "    df[\"ts\"] = pandas.to_datetime(df[\"timestamp\"])\n",
    "\n",
    "    return df[[\"group\", \"detector\", \"ts\"]]"
   ]
  },
  {
   "cell_type": "code",
   "execution_count": null,
   "id": "246b8632-4f90-49be-8376-5ef1911a67bc",
   "metadata": {},
   "outputs": [],
   "source": [
    "phrases = {\n",
    "    \"unpckMsg\": f'Unpacked message as \" |~ \"{survey}',\n",
    "    \"prepBtlr\": \"Preparing Butler for visit\",\n",
    "    \"waitSnap\": \"Waiting for snaps\",\n",
    "    \"runPipe1\": \"Running pipeline\",\n",
    "    \"pipeSucc\": \"Pipeline successfully run\",\n",
    "    # There can be more than 1 of this log line per exposure when retry...\n",
    "    \"outputSa\": \"Pipeline products saved to collection\",\n",
    "    \"timeout1\": \"Timed out waiting for image after receiving exposures \",\n",
    "    \"dbConErr\": f'SSL connection has been closed unexpectedly\" |~ \"Traceback',\n",
    "    \"brokrErr\" : \"Failed to get metadata: Local: Broker transport failure\",\n",
    "}"
   ]
  },
  {
   "cell_type": "code",
   "execution_count": null,
   "id": "26aaf735-24df-430a-a8b2-aa99bba4789c",
   "metadata": {},
   "outputs": [],
   "source": [
    "def examine_log(key):\n",
    "    df2 = get_df_from_loki(date, phrases[key])\n",
    "    ids = df2[df2[\"ts\"].notnull()][[\"group\", \"detector\"]]\n",
    "    if len(ids):\n",
    "        logger.debug(f\"{len(ids)}   with error {phrases[key]}: {ids} \")\n",
    "    phrases.pop(key)"
   ]
  },
  {
   "cell_type": "code",
   "execution_count": null,
   "id": "bc5bc9c5-bfc1-49cf-81f5-04c34b2743bf",
   "metadata": {},
   "outputs": [],
   "source": [
    "for _ in (\"timeout1\", \"dbConErr\", \"brokrErr\"):\n",
    "    examine_log(_)"
   ]
  },
  {
   "cell_type": "code",
   "execution_count": null,
   "id": "9afa63c6-359f-486c-805f-684bf86c7ae2",
   "metadata": {},
   "outputs": [],
   "source": [
    "df_loki = pandas.DataFrame(columns=[\"group\", \"detector\"])\n",
    "for phrase in phrases:\n",
    "    df2 = get_df_from_loki(date, phrases[phrase]).rename(columns={\"ts\": \"ts_\" + phrase})\n",
    "    df_loki = df_loki.merge(\n",
    "        df2,\n",
    "        on=[\"group\", \"detector\"],\n",
    "        how=\"outer\",\n",
    "        validate=\"one_to_one\",\n",
    "    )\n",
    "df_loki = df_loki.rename(columns={\"group\": \"groupId\"}).set_index([\"groupId\", \"detector\"])\n"
   ]
  },
  {
   "cell_type": "code",
   "execution_count": null,
   "id": "4add2661-4b4e-495e-a5e5-8c780670d73b",
   "metadata": {},
   "outputs": [],
   "source": [
    "if df_loki.empty and not df_md2.empty:\n",
    "    logger.warning(\"No Loki query results. Possible data loss or service issue.\")"
   ]
  },
  {
   "cell_type": "code",
   "execution_count": null,
   "id": "034239fc-f95d-4a5e-9484-ab2b7c4e599d",
   "metadata": {},
   "outputs": [],
   "source": [
    "phases = [\"raw\"] + list(phrases.keys())\n",
    "groups = dict()\n",
    "groups[\"raw\"] = set(df_md2.index)\n",
    "for ph in [\"unpckMsg\", \"prepBtlr\", \"waitSnap\", \"runPipe1\", \"pipeSucc\", \"outputSa\"]:\n",
    "    groups[ph] = set(df_loki[\"ts_\" + ph].dropna().reset_index(\"detector\").index)\n",
    "\n",
    "for i in range(len(groups)):\n",
    "    no_raw = set(groups[phases[i]]) - set(groups[\"raw\"])\n",
    "    extra = f\"{len(no_raw)} no files {no_raw}\" if no_raw else \"\"\n",
    "    logger.info(f\"{len(groups[phases[i]])} groups at {phases[i]}.  {extra} \")\n",
    "\n",
    "    if i > 0:\n",
    "        groups_diff = set(groups[phases[i - 1]]) - set(groups[phases[i]])\n",
    "        if groups_diff:\n",
    "            logger.info(\n",
    "                \" \" * 4\n",
    "                + f\"{len(groups_diff)} {phases[i-1]}-{phases[i]}\\n\"\n",
    "                + \" \".join(groups_diff)\n",
    "            )\n",
    "        if i == 5:\n",
    "            groups_diff = set(groups[phases[i + 1]]) - set(groups[phases[i]])\n",
    "            if groups_diff:\n",
    "                logger.info(\n",
    "                    \" \" * 4\n",
    "                    + f\"{len(groups_diff)} {phases[i+1]}-{phases[i]}, likely partial outputs\\n\"\n",
    "                    + \" \".join(groups_diff)\n",
    "                )"
   ]
  },
  {
   "cell_type": "code",
   "execution_count": null,
   "id": "653dc629-a46a-4f0b-ae19-4405bded5445",
   "metadata": {},
   "outputs": [],
   "source": [
    "def get_loki_command_with_phrase_fanout(time_start, time_end, phrase, extra=\"\"):\n",
    "    command = f\"\"\"/sdf/data/rubin/user/hchiang2/times_square/logcli-linux-amd64 --output=jsonl --tls-skip-verify query --addr=http://sdfloki.slac.stanford.edu:80 --timezone=UTC -q --limit=2000 --from=\"{time_start}\" --to=\"{time_end}\" --proxy-url=http://sdfproxy.sdf.slac.stanford.edu:3128  '{{app=\"vcluster--usdf-prompt-processing\",pod=~\"next-visit-fan-out-.+\"}} |~ \"group\" |~ \"{phrase}\" {extra} ' \"\"\"\n",
    "    return command"
   ]
  },
  {
   "cell_type": "code",
   "execution_count": null,
   "id": "5df695e1",
   "metadata": {},
   "outputs": [],
   "source": [
    "def get_df_from_loki_fanout(date, search_phrase=\"status code 502\", extra=\"\"):\n",
    "    start = Time(date, scale=\"utc\", format=\"isot\") + TimeDelta(\n",
    "        12 * 60 * 60, format=\"sec\"\n",
    "    )\n",
    "    end = start + TimeDelta(1, format=\"jd\")\n",
    "    command = get_loki_command_with_phrase_fanout(\n",
    "        start.strftime(\"%Y-%m-%dT%H:%M:%SZ\"),\n",
    "        end.strftime(\"%Y-%m-%dT%H:%M:%SZ\"),\n",
    "        search_phrase,\n",
    "        extra,\n",
    "    )\n",
    "    results = !{command}\n",
    "    logger.debug(f\"Got {len(results)} Loki records with fanout {search_phrase}\")\n",
    "    fanout = dict()\n",
    "    pattern = re.compile(\n",
    "        r\".*group(Id': '| id )(?P<group>[^' ]*).*timestamp\\\":\\\"(?P<timestamp>\\S*)\\\"\"\n",
    "    )\n",
    "    for result in results:\n",
    "        m = pattern.match(result)\n",
    "        if m:\n",
    "            fanout[m[\"group\"]] = [pandas.to_datetime(m[\"timestamp\"])]\n",
    "\n",
    "    df = pandas.DataFrame.from_dict(fanout, orient=\"index\", columns=[\"ts\"])\n",
    "    df = df.rename_axis(\"groupId\")\n",
    "\n",
    "    return df"
   ]
  },
  {
   "cell_type": "code",
   "execution_count": null,
   "id": "4acdc6c1-7b05-4398-a407-6fd53f277d7a",
   "metadata": {},
   "outputs": [],
   "source": [
    "groups502 = get_df_from_loki_fanout(date, \"status code 502\").index.to_list()"
   ]
  },
  {
   "cell_type": "code",
   "execution_count": null,
   "id": "1b411ce0-e585-4832-af3b-f28f74a8cd64",
   "metadata": {},
   "outputs": [],
   "source": [
    "groups = set(groups502) - set(df_butler.index.to_list())\n",
    "if groups:\n",
    "    logger.debug(f\"These had no image but also got status 502\\n\" + \" \".join(groups))"
   ]
  },
  {
   "cell_type": "code",
   "execution_count": null,
   "id": "ed839356-c820-4323-a40e-6a23b764ec35",
   "metadata": {},
   "outputs": [],
   "source": [
    "groups = set(groups502) & set(df_butler.index.to_list())\n",
    "logger.info(\n",
    "    f\"{len(groups)} groups likely had their pods shutdown prematurely\\n\"\n",
    "    + \" \".join(groups)\n",
    ")"
   ]
  },
  {
   "cell_type": "code",
   "execution_count": null,
   "id": "f96dc090-8d7b-47b0-a86a-531f496d6c01",
   "metadata": {},
   "outputs": [],
   "source": [
    "# This plot only uses Loki timestamp.  Hence it includes groups with no data taken.\n",
    "df1 = pandas.DataFrame(index=df_loki.index)\n",
    "ref = \"ts_unpckMsg\"\n",
    "for col_name in df_loki.columns:\n",
    "    # Notes: if the ref column doesn't exist, all become NaN in df1\n",
    "    # This can happens e.g. an exposure wasn't taken, so that group isn't in df_md2\n",
    "    df1[col_name] = (df_loki[col_name] - df_loki[ref]).dt.total_seconds()\n",
    "\n",
    "ax = df1.drop(columns=[ref]).plot(\n",
    "    kind=\"hist\",\n",
    "    title=f\"{date}; ref={ref}\",\n",
    "    xlabel=\"seconds\",\n",
    "    ylabel=\"\",\n",
    "    bins=50,\n",
    "    # subplots=True, layout=(2,4), figsize=(12,6),\n",
    "    alpha=0.5,\n",
    "    rot=45,\n",
    ")\n",
    "\n",
    "pandas.merge(\n",
    "    df1,\n",
    "    df_loki,\n",
    "    how=\"outer\",\n",
    "    left_index=True,\n",
    "    right_index=True,\n",
    "    suffixes=(\"_diff\", \"_loki\"),\n",
    "    validate=\"one_to_one\",\n",
    ").head()"
   ]
  },
  {
   "cell_type": "code",
   "execution_count": null,
   "id": "2a254629-67e2-46cb-a984-00026396a0d5",
   "metadata": {},
   "outputs": [],
   "source": [
    "df_md2[\"ts_begin\"] = df_md2[\"timespan\"].apply(\n",
    "    lambda _: pandas.Timestamp(_.begin.utc.datetime, tz=\"UTC\")\n",
    ")\n",
    "df_md2[\"ts_end\"] = df_md2[\"timespan\"].apply(\n",
    "    lambda _: pandas.Timestamp(_.end.utc.datetime, tz=\"UTC\")\n",
    ")\n",
    "\n",
    "# typically a small fraction of seconds before sndStamp\n",
    "df_md2[\"ts_group_utc\"] = df_md2[\"group_name\"].apply(\n",
    "    lambda _: pandas.Timestamp(Time(_, scale=\"tai\").utc.datetime, tz=\"UTC\")\n",
    ")\n",
    "\n",
    "# time of visit publication; TAI in unix seconds\n",
    "df_md2[\"ts_sndStamp\"] = df_md2[\"private_sndStamp\"].apply(\n",
    "    lambda _: pandas.Timestamp(Time(_, format=\"unix_tai\").utc.datetime, tz=\"UTC\")\n",
    ")\n",
    "# time of visit publication; UTC in unix seconds\n",
    "df_md2[\"ts_efdStamp\"] = df_md2[\"private_efdStamp\"].apply(\n",
    "    lambda _: pandas.Timestamp.fromtimestamp(_, tz=\"UTC\")\n",
    ")\n",
    "# Let them be private\n",
    "df_md2[\"ts_rcvStamp\"] = df_md2[\"private_rcvStamp\"].apply(\n",
    "    lambda _: pandas.Timestamp.fromtimestamp(_, tz=\"UTC\")\n",
    ")\n",
    "df_md2[\"ts_kafkaStamp\"] = df_md2[\"private_kafkaStamp\"].apply(\n",
    "    lambda _: pandas.Timestamp.fromtimestamp(_, tz=\"UTC\")\n",
    ")"
   ]
  },
  {
   "cell_type": "code",
   "execution_count": null,
   "id": "890e1db3-c890-4372-a2c2-7a4f61f23b24",
   "metadata": {},
   "outputs": [],
   "source": [
    "# When fan-out handles a group\n",
    "df = get_df_from_loki_fanout(date, \"message deserialized\", f'|~ \"{survey}\"')\n",
    "df.rename(columns={\"ts\": \"ts_fanout\"}, inplace=True)\n",
    "df_loki = df_loki.merge(\n",
    "    df,\n",
    "    on=\"groupId\",\n",
    "    how=\"outer\",\n",
    "    validate=\"one_to_one\",\n",
    ")"
   ]
  },
  {
   "cell_type": "code",
   "execution_count": null,
   "id": "2cab28cd-2698-45b5-bcb5-0f95e3618642",
   "metadata": {},
   "outputs": [],
   "source": [
    "columns = [\"ts_sndStamp\", \"ts_begin\", \"ts_end\", \"ts_raw\", \"ts_output\"]\n",
    "df0 = pandas.merge(\n",
    "    df_md2[columns],\n",
    "    df_loki,\n",
    "    # only those with data in butler, not those groups with events but no data taken.\n",
    "    how=\"left\",\n",
    "    left_index=True,\n",
    "    right_index=True,\n",
    "    validate=\"one_to_one\",\n",
    ")"
   ]
  },
  {
   "cell_type": "code",
   "execution_count": null,
   "id": "a77cdfd2-297d-4926-b0f1-7a9f793c7ac3",
   "metadata": {},
   "outputs": [],
   "source": [
    "df2 = pandas.DataFrame(index=df0.index)\n",
    "ref = \"ts_sndStamp\"\n",
    "for col_name in df0.columns:\n",
    "    df2[col_name] = (df0[col_name] - df0[ref]).dt.total_seconds()\n",
    "\n",
    "df2 = df2[[\"ts_sndStamp\", \"ts_fanout\", \"ts_unpckMsg\"]]\n",
    "ax = df2.plot(\n",
    "    kind=\"hist\",\n",
    "    title=f\"{date}; ref={ref}\",\n",
    "    xlabel=\"seconds\",\n",
    "    ylabel=\"\",\n",
    "    bins=150,\n",
    "    alpha=0.5,\n",
    "    rot=45,\n",
    ")\n",
    "\n",
    "ax.legend(\n",
    "    labels=df2.median().sort_values().to_string().split(\"\\n\"),\n",
    "    loc=\"upper right\",\n",
    "    title=\"median\",\n",
    ")"
   ]
  },
  {
   "cell_type": "code",
   "execution_count": null,
   "id": "9cbce0b7-3605-4607-9216-379c748c93aa",
   "metadata": {},
   "outputs": [],
   "source": [
    "df2 = pandas.DataFrame(index=df0.index)\n",
    "ref = \"ts_sndStamp\"\n",
    "for col_name in df0.columns:\n",
    "    df2[col_name] = (df0[col_name] - df0[ref]).dt.total_seconds()\n",
    "\n",
    "df2[\n",
    "    [\n",
    "        \"ts_sndStamp\",\n",
    "        \"ts_waitSnap\",\n",
    "        \"ts_begin\",\n",
    "        \"ts_end\",\n",
    "        \"ts_runPipe1\",\n",
    "        \"ts_outputSa\",\n",
    "        \"ts_raw\",\n",
    "        \"ts_output\",\n",
    "    ]\n",
    "].plot(\n",
    "    kind=\"hist\",\n",
    "    title=f\"{date}; ref={ref}\",\n",
    "    xlabel=\"seconds\",\n",
    "    ylabel=\"\",\n",
    "    bins=150,\n",
    "    alpha=0.5,\n",
    "    rot=45,\n",
    ")\n",
    "\n",
    "df2.describe()"
   ]
  },
  {
   "cell_type": "code",
   "execution_count": null,
   "id": "c6ec5219-0964-414a-b3f5-21ebf88194f9",
   "metadata": {},
   "outputs": [],
   "source": [
    "df2 = pandas.DataFrame(index=df0.index)\n",
    "ref = \"ts_end\"\n",
    "for col_name in df0.columns:\n",
    "    df2[col_name] = (df0[col_name] - df0[ref]).dt.total_seconds()\n",
    "\n",
    "ax = df2[\n",
    "    [\n",
    "        \"ts_sndStamp\",\n",
    "        \"ts_waitSnap\",\n",
    "        \"ts_begin\",\n",
    "        \"ts_end\",\n",
    "        \"ts_raw\",\n",
    "        \"ts_runPipe1\",\n",
    "        \"ts_output\",\n",
    "    ]\n",
    "].plot(\n",
    "    kind=\"hist\",\n",
    "    title=f\"{date}; ref={ref}\",\n",
    "    xlabel=\"seconds since exposure end\",\n",
    "    ylabel=\"counts\",\n",
    "    bins=150,\n",
    "    alpha=0.5,\n",
    "    rot=45,\n",
    ")\n",
    "\n",
    "ax.minorticks_on()\n",
    "ax.legend(\n",
    "    [\n",
    "        \"visit event publication\",\n",
    "        \"activator ready\",\n",
    "        \"exposure start\",\n",
    "        \"exposure end\",\n",
    "        \"raw file arrival at USDF\",\n",
    "        \"pipeline processing start\",\n",
    "        \"output written\",\n",
    "    ]\n",
    ")\n",
    "ax.axvline(x=120, color=\"black\", linestyle=\"--\", linewidth=1)\n",
    "ax.plot(120, 1.0, \"v\", color=\"k\")\n",
    "\n",
    "df2.describe()"
   ]
  },
  {
   "cell_type": "code",
   "execution_count": null,
   "id": "299216ec-0637-43f3-a153-82e0e2b930be",
   "metadata": {},
   "outputs": [],
   "source": [
    "ax = df2.plot.box(\n",
    "    title=f\"{date}; ref={ref}\",\n",
    "    ylabel=\"seconds\",\n",
    "    figsize=(10, 6),\n",
    "    column=df2.median().sort_values(ascending=False).index.tolist(),\n",
    "    vert=False,\n",
    "    widths=0.3,\n",
    ")\n",
    "ax.legend(\n",
    "    labels=df2.median().sort_values().to_string().split(\"\\n\"),\n",
    "    loc=\"lower left\",\n",
    "    title=\"median\",\n",
    "    handlelength=0,\n",
    ")\n",
    "ax.minorticks_on()\n",
    "ax.secondary_xaxis(\"top\").minorticks_on()"
   ]
  },
  {
   "cell_type": "code",
   "execution_count": null,
   "id": "9ed3aa0b-cfde-47da-ab21-fc1799875e49",
   "metadata": {},
   "outputs": [],
   "source": []
  }
 ],
 "metadata": {
  "kernelspec": {
   "display_name": "LSST",
   "language": "python",
   "name": "lsst"
  },
  "language_info": {
   "codemirror_mode": {
    "name": "ipython",
    "version": 3
   },
   "file_extension": ".py",
   "mimetype": "text/x-python",
   "name": "python",
   "nbconvert_exporter": "python",
   "pygments_lexer": "ipython3",
   "version": "3.11.7"
  }
 },
 "nbformat": 4,
 "nbformat_minor": 5
}
