{
 "cells": [
  {
   "cell_type": "markdown",
   "id": "9cda1c9d-5e98-47a7-892b-da5c34fec744",
   "metadata": {},
   "source": [
    "# Prompt Processing Historical View for the Past {{ params.days }} days"
   ]
  },
  {
   "cell_type": "code",
   "execution_count": null,
   "id": "3860a244-e5b9-4689-abd5-1f5d9a912240",
   "metadata": {},
   "outputs": [],
   "source": [
    "# Times Square parameters\n",
    "days = 7\n",
    "instrument = \"LSSTCam\"\n",
    "survey = \"BLOCK-365\""
   ]
  },
  {
   "cell_type": "code",
   "execution_count": null,
   "id": "024e653f-a5d5-4ca2-b982-c9e314f5cece",
   "metadata": {},
   "outputs": [],
   "source": [
    "days = int(days)"
   ]
  },
  {
   "cell_type": "code",
   "execution_count": null,
   "id": "649ff052-08f3-4f54-8669-df232910d490",
   "metadata": {},
   "outputs": [],
   "source": [
    "import astropy\n",
    "from astropy.time import Time, TimeDelta\n",
    "import matplotlib.pyplot as plt\n",
    "\n",
    "%matplotlib inline\n",
    "from lsst.daf.butler import Butler\n",
    "from lsst.daf.butler.registry import MissingCollectionError"
   ]
  },
  {
   "cell_type": "code",
   "execution_count": null,
   "id": "27401283-948f-4330-ba6f-226e92483719",
   "metadata": {},
   "outputs": [],
   "source": [
    "butler = Butler(\"/repo/embargo\", writeable=False)"
   ]
  },
  {
   "cell_type": "code",
   "execution_count": null,
   "id": "9ae0168a-3978-4cd8-bcb2-8765d7c90bb9",
   "metadata": {},
   "outputs": [],
   "source": [
    "def print_summary(date, instrument=instrument):\n",
    "    \"\"\"\n",
    "    Parameters\n",
    "    ----------\n",
    "    date : `astropy.time.Time`\n",
    "    \"\"\"\n",
    "    date = date.to_value(\"iso\", \"date\")\n",
    "    dayobs = int(date.replace(\"-\", \"\"))\n",
    "    raws = butler.registry.queryDimensionRecords(\n",
    "        \"exposure\",\n",
    "        datasets=\"raw\",\n",
    "        collections=f\"{instrument}/raw/all\",\n",
    "        where=\"exposure.science_program=survey and \"\n",
    "        \"instrument=instrument_name and day_obs=dayobs  \",\n",
    "        bind={\"dayobs\": dayobs, \"instrument_name\": instrument, \"survey\": survey},\n",
    "    )\n",
    "\n",
    "    output_chain = f\"{instrument}/prompt/output-{date}\"\n",
    "    if dayobs < 20240325:\n",
    "        print(f\"Collection chain started on 20240325; {dayobs} was too old.\")\n",
    "    try:\n",
    "        refs = butler.registry.queryDatasets(\n",
    "            datasetType=\"isr_log\",\n",
    "            collections=output_chain,\n",
    "            where=\"instrument=instrument_name and day_obs=dayobs\",\n",
    "            bind={\"dayobs\": dayobs, \"instrument_name\": instrument},\n",
    "        )\n",
    "    except MissingCollectionError:\n",
    "        refs = None\n",
    "        data_count = 0\n",
    "    else:\n",
    "        data_count = refs.count()\n",
    "\n",
    "    print(\n",
    "        f\"Found {raws.count():6d} raws on {dayobs} and {data_count:6d} outputs in {output_chain}\"\n",
    "    )\n",
    "    return raws.count(), data_count"
   ]
  },
  {
   "cell_type": "code",
   "execution_count": null,
   "id": "93abf6ba-d2bd-40d8-8a59-fc1e16ef9cb9",
   "metadata": {},
   "outputs": [],
   "source": [
    "now = Time.now()\n",
    "counts = {\"raw\": [], \"output\": []}\n",
    "epoch = []\n",
    "for x in range(days):\n",
    "    date = now - TimeDelta(x * astropy.units.day)\n",
    "    epoch.append(-x)\n",
    "\n",
    "    raw, output = print_summary(date)\n",
    "    counts[\"raw\"].append(raw)\n",
    "    counts[\"output\"].append(output)"
   ]
  },
  {
   "cell_type": "code",
   "execution_count": null,
   "id": "8a590141-7322-4b31-9e19-dc7e0b1a1350",
   "metadata": {},
   "outputs": [],
   "source": [
    "fig, ax = plt.subplots()\n",
    "for name, count in counts.items():\n",
    "    p = ax.bar(epoch, count, label=name)\n",
    "    ax.bar_label(p)\n",
    "ax.legend()"
   ]
  }
 ],
 "metadata": {
  "kernelspec": {
   "display_name": "LSST",
   "language": "python",
   "name": "lsst"
  },
  "language_info": {
   "codemirror_mode": {
    "name": "ipython",
    "version": 3
   },
   "file_extension": ".py",
   "mimetype": "text/x-python",
   "name": "python",
   "nbconvert_exporter": "python",
   "pygments_lexer": "ipython3",
   "version": "3.11.7"
  }
 },
 "nbformat": 4,
 "nbformat_minor": 5
}
