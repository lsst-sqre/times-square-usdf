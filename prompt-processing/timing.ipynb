{
 "cells": [
  {
   "cell_type": "markdown",
   "id": "468ac7a3-ba15-4675-b241-c420d5c54ec3",
   "metadata": {},
   "source": [
    "# Prompt Processing Timings for {{ params.date }}"
   ]
  },
  {
   "cell_type": "code",
   "execution_count": null,
   "id": "daa63240-241d-4dee-ad58-a2eecb8a097b",
   "metadata": {
    "tags": []
   },
   "outputs": [],
   "source": [
    "# dates for demo: 2023-08-29, 2023-08-17, 2023-08-16, 2023-08-15\n",
    "date = \"2023-08-29\""
   ]
  },
  {
   "cell_type": "code",
   "execution_count": null,
   "id": "7071e62a-492e-4a78-ae36-d67d1a71b28f",
   "metadata": {
    "tags": []
   },
   "outputs": [],
   "source": [
    "dayobs = int(date.replace(\"-\", \"\"))"
   ]
  },
  {
   "cell_type": "code",
   "execution_count": null,
   "id": "ee30f006-b025-4b2b-be7d-4adbea73537b",
   "metadata": {
    "tags": []
   },
   "outputs": [],
   "source": [
    "%matplotlib inline\n",
    "import matplotlib.pyplot as plt\n",
    "from IPython.display import Markdown\n",
    "import boto3\n",
    "from astropy.time import Time, TimeDelta\n",
    "from lsst_efd_client import EfdClient"
   ]
  },
  {
   "cell_type": "code",
   "execution_count": null,
   "id": "d53db753-ca40-49c1-afbe-204ff697bb9b",
   "metadata": {
    "tags": []
   },
   "outputs": [],
   "source": [
    "import logging\n",
    "logger = logging.getLogger(\"analysis\")\n",
    "logger.setLevel(logging.DEBUG)"
   ]
  },
  {
   "cell_type": "code",
   "execution_count": null,
   "id": "adf1de1a-f7f9-4d22-bd4f-dc0ca84a723f",
   "metadata": {
    "tags": []
   },
   "outputs": [],
   "source": [
    "from lsst.daf.butler import Butler\n",
    "butler = Butler(\"/repo/embargo\", writeable=False)"
   ]
  },
  {
   "cell_type": "code",
   "execution_count": null,
   "id": "584a7457-10b9-4f74-985d-798e629b0982",
   "metadata": {
    "tags": []
   },
   "outputs": [],
   "source": [
    "def get_file_timestamps(butler, datasetType, where=\"\", collections=...):\n",
    "    \"\"\"\n",
    "    Get the last-moditied timestamps of the dataset files in a bucket-based butler repo at USDF\n",
    "\n",
    "    Returns\n",
    "    -------\n",
    "    timestamps : `dict` [`int`, datetime]\n",
    "        The keys are the exposure_id\n",
    "    \"\"\"\n",
    "    \n",
    "    s3_endpoint = \"https://s3dfrgw.slac.stanford.edu\"\n",
    "    s3client = boto3.client(\"s3\", endpoint_url=s3_endpoint)\n",
    "    refs = butler.registry.queryDatasets(\n",
    "        datasetType=datasetType,\n",
    "        collections=collections,\n",
    "        where=where,\n",
    "    )\n",
    "\n",
    "    timestamps = dict()\n",
    "    dimension = None\n",
    "    for ref in refs:\n",
    "        if not dimension:\n",
    "            if \"visit\" in ref.dataId:\n",
    "                dimension = \"visit\"\n",
    "            else:\n",
    "                dimension = \"exposure\"\n",
    "        fits_uri = butler.getURI(ref)\n",
    "        time_written = s3client.head_object(\n",
    "            Bucket=fits_uri.netloc,\n",
    "            Key=fits_uri.relativeToPathRoot,\n",
    "        )[\"LastModified\"]\n",
    "        timestamps[ref.dataId[dimension]] = time_written\n",
    "    return timestamps"
   ]
  },
  {
   "cell_type": "code",
   "execution_count": null,
   "id": "e6ba2c79-b6e3-457b-867e-2f4f5e323fb5",
   "metadata": {
    "tags": []
   },
   "outputs": [],
   "source": [
    "def get_exposure_end(butler, exp_id):\n",
    "    \"\"\"\n",
    "    Return exposure end time according to butler\n",
    "    \"\"\"\n",
    "    results = butler.registry.queryDimensionRecords(\n",
    "        \"visit\", datasets=\"raw\", collections=\"LATISS/raw/all\",\n",
    "        where=\"instrument='LATISS' and exposure=exp_id\",\n",
    "        bind={\"exp_id\": exp_id},\n",
    "    )\n",
    "    return list(results)[0].timespan.end.utc"
   ]
  },
  {
   "cell_type": "code",
   "execution_count": null,
   "id": "6ea457d9-fe8c-4f97-ba73-892238cc6f36",
   "metadata": {
    "tags": []
   },
   "outputs": [],
   "source": [
    "async def get_groups_from_next_visit_events(date):\n",
    "    \"\"\"Return the group IDs of nextVisit events on a day of observation\n",
    "    \n",
    "    Returns\n",
    "    -------\n",
    "    good_events : [`str`]\n",
    "        The groupIds of the events that were not canceled.\n",
    "    \"\"\"\n",
    "    client = EfdClient(\"usdf_efd\")\n",
    "\n",
    "    start = Time(date, scale=\"utc\", format=\"isot\") + TimeDelta(12*60*60, format=\"sec\")\n",
    "    end = start + TimeDelta(1, format=\"jd\")\n",
    "    \n",
    "    topic = \"lsst.sal.ScriptQueue.logevent_nextVisit\"\n",
    "    df = await client.select_time_series(topic, [\"*\"], start.utc, end.utc)\n",
    "    df_canceled = await client.select_time_series(topic+\"Canceled\", [\"*\"], start.utc, end.utc)\n",
    "\n",
    "    if df.empty:\n",
    "        return None\n",
    "    \n",
    "    # Only select on-sky AuxTel imaging survey\n",
    "    df = df.loc[\n",
    "            (df[\"coordinateSystem\"] == 2)\n",
    "            & (df[\"salIndex\"] == 2)\n",
    "            & (df[\"survey\"] == \"AUXTEL_PHOTO_IMAGING\")\n",
    "        ]\n",
    "    \n",
    "    good_events = df[\"groupId\"].tolist()\n",
    "    if df_canceled.empty:\n",
    "        logger.info(\"None canceled\")\n",
    "        return good_events\n",
    "    for group in df_canceled[\"groupId\"]:\n",
    "        if group in good_events:\n",
    "            logger.info(\"%s was canceled\", group)\n",
    "            good_events.remove(group)\n",
    "\n",
    "    return good_events"
   ]
  },
  {
   "cell_type": "code",
   "execution_count": null,
   "id": "d28f16bb-c070-4f60-bce8-f099ff71bc81",
   "metadata": {
    "tags": []
   },
   "outputs": [],
   "source": [
    "groups = await get_groups_from_next_visit_events(date)"
   ]
  },
  {
   "cell_type": "code",
   "execution_count": null,
   "id": "d0e1fc9c-47ad-4d90-b0ea-5a6f2252a350",
   "metadata": {
    "tags": []
   },
   "outputs": [],
   "source": [
    "if groups:\n",
    "    Markdown(\"There were %i uncanceled nextVisit events on %s\"%(len(groups), dayobs))\n",
    "else:\n",
    "    Markdown(\"No records were found\")"
   ]
  },
  {
   "cell_type": "markdown",
   "id": "18b9627b-daa2-4494-855b-4a87c014bd61",
   "metadata": {
    "tags": []
   },
   "source": [
    "# Raw"
   ]
  },
  {
   "cell_type": "code",
   "execution_count": null,
   "id": "23b1abd9-49ad-4e84-bc97-145a1b897bbc",
   "metadata": {
    "tags": []
   },
   "outputs": [],
   "source": [
    "timestamps = get_file_timestamps(butler, \"raw\", \n",
    "                    collections=[\"LATISS/raw/all\"], \n",
    "                    where=f\"exposure.science_program IN ('AUXTEL_PHOTO_IMAGING') and instrument='LATISS' and exposure.day_obs={dayobs}\")"
   ]
  },
  {
   "cell_type": "code",
   "execution_count": null,
   "id": "8cdfbff6-1ca3-4833-a352-f308b2fd8872",
   "metadata": {
    "tags": []
   },
   "outputs": [],
   "source": [
    "Markdown(\"%i raws found in butler\"%(len(timestamps),))"
   ]
  },
  {
   "cell_type": "code",
   "execution_count": null,
   "id": "f3846b03-5f22-44be-afda-1e5b402d85b8",
   "metadata": {
    "tags": []
   },
   "outputs": [],
   "source": [
    "seconds = []\n",
    "for exp_id in timestamps: \n",
    "    timespan = Time(timestamps[exp_id]) - get_exposure_end(butler, exp_id)\n",
    "    seconds.append(timespan.to_value('sec'))"
   ]
  },
  {
   "cell_type": "code",
   "execution_count": null,
   "id": "3b543d95-8903-4251-9ceb-1bef50ebf590",
   "metadata": {
    "tags": []
   },
   "outputs": [],
   "source": [
    "n, bins, patches = plt.hist(seconds, 10)\n",
    "plt.ylabel('counts')\n",
    "plt.xlabel('seconds')\n",
    "plt.title(f\"exposure end to raw files at USDF {dayobs}\")\n",
    "plt.show()"
   ]
  },
  {
   "cell_type": "markdown",
   "id": "7b990cbe-ba4c-4efd-88be-c4ad72ad3d2d",
   "metadata": {},
   "source": [
    "# Prompt Processing data products"
   ]
  },
  {
   "cell_type": "code",
   "execution_count": null,
   "id": "d677fb68-b7c7-4bd6-8235-906ae3277203",
   "metadata": {
    "tags": []
   },
   "outputs": [],
   "source": [
    "timestamps = get_file_timestamps(butler, \"apdb_marker\", \n",
    "                    collections=[f\"LATISS/prompt/output-{date}/ApPipe/prompt-proto-service-*\"])"
   ]
  },
  {
   "cell_type": "code",
   "execution_count": null,
   "id": "827189d8-2f63-4fdd-850f-1fa6204dd132",
   "metadata": {
    "tags": []
   },
   "outputs": [],
   "source": [
    "seconds = []\n",
    "for exp_id in timestamps: \n",
    "    timespan = Time(timestamps[exp_id]) - get_exposure_end(butler, exp_id)\n",
    "    seconds.append(timespan.to_value('sec'))"
   ]
  },
  {
   "cell_type": "code",
   "execution_count": null,
   "id": "6578f4d6-7d59-43b7-8965-03aae8512639",
   "metadata": {
    "tags": []
   },
   "outputs": [],
   "source": [
    "n, bins, patches = plt.hist(seconds, 10)\n",
    "plt.ylabel('counts')\n",
    "plt.xlabel('seconds')\n",
    "plt.title(f\"exposure end to prompt products {date}\")\n",
    "plt.show()"
   ]
  },
  {
   "cell_type": "code",
   "execution_count": null,
   "id": "77cd49e1-dd49-4ec4-ba43-62bb4c70c0e6",
   "metadata": {
    "tags": []
   },
   "outputs": [],
   "source": [
    "import matplotlib.dates as mdates\n",
    "plt.plot(timestamps.values(), seconds, '.')\n",
    "plt.ylabel('seconds')\n",
    "plt.xlabel('UTC time')\n",
    "plt.title(f\"exposure end to prompt products {date}\")\n",
    "plt.gca().xaxis.set_major_formatter(mdates.DateFormatter('%m-%d %H:%M:%S'))\n",
    "plt.gca().xaxis.set_major_locator(mdates.HourLocator(interval=1))\n",
    "plt.show()"
   ]
  }
 ],
 "metadata": {
  "kernelspec": {
   "display_name": "LSST",
   "language": "python",
   "name": "lsst"
  },
  "language_info": {
   "codemirror_mode": {
    "name": "ipython",
    "version": 3
   },
   "file_extension": ".py",
   "mimetype": "text/x-python",
   "name": "python",
   "nbconvert_exporter": "python",
   "pygments_lexer": "ipython3",
   "version": "3.11.4"
  }
 },
 "nbformat": 4,
 "nbformat_minor": 5
}
