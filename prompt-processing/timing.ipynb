{
 "cells": [
  {
   "cell_type": "markdown",
   "id": "468ac7a3-ba15-4675-b241-c420d5c54ec3",
   "metadata": {},
   "source": [
    "# Prompt Processing Timings for {{ params.date }}"
   ]
  },
  {
   "cell_type": "code",
   "execution_count": null,
   "id": "daa63240-241d-4dee-ad58-a2eecb8a097b",
   "metadata": {
    "tags": []
   },
   "outputs": [],
   "source": [
    "# dates for demo: 2023-08-29, 2023-08-17, 2023-08-16, 2023-08-15\n",
    "date = \"2025-04-19\"\n",
    "instrument = \"LSSTCam\"\n",
    "survey = \"BLOCK-365\""
   ]
  },
  {
   "cell_type": "code",
   "execution_count": null,
   "id": "7071e62a-492e-4a78-ae36-d67d1a71b28f",
   "metadata": {
    "tags": []
   },
   "outputs": [],
   "source": [
    "dayobs = int(date.replace(\"-\", \"\"))"
   ]
  },
  {
   "cell_type": "code",
   "execution_count": null,
   "id": "a2a3f5e5-a588-40b9-a3d0-de39bd3cd5a0",
   "metadata": {},
   "outputs": [],
   "source": [
    "match instrument:\n",
    "    case \"LATISS\":\n",
    "        sal_index = 2\n",
    "        n_detector = 1\n",
    "    case \"LSSTCam\":\n",
    "        sal_index = 1\n",
    "        n_detector = 189\n",
    "    case \"LSSTComCamSim\":\n",
    "        sal_index = 3\n",
    "        n_detector = 9\n",
    "    case _:\n",
    "        logger.error(f\"Unknown instrument {instrument}\")"
   ]
  },
  {
   "cell_type": "code",
   "execution_count": null,
   "id": "ee30f006-b025-4b2b-be7d-4adbea73537b",
   "metadata": {
    "tags": []
   },
   "outputs": [],
   "source": [
    "%matplotlib inline\n",
    "import matplotlib.pyplot as plt\n",
    "import matplotlib.dates as mdates\n",
    "from IPython.display import Markdown\n",
    "import boto3\n",
    "from astropy.time import Time, TimeDelta\n",
    "from lsst_efd_client import EfdClient"
   ]
  },
  {
   "cell_type": "code",
   "execution_count": null,
   "id": "d53db753-ca40-49c1-afbe-204ff697bb9b",
   "metadata": {
    "tags": []
   },
   "outputs": [],
   "source": [
    "import logging\n",
    "\n",
    "logger = logging.getLogger(\"analysis\")\n",
    "logger.setLevel(logging.DEBUG)"
   ]
  },
  {
   "cell_type": "code",
   "execution_count": null,
   "id": "adf1de1a-f7f9-4d22-bd4f-dc0ca84a723f",
   "metadata": {
    "tags": []
   },
   "outputs": [],
   "source": [
    "from lsst.daf.butler import Butler\n",
    "butler = Butler(\"/repo/embargo\", writeable=False)"
   ]
  },
  {
   "cell_type": "code",
   "execution_count": null,
   "id": "584a7457-10b9-4f74-985d-798e629b0982",
   "metadata": {
    "tags": []
   },
   "outputs": [],
   "source": [
    "def get_file_timestamps(butler, datasetType, where=\"\", collections=...):\n",
    "    \"\"\"\n",
    "    Get the last-moditied timestamps of the dataset files in a bucket-based butler repo at USDF\n",
    "\n",
    "    Returns\n",
    "    -------\n",
    "    timestamps : `dict` [`int`, datetime]\n",
    "        The keys are the exposure_id\n",
    "    \"\"\"\n",
    "    s3_endpoint = \"https://sdfembs3.sdf.slac.stanford.edu\"\n",
    "    s3client = boto3.client(\"s3\", endpoint_url=s3_endpoint)\n",
    "    refs = butler.registry.queryDatasets(\n",
    "        datasetType=datasetType,\n",
    "        collections=collections,\n",
    "        where=where,\n",
    "    )\n",
    "\n",
    "    timestamps = list()\n",
    "    dimension = None\n",
    "    for ref in refs:\n",
    "        if not dimension:\n",
    "            if \"visit\" in ref.dataId:\n",
    "                dimension = \"visit\"\n",
    "            else:\n",
    "                dimension = \"exposure\"\n",
    "        fits_uri = butler.getURI(ref)\n",
    "        time_written = s3client.head_object(\n",
    "            Bucket=fits_uri.netloc.split(\"@\")[-1],\n",
    "            Key=fits_uri.relativeToPathRoot,\n",
    "        )[\"LastModified\"]\n",
    "        timestamps.append((ref.dataId[dimension], ref.dataId[\"detector\"], time_written))\n",
    "\n",
    "    return timestamps"
   ]
  },
  {
   "cell_type": "code",
   "execution_count": null,
   "id": "e6ba2c79-b6e3-457b-867e-2f4f5e323fb5",
   "metadata": {
    "tags": []
   },
   "outputs": [],
   "source": [
    "def get_exposure_end(butler, exp_id):\n",
    "    \"\"\"\n",
    "    Return exposure end time according to butler\n",
    "    \"\"\"\n",
    "    results = butler.registry.queryDimensionRecords(\n",
    "        \"exposure\",\n",
    "        where=\"instrument=instrument_name and exposure=exp_id\",\n",
    "        bind={\"instrument_name\": instrument, \"exp_id\": exp_id},\n",
    "    )\n",
    "    if not results.count():\n",
    "        print(f\"No records for exp {exp_id}\")\n",
    "    return list(results)[0].timespan.end.utc"
   ]
  },
  {
   "cell_type": "code",
   "execution_count": null,
   "id": "6ea457d9-fe8c-4f97-ba73-892238cc6f36",
   "metadata": {
    "tags": []
   },
   "outputs": [],
   "source": [
    "async def get_groups_from_next_visit_events(date):\n",
    "    \"\"\"Return the group IDs of nextVisit events on a day of observation\n",
    "\n",
    "    Returns\n",
    "    -------\n",
    "    good_events : [`str`]\n",
    "        The groupIds of the events that were not canceled.\n",
    "    \"\"\"\n",
    "    client = EfdClient(\"usdf_efd\")\n",
    "\n",
    "    start = Time(date, scale=\"utc\", format=\"isot\") + TimeDelta(\n",
    "        12 * 60 * 60, format=\"sec\"\n",
    "    )\n",
    "    end = start + TimeDelta(1, format=\"jd\")\n",
    "\n",
    "    topic = \"lsst.sal.ScriptQueue.logevent_nextVisit\"\n",
    "    df = await client.select_time_series(topic, [\"*\"], start.utc, end.utc)\n",
    "    df_canceled = await client.select_time_series(\n",
    "        topic + \"Canceled\", [\"*\"], start.utc, end.utc\n",
    "    )\n",
    "\n",
    "    if df.empty:\n",
    "        return None\n",
    "\n",
    "    # Only select on-sky imaging survey data\n",
    "    df = df.loc[\n",
    "        (df[\"coordinateSystem\"] == 2)\n",
    "        & (df[\"salIndex\"] == sal_index)\n",
    "        & (df[\"survey\"] == survey)\n",
    "    ]\n",
    "\n",
    "    good_events = df[\"groupId\"].tolist()\n",
    "    if df_canceled.empty:\n",
    "        logger.info(\"None canceled\")\n",
    "        return good_events\n",
    "    for group in df_canceled[\"groupId\"]:\n",
    "        if group in good_events:\n",
    "            logger.info(\"%s was canceled\", group)\n",
    "            good_events.remove(group)\n",
    "\n",
    "    return good_events"
   ]
  },
  {
   "cell_type": "code",
   "execution_count": null,
   "id": "d28f16bb-c070-4f60-bce8-f099ff71bc81",
   "metadata": {
    "tags": []
   },
   "outputs": [],
   "source": [
    "groups = await get_groups_from_next_visit_events(date)"
   ]
  },
  {
   "cell_type": "code",
   "execution_count": null,
   "id": "d0e1fc9c-47ad-4d90-b0ea-5a6f2252a350",
   "metadata": {
    "tags": []
   },
   "outputs": [],
   "source": [
    "if groups:\n",
    "    Markdown(\"There were %i uncanceled nextVisit events on %s\" % (len(groups), dayobs))\n",
    "else:\n",
    "    Markdown(\"No records were found\")"
   ]
  },
  {
   "cell_type": "markdown",
   "id": "18b9627b-daa2-4494-855b-4a87c014bd61",
   "metadata": {
    "tags": []
   },
   "source": [
    "# Raw"
   ]
  },
  {
   "cell_type": "code",
   "execution_count": null,
   "id": "2004566d-74f6-4707-a8a9-31274bc876cd",
   "metadata": {},
   "outputs": [],
   "source": [
    "# butler repo sanity check\n",
    "count = butler.registry.queryDimensionRecords(\n",
    "    \"exposure\",\n",
    "    where=f\"exposure.science_program IN ('{survey}') and instrument='{instrument}' and day_obs={dayobs}\",\n",
    ").count()\n",
    "Markdown(\"%i exposure in butler registry records\" % (count,))"
   ]
  },
  {
   "cell_type": "code",
   "execution_count": null,
   "id": "23b1abd9-49ad-4e84-bc97-145a1b897bbc",
   "metadata": {
    "tags": []
   },
   "outputs": [],
   "source": [
    "timestamps = get_file_timestamps(\n",
    "    butler,\n",
    "    \"raw\",\n",
    "    collections=[f\"{instrument}/raw/all\"],\n",
    "    where=f\"exposure.science_program IN ('{survey}') and instrument='{instrument}' and day_obs={dayobs}\",\n",
    ")"
   ]
  },
  {
   "cell_type": "code",
   "execution_count": null,
   "id": "8cdfbff6-1ca3-4833-a352-f308b2fd8872",
   "metadata": {
    "tags": []
   },
   "outputs": [],
   "source": [
    "Markdown(\"%i raw datasets in butler\" % (len(timestamps),))"
   ]
  },
  {
   "cell_type": "code",
   "execution_count": null,
   "id": "f3846b03-5f22-44be-afda-1e5b402d85b8",
   "metadata": {
    "tags": []
   },
   "outputs": [],
   "source": [
    "seconds = []\n",
    "for t in timestamps:\n",
    "    timespan = Time(t[2]) - get_exposure_end(butler, t[0])\n",
    "    seconds.append(timespan.to_value(\"sec\"))"
   ]
  },
  {
   "cell_type": "code",
   "execution_count": null,
   "id": "cea94128-cdb9-4254-91aa-c7e4077f1754",
   "metadata": {},
   "outputs": [],
   "source": [
    "from statistics import median, mean\n",
    "\n",
    "print(\n",
    "    f\"Raw arrivial: mean: {mean(seconds):.2f} seconds, median: {median(seconds):.2f} seconds\"\n",
    ")"
   ]
  },
  {
   "cell_type": "code",
   "execution_count": null,
   "id": "8888b060-1f00-4553-9c82-fe80dc492168",
   "metadata": {},
   "outputs": [],
   "source": [
    "threshold = 60 * 2\n",
    "seconds_subset = [_ for _ in seconds if _ < threshold]\n",
    "count_skip = len(seconds) - len(seconds_subset)\n",
    "print(f\"{count_skip} took longer than {threshold} seconds; excluding them below\")"
   ]
  },
  {
   "cell_type": "code",
   "execution_count": null,
   "id": "3b543d95-8903-4251-9ceb-1bef50ebf590",
   "metadata": {
    "tags": []
   },
   "outputs": [],
   "source": [
    "n, bins, patches = plt.hist(seconds_subset, bins=100)\n",
    "plt.ylabel(\"counts\")\n",
    "plt.xlabel(\"seconds\")\n",
    "plt.title(f\"exposure end to raw files at USDF {dayobs}; excluding {count_skip}\")\n",
    "plt.show()"
   ]
  },
  {
   "cell_type": "code",
   "execution_count": null,
   "id": "1b4adcca-8dda-4110-9eb3-1d5df8ea7176",
   "metadata": {},
   "outputs": [],
   "source": [
    "plt.plot([t[2] for t in timestamps], seconds, \".\")\n",
    "plt.ylabel(\"seconds\")\n",
    "plt.xlabel(\"UTC time\")\n",
    "plt.title(f\"exposure end to raw arrival at USDF {date}\")\n",
    "plt.ylim([0, threshold])\n",
    "plt.gca().xaxis.set_major_formatter(mdates.DateFormatter(\"%m-%d %H:%M\"))\n",
    "plt.gca().xaxis.set_major_locator(mdates.HourLocator(interval=1))\n",
    "plt.xticks(rotation=90)\n",
    "plt.show()"
   ]
  },
  {
   "cell_type": "markdown",
   "id": "7b990cbe-ba4c-4efd-88be-c4ad72ad3d2d",
   "metadata": {},
   "source": [
    "# Prompt Processing data products"
   ]
  },
  {
   "cell_type": "code",
   "execution_count": null,
   "id": "d677fb68-b7c7-4bd6-8235-906ae3277203",
   "metadata": {
    "tags": []
   },
   "outputs": [],
   "source": [
    "dataset_type = \"initial_pvi\"  # \"apdb_marker\""
   ]
  },
  {
   "cell_type": "code",
   "execution_count": null,
   "id": "8c135a4e-37e3-4710-8b7a-501d282b6860",
   "metadata": {},
   "outputs": [],
   "source": [
    "timestamps = get_file_timestamps(\n",
    "    butler,\n",
    "    dataset_type,\n",
    "    collections=[f\"{instrument}/prompt/output-{date}/*\"],\n",
    ")"
   ]
  },
  {
   "cell_type": "code",
   "execution_count": null,
   "id": "f3a42193-0fa6-4f6e-b847-c9042db8e266",
   "metadata": {},
   "outputs": [],
   "source": [
    "seconds = []\n",
    "for t in timestamps:\n",
    "    timespan = Time(t[2]) - get_exposure_end(butler, t[0])\n",
    "    seconds.append(timespan.to_value(\"sec\"))"
   ]
  },
  {
   "cell_type": "code",
   "execution_count": null,
   "id": "6578f4d6-7d59-43b7-8965-03aae8512639",
   "metadata": {
    "tags": []
   },
   "outputs": [],
   "source": [
    "n, bins, patches = plt.hist(seconds, bins=100)\n",
    "plt.ylabel(\"counts\")\n",
    "plt.xlabel(\"seconds\")\n",
    "plt.title(f\"exposure end to prompt products {date}\")\n",
    "plt.show()"
   ]
  },
  {
   "cell_type": "code",
   "execution_count": null,
   "id": "77cd49e1-dd49-4ec4-ba43-62bb4c70c0e6",
   "metadata": {
    "tags": []
   },
   "outputs": [],
   "source": [
    "plt.plot([t[2] for t in timestamps], seconds, \".\")\n",
    "plt.ylabel(\"seconds\")\n",
    "plt.xlabel(\"UTC time\")\n",
    "plt.title(f\"exposure end to prompt products {date}\")\n",
    "plt.gca().xaxis.set_major_formatter(mdates.DateFormatter(\"%m-%d %H:%M\"))\n",
    "plt.gca().xaxis.set_major_locator(mdates.HourLocator(interval=1))\n",
    "plt.xticks(rotation=90)\n",
    "plt.show()"
   ]
  }
 ],
 "metadata": {
  "kernelspec": {
   "display_name": "LSST",
   "language": "python",
   "name": "lsst"
  },
  "language_info": {
   "codemirror_mode": {
    "name": "ipython",
    "version": 3
   },
   "file_extension": ".py",
   "mimetype": "text/x-python",
   "name": "python",
   "nbconvert_exporter": "python",
   "pygments_lexer": "ipython3",
   "version": "3.11.7"
  }
 },
 "nbformat": 4,
 "nbformat_minor": 5
}
