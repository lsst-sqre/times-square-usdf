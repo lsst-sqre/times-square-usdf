{
 "cells": [
  {
   "cell_type": "markdown",
   "id": "c1caf1c3-db38-4b37-b3d9-e9c233a64e04",
   "metadata": {},
   "source": [
    "# Nightsum part for {{ params.day_obs }}"
   ]
  },
  {
   "cell_type": "markdown",
   "id": "423d2074-d88b-465a-b19a-5730303887a0",
   "metadata": {},
   "source": [
    "This is presently just a playground for building a pre-night briefing."
   ]
  },
  {
   "cell_type": "code",
   "execution_count": null,
   "id": "1443b550-9836-495b-8f95-3a3d85d72372",
   "metadata": {},
   "outputs": [],
   "source": [
    "# This cell is only for setting parameter defaults\n",
    "day_obs = \"2025-05-10\""
   ]
  },
  {
   "cell_type": "code",
   "execution_count": null,
   "id": "c5d5ceff-a624-4912-8410-6cb774bbc9fa",
   "metadata": {},
   "outputs": [],
   "source": [
    "import sys\n",
    "import pandas as pd\n",
    "import bokeh\n",
    "import bokeh.io\n",
    "import bokeh.plotting\n",
    "import bokeh.models\n",
    "import sqlite3\n",
    "import numpy as np\n",
    "from astropy.time import Time\n",
    "from lsst.resources import ResourcePath"
   ]
  },
  {
   "cell_type": "code",
   "execution_count": null,
   "id": "d7bdcaa2-b53d-42fc-8bf3-b2ed81f65044",
   "metadata": {},
   "outputs": [],
   "source": [
    "try:\n",
    "    import uranography\n",
    "    from uranography.api import Planisphere\n",
    "    print(\"Imported uranography from base environment\")\n",
    "except:\n",
    "    print(\"Failed to import uranography from base environment, tryiny with sys.path.insert\")\n",
    "    sys.path.insert(0, '/sdf/data/rubin/user/neilsen/devel/uranography')\n",
    "    import uranography\n",
    "    from uranography.api import Planisphere\n"
   ]
  },
  {
   "cell_type": "code",
   "execution_count": null,
   "id": "ce34bced-b5c5-42fd-8469-082eb8a3614f",
   "metadata": {},
   "outputs": [],
   "source": [
    "bokeh.io.output_notebook()"
   ]
  },
  {
   "cell_type": "code",
   "execution_count": null,
   "id": "216820a9-c69c-45d7-a933-bd8209db67d6",
   "metadata": {},
   "outputs": [],
   "source": [
    "baseline_opsim_rp = ResourcePath('/sdf/group/rubin/web_data/sim-data/sims_featureScheduler_runs3.4/baseline/baseline_v3.4_10yrs.db')\n",
    "day_obs_mjd = int(Time(day_obs).mjd)"
   ]
  },
  {
   "cell_type": "code",
   "execution_count": null,
   "id": "d4997520-ae36-4430-8ebf-33785f731c0e",
   "metadata": {},
   "outputs": [],
   "source": [
    "with baseline_opsim_rp.as_local() as local_baseline_opsim_rp:\n",
    "    with sqlite3.connect(local_baseline_opsim_rp.ospath) as baseline_db_connection:\n",
    "        visits = pd.read_sql_query(f\"SELECT * FROM observations WHERE FLOOR(observationStartMJD-0.5)={day_obs_mjd}\", baseline_db_connection)"
   ]
  },
  {
   "cell_type": "code",
   "execution_count": null,
   "id": "9852641a-2b7a-4b7d-8e47-ce36a7a99320",
   "metadata": {},
   "outputs": [],
   "source": [
    "visits['coords'] = list(zip(visits['fieldRA'], visits['fieldDec']))"
   ]
  },
  {
   "cell_type": "code",
   "execution_count": null,
   "id": "1db10f7c-0114-415b-9816-15b3c0d3012d",
   "metadata": {},
   "outputs": [],
   "source": [
    "import bokeh.io\n",
    "from uranography.api import Planisphere\n",
    "\n",
    "sky = Planisphere()\n",
    "sky.plot.circle(\n",
    "    sky.x_transform(\"coords\"),\n",
    "    sky.y_transform(\"coords\"),\n",
    "    source=visits)\n",
    "sky.decorate()\n",
    "\n",
    "sky.show(); # If we were in a notebook"
   ]
  }
 ],
 "metadata": {
  "kernelspec": {
   "display_name": "ehn311",
   "language": "python",
   "name": "ehn311"
  },
  "language_info": {
   "codemirror_mode": {
    "name": "ipython",
    "version": 3
   },
   "file_extension": ".py",
   "mimetype": "text/x-python",
   "name": "python",
   "nbconvert_exporter": "python",
   "pygments_lexer": "ipython3",
   "version": "3.11.6"
  }
 },
 "nbformat": 4,
 "nbformat_minor": 5
}
