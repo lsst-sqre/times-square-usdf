{
 "cells": [
  {
   "cell_type": "markdown",
   "id": "ca1f04f0-f28b-4964-965a-c2e12186a84b",
   "metadata": {},
   "source": [
    "# Mimic of the DES night summary, but for Rubin Observatory"
   ]
  },
  {
   "cell_type": "code",
   "execution_count": null,
   "id": "54aad269-400f-44c2-8438-1b6111ba6a9b",
   "metadata": {},
   "outputs": [],
   "source": [
    "# This cell is only for setting parameter defaults\n",
    "day_obs = \"2027-11-10\"\n",
    "visit_db_fname = '/sdf/data/rubin/user/neilsen/data/rubin_sim_data/sim_baseline/baseline_v3.3_10yrs.db'"
   ]
  },
  {
   "cell_type": "code",
   "execution_count": null,
   "id": "83d057e7-5c3a-4ef4-852b-f1b176516c64",
   "metadata": {},
   "outputs": [],
   "source": [
    "print(f\"The date is {day_obs}\")"
   ]
  }
 ],
 "metadata": {
  "kernelspec": {
   "display_name": "ehn311",
   "language": "python",
   "name": "ehn311"
  },
  "language_info": {
   "codemirror_mode": {
    "name": "ipython",
    "version": 3
   },
   "file_extension": ".py",
   "mimetype": "text/x-python",
   "name": "python",
   "nbconvert_exporter": "python",
   "pygments_lexer": "ipython3",
   "version": "3.11.6"
  }
 },
 "nbformat": 4,
 "nbformat_minor": 5
}
