{
 "cells": [
  {
   "cell_type": "markdown",
   "id": "ca1f04f0-f28b-4964-965a-c2e12186a84b",
   "metadata": {},
   "source": [
    "# Mimic of the DES night summary, but for Rubin Observatory"
   ]
  },
  {
   "cell_type": "code",
   "execution_count": null,
   "id": "54aad269-400f-44c2-8438-1b6111ba6a9b",
   "metadata": {},
   "outputs": [],
   "source": [
    "# This cell is only for setting parameter defaults\n",
    "day_obs = \"2027-11-10\"\n",
    "visit_db_fname = None"
   ]
  },
  {
   "cell_type": "raw",
   "id": "c8c1622c-4573-4052-8364-4a55de644f77",
   "metadata": {},
   "source": [
    "import datetime\n",
    "import sys\n",
    "from IPython.display import display, HTML\n",
    "import pandas as pd\n",
    "import bokeh\n",
    "import bokeh.io\n",
    "import bokeh.plotting\n",
    "import bokeh.models\n",
    "import bokeh.transform\n",
    "import bokeh.layouts\n",
    "import sqlite3\n",
    "import numpy as np\n",
    "import healpy\n",
    "import astropy\n",
    "import colorcet\n",
    "import matplotlib as mpl\n",
    "import matplotlib.pyplot as plt\n",
    "import cartopy\n",
    "import healpy as hp\n",
    "import astropy.units as u\n",
    "from astropy.visualization import ZScaleInterval\n",
    "from astropy.time import Time\n",
    "from astropy.coordinates import SkyCoord, get_body\n",
    "from lsst.resources import ResourcePath"
   ]
  },
  {
   "cell_type": "raw",
   "id": "8444d926-024c-4dbf-b65e-477651463133",
   "metadata": {},
   "source": [
    "sys.path.insert(0, '/sdf/data/rubin/user/neilsen/devel/uranography')\n",
    "sys.path.insert(0, '/sdf/data/rubin/user/neilsen/devel/rubin_scheduler')\n",
    "sys.path.insert(0, '/sdf/data/rubin/user/neilsen/devel/rubin_sim')\n",
    "sys.path.insert(0, '/sdf/data/rubin/user/neilsen/devel/schedview')"
   ]
  },
  {
   "cell_type": "raw",
   "id": "0811c565-a342-46b0-aed7-039e8a579769",
   "metadata": {},
   "source": [
    "import rubin_scheduler\n",
    "import rubin_scheduler.utils\n",
    "import rubin_scheduler.site_models\n",
    "import schedview.compute.astro\n",
    "import schedview.compute.visits\n",
    "import uranography\n",
    "import schedview.plot.visitmap\n",
    "\n",
    "from rubin_sim import maf\n",
    "from rubin_sim.data import get_baseline\n",
    "from schedview.compute.camera import LsstCameraFootprintPerimeter\n",
    "from rubin_scheduler.scheduler.model_observatory import ModelObservatory\n",
    "from uranography.api import Planisphere, make_zscale_linear_cmap\n",
    "from schedview.plot.survey_mpl import create_hpix_visit_map_grid"
   ]
  },
  {
   "cell_type": "raw",
   "id": "e46bb728-34b0-44d8-91f1-0da3973227ce",
   "metadata": {},
   "source": [
    "import rubin_scheduler"
   ]
  },
  {
   "cell_type": "code",
   "execution_count": null,
   "id": "9619f29a-3a36-497e-8eb2-81d9070c0086",
   "metadata": {},
   "outputs": [],
   "source": [
    "print(\"Here!\")"
   ]
  },
  {
   "cell_type": "raw",
   "id": "978b003e-1194-4e1a-9b5b-6e5ed8d6f2e4",
   "metadata": {},
   "source": [
    "bokeh.io.output_notebook()"
   ]
  },
  {
   "cell_type": "raw",
   "id": "78c8a561-f5e2-4ba6-bb2b-04b58dd344f7",
   "metadata": {},
   "source": [
    "%matplotlib inline"
   ]
  },
  {
   "cell_type": "raw",
   "id": "d4d5849b-67d1-414a-8b5c-056a5d0c9a2c",
   "metadata": {},
   "source": [
    "astropy.utils.iers.conf.iers_degraded_accuracy = 'ignore'"
   ]
  },
  {
   "cell_type": "raw",
   "id": "5c951363-b737-4309-abb1-885c7dcb821f",
   "metadata": {},
   "source": [
    "if visit_db_fname is None:\n",
    "    visit_db_fname = get_baseline()"
   ]
  },
  {
   "cell_type": "raw",
   "id": "8a5f912d-a94a-4c6c-a474-2b5ec9e702d8",
   "metadata": {},
   "source": [
    "baseline_opsim_rp = ResourcePath(visit_db_fname)\n",
    "day_obs_mjd = int(Time(day_obs).mjd)\n",
    "observatory = ModelObservatory(init_load_length=1)\n",
    "timezone = \"Chile/Continental\"\n",
    "use_matplotlib = True"
   ]
  },
  {
   "cell_type": "raw",
   "id": "c3b981b5-5a27-408d-b6f3-1c3ec7a06315",
   "metadata": {},
   "source": [
    "visits = schedview.collect.read_opsim(baseline_opsim_rp, constraint=f\"FLOOR(observationStartMJD-0.5)={day_obs_mjd}\")\n",
    "visits = schedview.compute.visits.add_day_obs(visits)\n",
    "visits = schedview.compute.visits.add_maf_metric(visits, maf.TeffMetric(), 'teff')\n",
    "visits = schedview.compute.visits.add_coords_tuple(visits)\n",
    "visits = schedview.compute.visits.add_overhead(visits)"
   ]
  },
  {
   "cell_type": "markdown",
   "id": "f838eee5-3839-4030-a981-90cf2cb2b621",
   "metadata": {},
   "source": [
    "Using fiducial depths for t_eff calculation from https://github.com/lsst-sims/smtn-002/blob/main/notebooks/teff_fiducial.ipynb commit e367d65.\n",
    "These probably should be updated."
   ]
  },
  {
   "cell_type": "markdown",
   "id": "485d3d14-dae3-4d4e-981d-eaaf99d60929",
   "metadata": {},
   "source": [
    "### Sun and Moon"
   ]
  },
  {
   "cell_type": "raw",
   "id": "0e8d053b-974a-411a-864b-2d5b2e4d5f2e",
   "metadata": {},
   "source": [
    "day_obs_datetime = Time(day_obs_mjd, format='mjd').datetime\n",
    "day_obs_date = datetime.date(day_obs_datetime.year, day_obs_datetime.month, day_obs_datetime.day)\n",
    "night_events = schedview.compute.astro.night_events(day_obs_date)\n",
    "night_events"
   ]
  },
  {
   "cell_type": "raw",
   "id": "5e84da9b-6f6e-4223-8b39-a33297afa2d8",
   "metadata": {},
   "source": [
    "print(f\"Moon phase: {visits['moonPhase'].median()}\")"
   ]
  },
  {
   "cell_type": "raw",
   "id": "7925840b-d453-477e-a367-fdc294fbf0de",
   "metadata": {},
   "source": [
    "model_observatory = ModelObservatory(init_load_length=1)\n",
    "model_observatory.mjd = night_events.loc['night_middle', 'MJD']"
   ]
  },
  {
   "cell_type": "markdown",
   "id": "6a3134fa-10ad-403b-bce3-56858e59d6fb",
   "metadata": {},
   "source": [
    "## Conditions and statistics"
   ]
  },
  {
   "cell_type": "markdown",
   "id": "9d387553-ac08-4cb5-8a41-f1da65311699",
   "metadata": {},
   "source": [
    "### Numbers of exposures, and gaps between them"
   ]
  },
  {
   "cell_type": "raw",
   "id": "24482a53-59c9-439c-9fd4-b939a6894fa2",
   "metadata": {},
   "source": [
    "overhead_summary = schedview.compute.visits.compute_overhead_summary(visits, night_events.loc['sun_n12_setting','MJD'], night_events.loc['sun_n12_rising','MJD'])\n",
    "summary_table = schedview.plot.create_overhead_summary_table(overhead_summary)\n",
    "display(HTML(summary_table))"
   ]
  },
  {
   "cell_type": "markdown",
   "id": "9ad2f7a1-1df3-4b62-b0a3-e8618051d97c",
   "metadata": {},
   "source": [
    "## Histogram of gaps between exposures"
   ]
  },
  {
   "cell_type": "raw",
   "id": "b4a3d043-c11a-4df3-86fb-656ec7574844",
   "metadata": {},
   "source": [
    "p1 = schedview.plot.create_overhead_histogram(visits)\n",
    "p2 = schedview.plot.plot_overhead_vs_slew_distance(visits)\n",
    "overhead_plots = bokeh.layouts.row([p1, p2])\n",
    "bokeh.io.show(overhead_plots)"
   ]
  },
  {
   "cell_type": "markdown",
   "id": "d6a2d6e4-720d-405b-9ed4-fd60becad920",
   "metadata": {},
   "source": [
    "## Long gaps between exposures"
   ]
  },
  {
   "cell_type": "raw",
   "id": "35a519f4-1694-438d-aab7-d5cd2c9b1302",
   "metadata": {
    "execution": {
     "iopub.execute_input": "2024-03-08T22:14:27.478384Z",
     "iopub.status.busy": "2024-03-08T22:14:27.478221Z",
     "iopub.status.idle": "2024-03-08T22:14:27.493756Z",
     "shell.execute_reply": "2024-03-08T22:14:27.493402Z",
     "shell.execute_reply.started": "2024-03-08T22:14:27.478365Z"
    }
   },
   "source": [
    "visits.head()"
   ]
  },
  {
   "cell_type": "raw",
   "id": "6d0fd8ad-465f-4962-ab7a-677ce149fadf",
   "metadata": {
    "execution": {
     "iopub.execute_input": "2024-03-08T22:14:27.494446Z",
     "iopub.status.busy": "2024-03-08T22:14:27.494318Z",
     "iopub.status.idle": "2024-03-08T22:14:27.506298Z",
     "shell.execute_reply": "2024-03-08T22:14:27.505948Z",
     "shell.execute_reply.started": "2024-03-08T22:14:27.494434Z"
    }
   },
   "source": [
    "num_gaps = 10\n",
    "long_gap_visits = visits.sort_values('overhead', ascending=False).query('overhead>30').loc[:, ['start_date', 'overhead', 'slewDistance', 'filter', 'previous_filter']].sort_values('observationId')\n",
    "long_gap_visits"
   ]
  },
  {
   "cell_type": "markdown",
   "id": "bda63097-941a-4e1c-85cd-84307768ff2c",
   "metadata": {},
   "source": [
    "## PSF Width"
   ]
  },
  {
   "cell_type": "raw",
   "id": "b7dd6c74-38a4-4df2-a826-a16103c60de5",
   "metadata": {
    "execution": {
     "iopub.execute_input": "2024-03-08T22:14:27.506909Z",
     "iopub.status.busy": "2024-03-08T22:14:27.506782Z",
     "iopub.status.idle": "2024-03-08T22:14:27.644193Z",
     "shell.execute_reply": "2024-03-08T22:14:27.643765Z",
     "shell.execute_reply.started": "2024-03-08T22:14:27.506898Z"
    }
   },
   "source": [
    "p = schedview.plot.plot_visit_param_vs_time(visits, 'seeingFwhmEff')\n",
    "p.yaxis.axis_label = \"Effective PSF FWHM (asec)\"\n",
    "bokeh.io.show(p)"
   ]
  },
  {
   "cell_type": "markdown",
   "id": "a468c10f-9f50-47ea-a61d-5c16fd2fff25",
   "metadata": {},
   "source": [
    "## Instrumental seeing"
   ]
  },
  {
   "cell_type": "raw",
   "id": "f0e35b2b-729e-4027-bdee-22d7dd7989cf",
   "metadata": {
    "execution": {
     "iopub.execute_input": "2024-03-08T22:14:27.644892Z",
     "iopub.status.busy": "2024-03-08T22:14:27.644759Z",
     "iopub.status.idle": "2024-03-08T22:14:27.874946Z",
     "shell.execute_reply": "2024-03-08T22:14:27.874516Z",
     "shell.execute_reply.started": "2024-03-08T22:14:27.644880Z"
    }
   },
   "source": [
    "visits = schedview.compute.visits.add_instrumental_fwhm(visits)\n",
    "p = schedview.plot.plot_visit_param_vs_time(visits, 'inst_fwhm')\n",
    "p.yaxis.axis_label = \"Instrumental contribution to the FWHM (asec)\"\n",
    "bokeh.io.show(p)"
   ]
  },
  {
   "cell_type": "markdown",
   "id": "6f1eccfd-0ec4-45f9-8be4-d189f47c8ad8",
   "metadata": {},
   "source": [
    "This perplexes me; I expected the instrumental contribution in simulations to be constant."
   ]
  },
  {
   "cell_type": "markdown",
   "id": "e82c9b6d-16eb-4b1c-98cd-0265f25ea1a0",
   "metadata": {},
   "source": [
    "## PSF ellipticity"
   ]
  },
  {
   "cell_type": "markdown",
   "id": "27c2990a-6362-4111-bafd-cb0b02fed2e7",
   "metadata": {},
   "source": [
    "No ellipticity is simulated by opsim."
   ]
  },
  {
   "cell_type": "markdown",
   "id": "0671c396-23ea-40f9-8051-94643931b989",
   "metadata": {},
   "source": [
    "## Effective exposure time"
   ]
  },
  {
   "cell_type": "raw",
   "id": "dbdf038a-bd13-488f-9273-85eef7e9d3f1",
   "metadata": {
    "execution": {
     "iopub.execute_input": "2024-03-08T22:14:27.875682Z",
     "iopub.status.busy": "2024-03-08T22:14:27.875551Z",
     "iopub.status.idle": "2024-03-08T22:14:28.062468Z",
     "shell.execute_reply": "2024-03-08T22:14:28.062039Z",
     "shell.execute_reply.started": "2024-03-08T22:14:27.875670Z"
    }
   },
   "source": [
    "p = schedview.plot.plot_visit_param_vs_time(visits, 'teff')\n",
    "p.yaxis.axis_label = 'Effecive exposure time (sec.)'\n",
    "p.title = \"Effective exposure time\"\n",
    "bokeh.io.show(p)"
   ]
  },
  {
   "cell_type": "markdown",
   "id": "1332b0b8-ebab-4003-ae94-cfb828b54102",
   "metadata": {
    "execution": {
     "iopub.execute_input": "2024-02-19T20:07:50.543357Z",
     "iopub.status.busy": "2024-02-19T20:07:50.543104Z",
     "iopub.status.idle": "2024-02-19T20:07:50.545759Z",
     "shell.execute_reply": "2024-02-19T20:07:50.545351Z",
     "shell.execute_reply.started": "2024-02-19T20:07:50.543342Z"
    }
   },
   "source": [
    "## Sky brightness"
   ]
  },
  {
   "cell_type": "raw",
   "id": "50c07431-b19a-447a-816e-a19d2ad9358f",
   "metadata": {
    "execution": {
     "iopub.execute_input": "2024-03-08T22:14:28.063147Z",
     "iopub.status.busy": "2024-03-08T22:14:28.063011Z",
     "iopub.status.idle": "2024-03-08T22:14:28.225460Z",
     "shell.execute_reply": "2024-03-08T22:14:28.225043Z",
     "shell.execute_reply.started": "2024-03-08T22:14:28.063135Z"
    }
   },
   "source": [
    "p = schedview.plot.plot_visit_param_vs_time(visits, 'skyBrightness')\n",
    "p.yaxis.axis_label = 'Sky brightness (mag/asec^2'\n",
    "p.title = \"Sky brightness\"\n",
    "bokeh.io.show(p)"
   ]
  },
  {
   "cell_type": "markdown",
   "id": "fba9dc4e-c197-415f-8f40-33c0fccf8d5b",
   "metadata": {},
   "source": [
    "## Cloud cover"
   ]
  },
  {
   "cell_type": "markdown",
   "id": "adb8a557-d14f-4ff6-bd32-3a56a9fb383d",
   "metadata": {},
   "source": [
    "When run with current opsim simulations, all simulations are either completely spoiled (infinite extinction) or clear (no extinction), and what is recorded is a fraction of the sky covered by clouds.\n",
    "\n",
    "So, where the DES nightsum plots the extinction, what is plotted here is the recorded fraction cloud cover."
   ]
  },
  {
   "cell_type": "raw",
   "id": "b360ec63-cc8f-4aa6-a271-3526af7bad96",
   "metadata": {
    "execution": {
     "iopub.execute_input": "2024-03-08T22:14:28.226173Z",
     "iopub.status.busy": "2024-03-08T22:14:28.226043Z",
     "iopub.status.idle": "2024-03-08T22:14:28.393325Z",
     "shell.execute_reply": "2024-03-08T22:14:28.392921Z",
     "shell.execute_reply.started": "2024-03-08T22:14:28.226161Z"
    }
   },
   "source": [
    "p = schedview.plot.plot_visit_param_vs_time(visits, 'cloud')\n",
    "p.yaxis.axis_label = 'Cloud cover'\n",
    "p.title = \"Cloud cover\"\n",
    "bokeh.io.show(p)"
   ]
  },
  {
   "cell_type": "markdown",
   "id": "e5ac8114-2e48-4f05-9296-e7ea0271ae7c",
   "metadata": {},
   "source": [
    "## Visit map"
   ]
  },
  {
   "cell_type": "raw",
   "id": "a98afa1b-3c98-4628-8558-4e2cb8ffae33",
   "metadata": {
    "execution": {
     "iopub.execute_input": "2024-03-08T22:14:28.393995Z",
     "iopub.status.busy": "2024-03-08T22:14:28.393866Z",
     "iopub.status.idle": "2024-03-08T22:14:36.797055Z",
     "shell.execute_reply": "2024-03-08T22:14:36.796618Z",
     "shell.execute_reply.started": "2024-03-08T22:14:28.393983Z"
    }
   },
   "source": [
    "vmap, vmap_data = schedview.plot.visitmap.create_visit_skymaps(\n",
    "    visits=visits,\n",
    "    night_date=day_obs_date,\n",
    "    timezone=timezone,\n",
    "    observatory=observatory,\n",
    ")"
   ]
  },
  {
   "cell_type": "raw",
   "id": "d1f87493-8af8-4273-b4ff-9e685a831f01",
   "metadata": {
    "execution": {
     "iopub.execute_input": "2024-03-08T22:14:36.797848Z",
     "iopub.status.busy": "2024-03-08T22:14:36.797719Z",
     "iopub.status.idle": "2024-03-08T22:14:37.242987Z",
     "shell.execute_reply": "2024-03-08T22:14:37.242574Z",
     "shell.execute_reply.started": "2024-03-08T22:14:36.797835Z"
    }
   },
   "source": [
    "bokeh.io.show(vmap)"
   ]
  },
  {
   "cell_type": "markdown",
   "id": "43634b30-8c12-4416-86c3-375ee6fbabcd",
   "metadata": {},
   "source": [
    "## Survey Progress"
   ]
  },
  {
   "cell_type": "markdown",
   "id": "9340b2fb-7e03-4bfd-830b-e867fb29353f",
   "metadata": {},
   "source": [
    "### Map depth accumulated so far"
   ]
  },
  {
   "cell_type": "raw",
   "id": "841b00b3-d39f-4010-992a-5631409f7517",
   "metadata": {
    "execution": {
     "iopub.execute_input": "2024-03-08T22:14:37.243758Z",
     "iopub.status.busy": "2024-03-08T22:14:37.243628Z",
     "iopub.status.idle": "2024-03-08T22:14:49.604642Z",
     "shell.execute_reply": "2024-03-08T22:14:49.604170Z",
     "shell.execute_reply.started": "2024-03-08T22:14:37.243745Z"
    }
   },
   "source": [
    "observatory.mjd = night_events.loc['night_middle', 'MJD']\n",
    "conditions = observatory.return_conditions()\n",
    "previous_visits = schedview.collect.read_opsim(visit_db_fname, constraint=f\"observationStartMjd < {night_events.loc['sunset', 'MJD']}\")"
   ]
  },
  {
   "cell_type": "raw",
   "id": "95f9944c-df18-467b-a85a-744159d5fc1a",
   "metadata": {
    "execution": {
     "iopub.execute_input": "2024-03-08T22:14:49.605381Z",
     "iopub.status.busy": "2024-03-08T22:14:49.605251Z",
     "iopub.status.idle": "2024-03-08T22:15:04.231617Z",
     "shell.execute_reply": "2024-03-08T22:15:04.231139Z",
     "shell.execute_reply.started": "2024-03-08T22:14:49.605368Z"
    }
   },
   "source": [
    "metric = maf.TeffMetric()\n",
    "teff_hpix = schedview.compute.maf.compute_hpix_metric_in_bands(previous_visits, metric, nside=32)"
   ]
  },
  {
   "cell_type": "raw",
   "id": "8f24caab-7970-4016-b413-152f23930a8e",
   "metadata": {
    "execution": {
     "iopub.execute_input": "2024-03-08T22:15:04.232390Z",
     "iopub.status.busy": "2024-03-08T22:15:04.232258Z",
     "iopub.status.idle": "2024-03-08T22:15:11.380557Z",
     "shell.execute_reply": "2024-03-08T22:15:11.379965Z",
     "shell.execute_reply.started": "2024-03-08T22:15:04.232377Z"
    }
   },
   "source": [
    "if use_matplotlib:\n",
    "    fig = create_hpix_visit_map_grid(visits, teff_hpix, model_observatory, night_events)\n",
    "else:\n",
    "    map_grid = schedview.plot.create_hpix_visit_map_grid(teff_hpix, visits, conditions)\n",
    "    bokeh.io.show(map_grid)"
   ]
  },
  {
   "cell_type": "markdown",
   "id": "eb98630d-4671-44c1-96a6-08684d876bb9",
   "metadata": {},
   "source": [
    "### Map the most recent visit so far"
   ]
  },
  {
   "cell_type": "raw",
   "id": "4eb36ef0-683f-4c14-899b-2f223bbec4e3",
   "metadata": {
    "execution": {
     "iopub.execute_input": "2024-03-08T22:15:11.385320Z",
     "iopub.status.busy": "2024-03-08T22:15:11.384836Z",
     "iopub.status.idle": "2024-03-08T22:15:26.057803Z",
     "shell.execute_reply": "2024-03-08T22:15:26.057352Z",
     "shell.execute_reply.started": "2024-03-08T22:15:11.385300Z"
    }
   },
   "source": [
    "metric = maf.MaxMetric('observationStartMJD')\n",
    "latest_mjd_hpix = schedview.compute.maf.compute_hpix_metric_in_bands(previous_visits, metric, nside=32)\n",
    "time_since_latest_hpix = {b: night_events.loc['sunset', 'MJD'] - latest_mjd_hpix[b].filled(np.nan) for b in latest_mjd_hpix}"
   ]
  },
  {
   "cell_type": "raw",
   "id": "7e2b42f2-e8a3-422f-9be2-c3bbe2ea3250",
   "metadata": {
    "execution": {
     "iopub.execute_input": "2024-03-08T22:15:26.058541Z",
     "iopub.status.busy": "2024-03-08T22:15:26.058405Z",
     "iopub.status.idle": "2024-03-08T22:15:26.061299Z",
     "shell.execute_reply": "2024-03-08T22:15:26.060931Z",
     "shell.execute_reply.started": "2024-03-08T22:15:26.058528Z"
    }
   },
   "source": [
    "long_limit = 30\n",
    "for band in time_since_latest_hpix:\n",
    "    long_hpix = time_since_latest_hpix[band] > long_limit\n",
    "    time_since_latest_hpix[band][long_hpix] = np.nan"
   ]
  },
  {
   "cell_type": "raw",
   "id": "33e97eaf-710f-4e50-bbcf-44b825221f35",
   "metadata": {
    "execution": {
     "iopub.execute_input": "2024-03-08T22:15:26.061988Z",
     "iopub.status.busy": "2024-03-08T22:15:26.061853Z",
     "iopub.status.idle": "2024-03-08T22:15:33.554862Z",
     "shell.execute_reply": "2024-03-08T22:15:33.554226Z",
     "shell.execute_reply.started": "2024-03-08T22:15:26.061971Z"
    }
   },
   "source": [
    "if use_matplotlib:\n",
    "    cmap = colorcet.cm.blues_r\n",
    "    fig = create_hpix_visit_map_grid(visits, time_since_latest_hpix, model_observatory, night_events, scale_limits=[0, 10], cmap=cmap)\n",
    "else:\n",
    "    map_grid = schedview.plot.create_hpix_visit_map_grid(\n",
    "        time_since_latest_hpix,\n",
    "        visits,\n",
    "        conditions,\n",
    "        scale_limits=[10, 0],\n",
    "    )\n",
    "    bokeh.io.show(map_grid)"
   ]
  },
  {
   "cell_type": "markdown",
   "id": "53308798-2113-4699-a784-446727d8143e",
   "metadata": {},
   "source": [
    "## DDF Cadence"
   ]
  },
  {
   "cell_type": "raw",
   "id": "9be68397-f9a1-4088-8325-a17b78d31245",
   "metadata": {
    "execution": {
     "iopub.execute_input": "2024-03-08T22:15:33.555874Z",
     "iopub.status.busy": "2024-03-08T22:15:33.555698Z",
     "iopub.status.idle": "2024-03-08T22:15:33.558934Z",
     "shell.execute_reply": "2024-03-08T22:15:33.558376Z",
     "shell.execute_reply.started": "2024-03-08T22:15:33.555856Z"
    }
   },
   "source": [
    "time_window_duration = 120"
   ]
  },
  {
   "cell_type": "raw",
   "id": "bbeec1ce-44da-48e0-8fe9-88b7a890f296",
   "metadata": {
    "execution": {
     "iopub.execute_input": "2024-03-08T22:15:33.559785Z",
     "iopub.status.busy": "2024-03-08T22:15:33.559627Z",
     "iopub.status.idle": "2024-03-08T22:15:34.541840Z",
     "shell.execute_reply": "2024-03-08T22:15:34.541389Z",
     "shell.execute_reply.started": "2024-03-08T22:15:33.559770Z"
    }
   },
   "source": [
    "# offset by 0.5 to get to the right rollover for day_obs, and to make the range inclusive\n",
    "ddf_start_time = Time(day_obs_mjd - time_window_duration - 0.5, format='mjd')\n",
    "ddf_end_time = Time(day_obs_mjd + 0.5, format='mjd')\n",
    "ddf_visits = schedview.collect.opsim.read_ddf_visits(visit_db_fname, ddf_start_time, ddf_end_time)"
   ]
  },
  {
   "cell_type": "raw",
   "id": "85c89824-de1a-4abe-af4f-a6187936cadc",
   "metadata": {
    "execution": {
     "iopub.execute_input": "2024-03-08T22:15:34.542535Z",
     "iopub.status.busy": "2024-03-08T22:15:34.542407Z",
     "iopub.status.idle": "2024-03-08T22:15:35.487480Z",
     "shell.execute_reply": "2024-03-08T22:15:35.487003Z",
     "shell.execute_reply.started": "2024-03-08T22:15:34.542523Z"
    }
   },
   "source": [
    "nightly_ddf = schedview.compute.visits.accum_teff_by_night(ddf_visits)"
   ]
  },
  {
   "cell_type": "raw",
   "id": "3cc0ac65-e6e4-435a-b3f6-3574566e8b6f",
   "metadata": {
    "execution": {
     "iopub.execute_input": "2024-03-08T22:15:35.488292Z",
     "iopub.status.busy": "2024-03-08T22:15:35.488159Z",
     "iopub.status.idle": "2024-03-08T22:15:36.093353Z",
     "shell.execute_reply": "2024-03-08T22:15:36.092923Z",
     "shell.execute_reply.started": "2024-03-08T22:15:35.488278Z"
    }
   },
   "source": [
    "cadence_plots = schedview.plot.create_cadence_plot(nightly_ddf, day_obs_mjd - time_window_duration, day_obs_mjd)\n",
    "bokeh.io.show(cadence_plots)"
   ]
  },
  {
   "cell_type": "markdown",
   "id": "0e3605be-cd8f-4d3f-8e93-64ced652db0b",
   "metadata": {
    "execution": {
     "iopub.execute_input": "2024-02-16T21:47:37.587126Z",
     "iopub.status.busy": "2024-02-16T21:47:37.586843Z",
     "iopub.status.idle": "2024-02-16T21:47:37.589195Z",
     "shell.execute_reply": "2024-02-16T21:47:37.588851Z",
     "shell.execute_reply.started": "2024-02-16T21:47:37.587109Z"
    }
   },
   "source": [
    "## Table of exposures"
   ]
  },
  {
   "cell_type": "raw",
   "id": "5953fe1b-1621-4bfb-95f1-6b2b539edb8c",
   "metadata": {
    "execution": {
     "iopub.execute_input": "2024-03-08T22:15:36.094097Z",
     "iopub.status.busy": "2024-03-08T22:15:36.093952Z",
     "iopub.status.idle": "2024-03-08T22:15:36.225866Z",
     "shell.execute_reply": "2024-03-08T22:15:36.225443Z",
     "shell.execute_reply.started": "2024-03-08T22:15:36.094084Z"
    }
   },
   "source": [
    "displayed_columns = ['start_date', 'fieldRA', 'fieldDec', 'filter', 'visitExposureTime', 'numExposures', 'teff', 'skyBrightness', 'seeingFwhmEff', 'cloud', 'note']\n",
    "displayed_visits_df = visits.loc[:, displayed_columns]\n",
    "with pd.option_context('display.max_rows', 2000):\n",
    "    display(displayed_visits_df)"
   ]
  },
  {
   "cell_type": "code",
   "execution_count": null,
   "id": "83d057e7-5c3a-4ef4-852b-f1b176516c64",
   "metadata": {},
   "outputs": [],
   "source": []
  }
 ],
 "metadata": {
  "kernelspec": {
   "display_name": "ehn311",
   "language": "python",
   "name": "ehn311"
  },
  "language_info": {
   "codemirror_mode": {
    "name": "ipython",
    "version": 3
   },
   "file_extension": ".py",
   "mimetype": "text/x-python",
   "name": "python",
   "nbconvert_exporter": "python",
   "pygments_lexer": "ipython3",
   "version": "3.11.6"
  }
 },
 "nbformat": 4,
 "nbformat_minor": 5
}
