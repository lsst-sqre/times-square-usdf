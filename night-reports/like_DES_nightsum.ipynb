{
 "cells": [
  {
   "cell_type": "markdown",
   "id": "ca1f04f0-f28b-4964-965a-c2e12186a84b",
   "metadata": {},
   "source": [
    "# Mimic of the DES night summary, but for Rubin Observatory"
   ]
  },
  {
   "cell_type": "code",
   "execution_count": null,
   "id": "54aad269-400f-44c2-8438-1b6111ba6a9b",
   "metadata": {},
   "outputs": [],
   "source": [
    "# This cell is only for setting parameter defaults\n",
    "day_obs = \"2027-11-10\"\n",
    "visit_db_fname = None"
   ]
  },
  {
   "cell_type": "code",
   "execution_count": null,
   "id": "cebab153-6aeb-4463-a06d-f8540807d838",
   "metadata": {},
   "outputs": [],
   "source": [
    "import datetime\n",
    "import sys\n",
    "from IPython.display import display, HTML\n",
    "import pandas as pd\n",
    "import bokeh\n",
    "import bokeh.io\n",
    "import bokeh.plotting\n",
    "import bokeh.models\n",
    "import bokeh.transform\n",
    "import bokeh.layouts\n",
    "import sqlite3\n",
    "import numpy as np\n",
    "import healpy\n",
    "import astropy\n",
    "import colorcet\n",
    "import matplotlib as mpl\n",
    "import matplotlib.pyplot as plt\n",
    "import cartopy\n",
    "import healpy as hp\n",
    "import astropy.units as u\n",
    "from astropy.visualization import ZScaleInterval\n",
    "from astropy.time import Time\n",
    "from astropy.coordinates import SkyCoord, get_body\n",
    "from lsst.resources import ResourcePath"
   ]
  },
  {
   "cell_type": "code",
   "execution_count": null,
   "id": "44b8c6e0-afe1-47a5-b93e-9b069ff04ebf",
   "metadata": {
    "execution": {
     "iopub.execute_input": "2024-02-20T16:26:02.245922Z",
     "iopub.status.busy": "2024-02-20T16:26:02.245623Z",
     "iopub.status.idle": "2024-02-20T16:26:02.248804Z",
     "shell.execute_reply": "2024-02-20T16:26:02.248381Z",
     "shell.execute_reply.started": "2024-02-20T16:26:02.245903Z"
    }
   },
   "outputs": [],
   "source": [
    "sys.path.insert(0, '/sdf/data/rubin/user/neilsen/devel/uranography')\n",
    "sys.path.insert(0, '/sdf/data/rubin/user/neilsen/devel/rubin_scheduler')\n",
    "sys.path.insert(0, '/sdf/data/rubin/user/neilsen/devel/rubin_sim')\n",
    "sys.path.insert(0, '/sdf/data/rubin/user/neilsen/devel/schedview')"
   ]
  },
  {
   "cell_type": "code",
   "execution_count": null,
   "id": "8946983f-95ab-42a9-b0ee-9cbfc26fb913",
   "metadata": {},
   "outputs": [],
   "source": [
    "import rubin_scheduler\n",
    "import rubin_scheduler.utils\n",
    "import rubin_scheduler.site_models\n",
    "import schedview.compute.astro\n",
    "import schedview.compute.visits\n",
    "import uranography\n",
    "import schedview.plot.visitmap\n",
    "\n",
    "from rubin_sim import maf\n",
    "from rubin_sim.data import get_baseline\n",
    "from schedview.compute.camera import LsstCameraFootprintPerimeter\n",
    "from rubin_scheduler.scheduler.model_observatory import ModelObservatory\n",
    "from uranography.api import Planisphere, make_zscale_linear_cmap\n",
    "from schedview.plot.survey_mpl import create_hpix_visit_map_grid"
   ]
  },
  {
   "cell_type": "code",
   "execution_count": null,
   "id": "236c7b26-6972-4ae9-971d-5f4a71389512",
   "metadata": {},
   "outputs": [],
   "source": [
    "import rubin_scheduler"
   ]
  },
  {
   "cell_type": "code",
   "execution_count": null,
   "id": "13a861a5-0cac-4c0f-9e7f-54ccdc7a6b51",
   "metadata": {},
   "outputs": [],
   "source": [
    "bokeh.io.output_notebook()"
   ]
  },
  {
   "cell_type": "code",
   "execution_count": null,
   "id": "f7d895e0-2f44-49d5-b4b9-a6a044f660d9",
   "metadata": {},
   "outputs": [],
   "source": [
    "%matplotlib inline"
   ]
  },
  {
   "cell_type": "code",
   "execution_count": null,
   "id": "8bdaefdd-bfed-40b8-a5fc-57f542554599",
   "metadata": {},
   "outputs": [],
   "source": [
    "astropy.utils.iers.conf.iers_degraded_accuracy = 'ignore'"
   ]
  },
  {
   "cell_type": "code",
   "execution_count": null,
   "id": "5217ca14-4f42-4a6f-8ff0-8c27793d0404",
   "metadata": {},
   "outputs": [],
   "source": [
    "if visit_db_fname is None:\n",
    "    visit_db_fname = get_baseline()"
   ]
  },
  {
   "cell_type": "code",
   "execution_count": null,
   "id": "689b08e8-a330-4f1d-a7a3-b01597eec0fb",
   "metadata": {},
   "outputs": [],
   "source": [
    "baseline_opsim_rp = ResourcePath(visit_db_fname)\n",
    "day_obs_mjd = int(Time(day_obs).mjd)\n",
    "observatory = ModelObservatory(init_load_length=1)\n",
    "timezone = \"Chile/Continental\"\n",
    "use_matplotlib = True"
   ]
  },
  {
   "cell_type": "code",
   "execution_count": null,
   "id": "1a220460-93a1-4d53-891f-08c41939a86b",
   "metadata": {},
   "outputs": [],
   "source": [
    "visits = schedview.collect.read_opsim(baseline_opsim_rp, constraint=f\"FLOOR(observationStartMJD-0.5)={day_obs_mjd}\")\n",
    "visits = schedview.compute.visits.add_day_obs(visits)\n",
    "visits = schedview.compute.visits.add_maf_metric(visits, maf.TeffMetric(), 'teff')\n",
    "visits = schedview.compute.visits.add_coords_tuple(visits)\n",
    "visits = schedview.compute.visits.add_overhead(visits)"
   ]
  },
  {
   "cell_type": "markdown",
   "id": "f838eee5-3839-4030-a981-90cf2cb2b621",
   "metadata": {},
   "source": [
    "Using fiducial depths for t_eff calculation from https://github.com/lsst-sims/smtn-002/blob/main/notebooks/teff_fiducial.ipynb commit e367d65.\n",
    "These probably should be updated."
   ]
  },
  {
   "cell_type": "markdown",
   "id": "485d3d14-dae3-4d4e-981d-eaaf99d60929",
   "metadata": {},
   "source": [
    "### Sun and Moon"
   ]
  },
  {
   "cell_type": "code",
   "execution_count": null,
   "id": "4c4101a0-fcf4-4b8a-93f4-6ad6d900dbea",
   "metadata": {},
   "outputs": [],
   "source": [
    "day_obs_datetime = Time(day_obs_mjd, format='mjd').datetime\n",
    "day_obs_date = datetime.date(day_obs_datetime.year, day_obs_datetime.month, day_obs_datetime.day)\n",
    "night_events = schedview.compute.astro.night_events(day_obs_date)\n",
    "night_events"
   ]
  },
  {
   "cell_type": "code",
   "execution_count": null,
   "id": "e235f6b8-9799-414f-8b4d-166a394b69ae",
   "metadata": {},
   "outputs": [],
   "source": [
    "print(f\"Moon phase: {visits['moonPhase'].median()}\")"
   ]
  },
  {
   "cell_type": "code",
   "execution_count": null,
   "id": "1aa03f23-69b8-4344-8a2e-07ddbc41749e",
   "metadata": {},
   "outputs": [],
   "source": [
    "model_observatory = ModelObservatory(init_load_length=1)\n",
    "model_observatory.mjd = night_events.loc['night_middle', 'MJD']"
   ]
  },
  {
   "cell_type": "markdown",
   "id": "6a3134fa-10ad-403b-bce3-56858e59d6fb",
   "metadata": {},
   "source": [
    "## Conditions and statistics"
   ]
  },
  {
   "cell_type": "markdown",
   "id": "9d387553-ac08-4cb5-8a41-f1da65311699",
   "metadata": {},
   "source": [
    "### Numbers of exposures, and gaps between them"
   ]
  },
  {
   "cell_type": "code",
   "execution_count": null,
   "id": "fd359239-4e7a-4f18-9526-a49fe4665fb7",
   "metadata": {},
   "outputs": [],
   "source": [
    "overhead_summary = schedview.compute.visits.compute_overhead_summary(visits, night_events.loc['sun_n12_setting','MJD'], night_events.loc['sun_n12_rising','MJD'])\n",
    "summary_table = schedview.plot.create_overhead_summary_table(overhead_summary)\n",
    "display(HTML(summary_table))"
   ]
  },
  {
   "cell_type": "markdown",
   "id": "9ad2f7a1-1df3-4b62-b0a3-e8618051d97c",
   "metadata": {},
   "source": [
    "## Histogram of gaps between exposures"
   ]
  },
  {
   "cell_type": "code",
   "execution_count": null,
   "id": "5992d8a6-075c-4bc7-bbb8-54fc2c679463",
   "metadata": {},
   "outputs": [],
   "source": [
    "p1 = schedview.plot.create_overhead_histogram(visits)\n",
    "p2 = schedview.plot.plot_overhead_vs_slew_distance(visits)\n",
    "overhead_plots = bokeh.layouts.row([p1, p2])\n",
    "bokeh.io.show(overhead_plots)"
   ]
  },
  {
   "cell_type": "markdown",
   "id": "d6a2d6e4-720d-405b-9ed4-fd60becad920",
   "metadata": {},
   "source": [
    "## Long gaps between exposures"
   ]
  },
  {
   "cell_type": "code",
   "execution_count": null,
   "id": "10ad3eb6-8351-4f13-9d4a-9dc7ea4e25df",
   "metadata": {},
   "outputs": [],
   "source": [
    "visits.head()"
   ]
  },
  {
   "cell_type": "code",
   "execution_count": null,
   "id": "63283a0a-a7c7-406c-bdf4-14c40e16ffdb",
   "metadata": {},
   "outputs": [],
   "source": [
    "num_gaps = 10\n",
    "long_gap_visits = visits.sort_values('overhead', ascending=False).query('overhead>30').loc[:, ['start_date', 'overhead', 'slewDistance', 'filter', 'previous_filter']].sort_values('observationId')\n",
    "long_gap_visits"
   ]
  },
  {
   "cell_type": "markdown",
   "id": "bda63097-941a-4e1c-85cd-84307768ff2c",
   "metadata": {},
   "source": [
    "## PSF Width"
   ]
  },
  {
   "cell_type": "code",
   "execution_count": null,
   "id": "34cdfa5a-f0f9-4c57-99f6-b32d2d933be4",
   "metadata": {},
   "outputs": [],
   "source": [
    "p = schedview.plot.plot_visit_param_vs_time(visits, 'seeingFwhmEff')\n",
    "p.yaxis.axis_label = \"Effective PSF FWHM (asec)\"\n",
    "bokeh.io.show(p)"
   ]
  },
  {
   "cell_type": "markdown",
   "id": "a468c10f-9f50-47ea-a61d-5c16fd2fff25",
   "metadata": {},
   "source": [
    "## Instrumental seeing"
   ]
  },
  {
   "cell_type": "code",
   "execution_count": null,
   "id": "f76518c9-fc83-4578-8bfe-bdfc46718ddc",
   "metadata": {},
   "outputs": [],
   "source": [
    "visits = schedview.compute.visits.add_instrumental_fwhm(visits)\n",
    "p = schedview.plot.plot_visit_param_vs_time(visits, 'inst_fwhm')\n",
    "p.yaxis.axis_label = \"Instrumental contribution to the FWHM (asec)\"\n",
    "bokeh.io.show(p)"
   ]
  },
  {
   "cell_type": "markdown",
   "id": "6f1eccfd-0ec4-45f9-8be4-d189f47c8ad8",
   "metadata": {},
   "source": [
    "This perplexes me; I expected the instrumental contribution in simulations to be constant."
   ]
  },
  {
   "cell_type": "markdown",
   "id": "e82c9b6d-16eb-4b1c-98cd-0265f25ea1a0",
   "metadata": {},
   "source": [
    "## PSF ellipticity"
   ]
  },
  {
   "cell_type": "markdown",
   "id": "27c2990a-6362-4111-bafd-cb0b02fed2e7",
   "metadata": {},
   "source": [
    "No ellipticity is simulated by opsim."
   ]
  },
  {
   "cell_type": "markdown",
   "id": "0671c396-23ea-40f9-8051-94643931b989",
   "metadata": {},
   "source": [
    "## Effective exposure time"
   ]
  },
  {
   "cell_type": "code",
   "execution_count": null,
   "id": "fcb42d9e-8635-4cb6-a559-626fde556eb1",
   "metadata": {},
   "outputs": [],
   "source": [
    "p = schedview.plot.plot_visit_param_vs_time(visits, 'teff')\n",
    "p.yaxis.axis_label = 'Effecive exposure time (sec.)'\n",
    "p.title = \"Effective exposure time\"\n",
    "bokeh.io.show(p)"
   ]
  },
  {
   "cell_type": "markdown",
   "id": "1332b0b8-ebab-4003-ae94-cfb828b54102",
   "metadata": {
    "execution": {
     "iopub.execute_input": "2024-02-19T20:07:50.543357Z",
     "iopub.status.busy": "2024-02-19T20:07:50.543104Z",
     "iopub.status.idle": "2024-02-19T20:07:50.545759Z",
     "shell.execute_reply": "2024-02-19T20:07:50.545351Z",
     "shell.execute_reply.started": "2024-02-19T20:07:50.543342Z"
    }
   },
   "source": [
    "## Sky brightness"
   ]
  },
  {
   "cell_type": "code",
   "execution_count": null,
   "id": "ff7cfe90-1471-47d1-95d7-08da8e05f5b4",
   "metadata": {},
   "outputs": [],
   "source": [
    "p = schedview.plot.plot_visit_param_vs_time(visits, 'skyBrightness')\n",
    "p.yaxis.axis_label = 'Sky brightness (mag/asec^2'\n",
    "p.title = \"Sky brightness\"\n",
    "bokeh.io.show(p)"
   ]
  },
  {
   "cell_type": "markdown",
   "id": "fba9dc4e-c197-415f-8f40-33c0fccf8d5b",
   "metadata": {},
   "source": [
    "## Cloud cover"
   ]
  },
  {
   "cell_type": "markdown",
   "id": "adb8a557-d14f-4ff6-bd32-3a56a9fb383d",
   "metadata": {},
   "source": [
    "When run with current opsim simulations, all simulations are either completely spoiled (infinite extinction) or clear (no extinction), and what is recorded is a fraction of the sky covered by clouds.\n",
    "\n",
    "So, where the DES nightsum plots the extinction, what is plotted here is the recorded fraction cloud cover."
   ]
  },
  {
   "cell_type": "code",
   "execution_count": null,
   "id": "4a3357a2-44a8-4207-b49f-b4c38f71a818",
   "metadata": {},
   "outputs": [],
   "source": [
    "p = schedview.plot.plot_visit_param_vs_time(visits, 'cloud')\n",
    "p.yaxis.axis_label = 'Cloud cover'\n",
    "p.title = \"Cloud cover\"\n",
    "bokeh.io.show(p)"
   ]
  },
  {
   "cell_type": "markdown",
   "id": "e5ac8114-2e48-4f05-9296-e7ea0271ae7c",
   "metadata": {},
   "source": [
    "## Visit map"
   ]
  },
  {
   "cell_type": "code",
   "execution_count": null,
   "id": "26004a75-f59b-40b9-98a1-380264c8d583",
   "metadata": {},
   "outputs": [],
   "source": [
    "vmap, vmap_data = schedview.plot.visitmap.create_visit_skymaps(\n",
    "    visits=visits,\n",
    "    night_date=day_obs_date,\n",
    "    timezone=timezone,\n",
    "    observatory=observatory,\n",
    ")"
   ]
  },
  {
   "cell_type": "code",
   "execution_count": null,
   "id": "bb1b86bd-5385-4b26-8811-98b2f02633e4",
   "metadata": {},
   "outputs": [],
   "source": [
    "bokeh.io.show(vmap)"
   ]
  },
  {
   "cell_type": "markdown",
   "id": "43634b30-8c12-4416-86c3-375ee6fbabcd",
   "metadata": {},
   "source": [
    "## Survey Progress"
   ]
  },
  {
   "cell_type": "markdown",
   "id": "9340b2fb-7e03-4bfd-830b-e867fb29353f",
   "metadata": {},
   "source": [
    "### Map depth accumulated so far"
   ]
  },
  {
   "cell_type": "code",
   "execution_count": null,
   "id": "adc2ffea-7a3c-483b-9fa1-179d5b29066d",
   "metadata": {},
   "outputs": [],
   "source": [
    "observatory.mjd = night_events.loc['night_middle', 'MJD']\n",
    "conditions = observatory.return_conditions()\n",
    "previous_visits = schedview.collect.read_opsim(visit_db_fname, constraint=f\"observationStartMjd < {night_events.loc['sunset', 'MJD']}\")"
   ]
  },
  {
   "cell_type": "code",
   "execution_count": null,
   "id": "80059aec-91bd-41a3-9bd7-135d325d986c",
   "metadata": {},
   "outputs": [],
   "source": [
    "metric = maf.TeffMetric()\n",
    "teff_hpix = schedview.compute.maf.compute_hpix_metric_in_bands(previous_visits, metric, nside=32)"
   ]
  },
  {
   "cell_type": "code",
   "execution_count": null,
   "id": "45206706-6ab8-4529-9213-516601c6a0ba",
   "metadata": {},
   "outputs": [],
   "source": [
    "if use_matplotlib:\n",
    "    fig = create_hpix_visit_map_grid(visits, teff_hpix, model_observatory, night_events)\n",
    "else:\n",
    "    map_grid = schedview.plot.create_hpix_visit_map_grid(teff_hpix, visits, conditions)\n",
    "    bokeh.io.show(map_grid)"
   ]
  },
  {
   "cell_type": "markdown",
   "id": "eb98630d-4671-44c1-96a6-08684d876bb9",
   "metadata": {},
   "source": [
    "### Map the most recent visit so far"
   ]
  },
  {
   "cell_type": "code",
   "execution_count": null,
   "id": "35f12992-78e4-4655-94b9-ad16fb83f921",
   "metadata": {},
   "outputs": [],
   "source": [
    "metric = maf.MaxMetric('observationStartMJD')\n",
    "latest_mjd_hpix = schedview.compute.maf.compute_hpix_metric_in_bands(previous_visits, metric, nside=32)\n",
    "time_since_latest_hpix = {b: night_events.loc['sunset', 'MJD'] - latest_mjd_hpix[b].filled(np.nan) for b in latest_mjd_hpix}"
   ]
  },
  {
   "cell_type": "code",
   "execution_count": null,
   "id": "1adc9559-7416-4e95-8188-ac30956373a8",
   "metadata": {},
   "outputs": [],
   "source": [
    "long_limit = 30\n",
    "for band in time_since_latest_hpix:\n",
    "    long_hpix = time_since_latest_hpix[band] > long_limit\n",
    "    time_since_latest_hpix[band][long_hpix] = np.nan"
   ]
  },
  {
   "cell_type": "code",
   "execution_count": null,
   "id": "bb84dc3f-8d3d-4141-a652-0327a0f1bf54",
   "metadata": {},
   "outputs": [],
   "source": [
    "if use_matplotlib:\n",
    "    cmap = colorcet.cm.blues_r\n",
    "    fig = create_hpix_visit_map_grid(visits, time_since_latest_hpix, model_observatory, night_events, scale_limits=[0, 10], cmap=cmap)\n",
    "else:\n",
    "    map_grid = schedview.plot.create_hpix_visit_map_grid(\n",
    "        time_since_latest_hpix,\n",
    "        visits,\n",
    "        conditions,\n",
    "        scale_limits=[10, 0],\n",
    "    )\n",
    "    bokeh.io.show(map_grid)"
   ]
  },
  {
   "cell_type": "markdown",
   "id": "53308798-2113-4699-a784-446727d8143e",
   "metadata": {},
   "source": [
    "## DDF Cadence"
   ]
  },
  {
   "cell_type": "code",
   "execution_count": null,
   "id": "630e35d1-bf51-488e-affd-f735d6dd61dc",
   "metadata": {},
   "outputs": [],
   "source": [
    "time_window_duration = 120"
   ]
  },
  {
   "cell_type": "code",
   "execution_count": null,
   "id": "a2a0c76e-abed-4d10-8905-28ef0433ac2b",
   "metadata": {},
   "outputs": [],
   "source": [
    "# offset by 0.5 to get to the right rollover for day_obs, and to make the range inclusive\n",
    "ddf_start_time = Time(day_obs_mjd - time_window_duration - 0.5, format='mjd')\n",
    "ddf_end_time = Time(day_obs_mjd + 0.5, format='mjd')\n",
    "ddf_visits = schedview.collect.opsim.read_ddf_visits(visit_db_fname, ddf_start_time, ddf_end_time)"
   ]
  },
  {
   "cell_type": "code",
   "execution_count": null,
   "id": "de8e7541-8078-4f1b-a1de-1f756fe1840f",
   "metadata": {},
   "outputs": [],
   "source": [
    "nightly_ddf = schedview.compute.visits.accum_teff_by_night(ddf_visits)"
   ]
  },
  {
   "cell_type": "code",
   "execution_count": null,
   "id": "f4e3dc4b-ee3d-43f1-92d1-89d9da138641",
   "metadata": {},
   "outputs": [],
   "source": [
    "cadence_plots = schedview.plot.create_cadence_plot(nightly_ddf, day_obs_mjd - time_window_duration, day_obs_mjd)\n",
    "bokeh.io.show(cadence_plots)"
   ]
  },
  {
   "cell_type": "markdown",
   "id": "0e3605be-cd8f-4d3f-8e93-64ced652db0b",
   "metadata": {
    "execution": {
     "iopub.execute_input": "2024-02-16T21:47:37.587126Z",
     "iopub.status.busy": "2024-02-16T21:47:37.586843Z",
     "iopub.status.idle": "2024-02-16T21:47:37.589195Z",
     "shell.execute_reply": "2024-02-16T21:47:37.588851Z",
     "shell.execute_reply.started": "2024-02-16T21:47:37.587109Z"
    }
   },
   "source": [
    "## Table of exposures"
   ]
  },
  {
   "cell_type": "code",
   "execution_count": null,
   "id": "4c713a9a-8ea7-4146-80e4-aca34c836855",
   "metadata": {},
   "outputs": [],
   "source": [
    "displayed_columns = ['start_date', 'fieldRA', 'fieldDec', 'filter', 'visitExposureTime', 'numExposures', 'teff', 'skyBrightness', 'seeingFwhmEff', 'cloud', 'note']\n",
    "displayed_visits_df = visits.loc[:, displayed_columns]\n",
    "with pd.option_context('display.max_rows', 2000):\n",
    "    display(displayed_visits_df)"
   ]
  },
  {
   "cell_type": "code",
   "execution_count": null,
   "id": "83d057e7-5c3a-4ef4-852b-f1b176516c64",
   "metadata": {},
   "outputs": [],
   "source": []
  }
 ],
 "metadata": {
  "kernelspec": {
   "display_name": "ehn311",
   "language": "python",
   "name": "ehn311"
  },
  "language_info": {
   "codemirror_mode": {
    "name": "ipython",
    "version": 3
   },
   "file_extension": ".py",
   "mimetype": "text/x-python",
   "name": "python",
   "nbconvert_exporter": "python",
   "pygments_lexer": "ipython3",
   "version": "3.11.6"
  }
 },
 "nbformat": 4,
 "nbformat_minor": 5
}
