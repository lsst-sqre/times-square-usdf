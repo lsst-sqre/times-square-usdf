{
 "cells": [
  {
   "cell_type": "markdown",
   "id": "3a2100c1-0e53-4028-ab64-ecf8cae34eed",
   "metadata": {},
   "source": [
    "# AuxTel almanac demo for {{ params.dayobs }}\n",
    "\n",
    "With [Astroplan](https://astroplan.readthedocs.io/en/latest/index.html), a nightly report can include a basic almanac:\n",
    "\n",
    "- sunset and sunrise times\n",
    "- nautical twilight\n",
    "- moon illumination\n",
    "- moon altitude"
   ]
  },
  {
   "cell_type": "code",
   "execution_count": null,
   "id": "edab80bd-8644-4e93-9d42-501ac8d0547f",
   "metadata": {},
   "outputs": [],
   "source": [
    "# Times Square parameters\n",
    "dayobs = \"20240108\""
   ]
  },
  {
   "cell_type": "code",
   "execution_count": null,
   "id": "9ebf3735-428b-46b5-97f7-fd3d96da2763",
   "metadata": {},
   "outputs": [],
   "source": [
    "from datetime import datetime, timedelta, timezone, UTC\n",
    "from zoneinfo import ZoneInfo\n",
    "\n",
    "from astroplan import Observer\n",
    "from astropy.time import Time\n",
    "from IPython.display import Markdown\n",
    "import matplotlib as mpl\n",
    "import matplotlib.pyplot as plt\n",
    "import numpy as np"
   ]
  },
  {
   "cell_type": "code",
   "execution_count": null,
   "id": "14249e5c-5bbc-4395-9808-e50d99146c48",
   "metadata": {},
   "outputs": [],
   "source": [
    "local_timezone = ZoneInfo(\"America/Santiago\")\n",
    "timestamp_format = \"%Y-%m-%d %H:%M:%S %Z\"\n",
    "auxtel_site = Observer.at_site(\"Rubin AuxTel\")\n",
    "\n",
    "dayobs_start = datetime.strptime(dayobs, '%Y%m%d').replace(\n",
    "    hour=0, minute=0, second=0, tzinfo=timezone(-timedelta(hours=12))\n",
    ")\n",
    "\n",
    "# Datetimes to establish reference points for finding sunset times\n",
    "# and measurement times for moon illumination\n",
    "noon_local_datetime = dayobs_start.astimezone(local_timezone).replace(\n",
    "    hour=12, minute=0, second=0, tzinfo=local_timezone\n",
    ")\n",
    "midnight_local_datetime = dayobs_start.astimezone(local_timezone).replace(\n",
    "    hour=23, minute=59, second=59, tzinfo=local_timezone\n",
    ")\n",
    "\n",
    "# Astropy Time for astroplan calculations\n",
    "noon_time = Time(noon_local_datetime, scale=\"utc\")\n",
    "midnight_time = Time(midnight_local_datetime, scale=\"utc\")"
   ]
  },
  {
   "cell_type": "code",
   "execution_count": null,
   "id": "f0551c96-b49c-4139-bc61-7dfab12bd273",
   "metadata": {},
   "outputs": [],
   "source": [
    "# Compute sunrise/sunset\n",
    "sunset_datetime = auxtel_site.sun_set_time(\n",
    "    noon_time,\n",
    "    which=\"next\"\n",
    ").to_datetime(timezone=UTC)\n",
    "sunrise_datetime = auxtel_site.sun_rise_time(\n",
    "    noon_time,\n",
    "    which=\"next\"\n",
    ").to_datetime(timezone=UTC)\n",
    "\n",
    "# Nautical sunset and sunrise (preferred by observers over astronomical twilight)\n",
    "evening_twilight_datetime = auxtel_site.twilight_evening_nautical(\n",
    "    noon_time,\n",
    "    which=\"next\"\n",
    ").to_datetime(timezone=UTC)\n",
    "morning_twilight_datetime = auxtel_site.twilight_morning_nautical(\n",
    "    noon_time,\n",
    "    which=\"next\"\n",
    ").to_datetime(timezone=UTC)"
   ]
  },
  {
   "cell_type": "code",
   "execution_count": null,
   "id": "a6a4312a-6533-49d3-ba89-f6fc8441b5fd",
   "metadata": {},
   "outputs": [],
   "source": [
    "# Lunar almanac\n",
    "moon_illumination = auxtel_site.moon_illumination(midnight_time)\n",
    "moonrise_datetime = auxtel_site.moon_rise_time(\n",
    "    Time(midnight_time),\n",
    "    which=\"nearest\"\n",
    ").to_datetime(timezone=UTC)\n",
    "moonset_datetime = auxtel_site.moon_set_time(\n",
    "    Time(moonrise_datetime, scale=\"utc\"),\n",
    "    which=\"next\"\n",
    ").to_datetime(timezone=UTC)"
   ]
  },
  {
   "cell_type": "markdown",
   "id": "e94205f2-aff3-415d-bb30-bbf2fa5b974a",
   "metadata": {},
   "source": [
    "## Sun set and rise"
   ]
  },
  {
   "cell_type": "code",
   "execution_count": null,
   "id": "c85b2854-b88b-407c-bd02-322befdf37b5",
   "metadata": {},
   "outputs": [],
   "source": [
    "template = f\"\"\"\n",
    "| | Local time | UTC |\n",
    "| :- | :- | :- |\n",
    "| Sun set | {sunset_datetime.astimezone(local_timezone).strftime(timestamp_format)} | {sunset_datetime.strftime(timestamp_format)} |\n",
    "| Evening twilight | {evening_twilight_datetime.astimezone(local_timezone).strftime(timestamp_format)} | {evening_twilight_datetime.strftime(timestamp_format)} |\n",
    "| Morning twilight | {morning_twilight_datetime.astimezone(local_timezone).strftime(timestamp_format)} | {morning_twilight_datetime.strftime(timestamp_format)} |\n",
    "| Sun rise | {sunrise_datetime.astimezone(local_timezone).strftime(timestamp_format)} | {sunrise_datetime.strftime(timestamp_format)} |\n",
    "\n",
    "*Twilight is nautical (12 degrees below horizon).*\n",
    "\"\"\"\n",
    "\n",
    "Markdown(template)"
   ]
  },
  {
   "cell_type": "code",
   "execution_count": null,
   "id": "02de6c06-ac81-47f2-a2ba-9848e4eaee3b",
   "metadata": {},
   "outputs": [],
   "source": [
    "observing_hours = morning_twilight_datetime - evening_twilight_datetime\n",
    "template = f\"**Observing time:** {observing_hours / timedelta(hours=1.):.2f} hours\"\n",
    "Markdown(template)"
   ]
  },
  {
   "cell_type": "markdown",
   "id": "d4774652-7ebd-4ad8-9fe1-571535f2fbc6",
   "metadata": {},
   "source": [
    "## Moon"
   ]
  },
  {
   "cell_type": "code",
   "execution_count": null,
   "id": "3b97e1bc-8726-453b-90d8-eb5d324e5c07",
   "metadata": {},
   "outputs": [],
   "source": [
    "\n",
    "def conf_axes(ax, label_xaxis=False, label_twilight=False):\n",
    "    \"\"\"Configure axis for plotting a night.\n",
    "\n",
    "    Functionality includes:\n",
    "\n",
    "    - plotting the twilight period (and optionally labelling it)\n",
    "    - setting the axis limits\n",
    "    - hiding the x-axis labels (optionally) as needed in the axes grid.\n",
    "    \"\"\"\n",
    "    # Note: this function depends on global state for the sunset/sunrise\n",
    "    # and twilight datetimes.\n",
    "    ax.set_xlim([sunset_datetime, sunrise_datetime])\n",
    "    ax.axvspan(sunset_datetime, evening_twilight_datetime, fc='r', alpha=0.2, zorder=-2)\n",
    "    ax.axvspan(morning_twilight_datetime, sunrise_datetime, fc='r', alpha=0.2, zorder=-2)\n",
    "    if not label_xaxis:\n",
    "        ax.axes.xaxis.set_ticklabels([])\n",
    "\n",
    "    if label_twilight:\n",
    "        ax.text(\n",
    "            evening_twilight_datetime - timedelta(minutes=30),\n",
    "            0.5,\n",
    "            \"twilight\",\n",
    "            c='r',\n",
    "            size=15,\n",
    "            rotation=90,\n",
    "            transform=ax.get_xaxis_transform(),\n",
    "            horizontalalignment='center',\n",
    "            verticalalignment='center',\n",
    "            zorder=-1\n",
    "        )\n",
    "        ax.text(\n",
    "            morning_twilight_datetime + timedelta(minutes=30),\n",
    "            0.5,\n",
    "            \"twilight\",\n",
    "            c='r',\n",
    "            size=15,\n",
    "            rotation=90,\n",
    "            transform=ax.get_xaxis_transform(),\n",
    "            horizontalalignment='center',\n",
    "            verticalalignment='center',\n",
    "            zorder=-1\n",
    "        )\n",
    "\n",
    "_t1 = Time(sunset_datetime)\n",
    "_t2 = Time(sunrise_datetime)\n",
    "_t_grid = _t1 + (_t2 - _t1) * np.linspace(0., 1., 100)\n",
    "moon_altaz = auxtel_site.moon_altaz(_t_grid)\n",
    "\n",
    "_t = moon_altaz.obstime.to_datetime(timezone=UTC)\n",
    "fig, ax = plt.subplots()\n",
    "ax.plot(_t, moon_altaz.alt, lw=2)\n",
    "ax.axhline(0., ls='--', c='k')\n",
    "ax.set_xlabel(\"Time (MM-DD HH, UTC)\")\n",
    "ax.set_ylabel(\"Moon altitude (deg)\")\n",
    "ax.text(\n",
    "    0.5,\n",
    "    0.8,\n",
    "    f\"Moon illumination: {moon_illumination:.0%}\",\n",
    "    horizontalalignment='center',\n",
    "    verticalalignment='top',\n",
    "    transform=ax.transAxes,\n",
    "    bbox=dict(facecolor='w', alpha=0.8)\n",
    ")\n",
    "ax.text(\n",
    "    0.5,\n",
    "    0.95,\n",
    "    f\"DAYOBS {dayobs}\",\n",
    "    horizontalalignment='center',\n",
    "    verticalalignment='top',\n",
    "    transform=ax.transAxes,\n",
    ")\n",
    "conf_axes(ax, label_xaxis=True, label_twilight=True)\n",
    "plt.setp(ax.get_xticklabels(), rotation=30, ha=\"right\")\n",
    "plt.show()"
   ]
  },
  {
   "cell_type": "code",
   "execution_count": null,
   "id": "b2306892-c959-4ad4-8f3e-00b399099e98",
   "metadata": {},
   "outputs": [],
   "source": []
  }
 ],
 "metadata": {
  "kernelspec": {
   "display_name": "LSST",
   "language": "python",
   "name": "lsst"
  },
  "language_info": {
   "codemirror_mode": {
    "name": "ipython",
    "version": 3
   },
   "file_extension": ".py",
   "mimetype": "text/x-python",
   "name": "python",
   "nbconvert_exporter": "python",
   "pygments_lexer": "ipython3",
   "version": "3.12.10"
  }
 },
 "nbformat": 4,
 "nbformat_minor": 5
}
