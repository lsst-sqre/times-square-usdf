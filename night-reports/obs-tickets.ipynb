{
 "cells": [
  {
   "cell_type": "code",
   "execution_count": null,
   "id": "b7c3633a-31ec-46f4-8b2c-47fe172a0215",
   "metadata": {},
   "outputs": [],
   "source": [
    "# Times Square parameters\n",
    "date = '2024-01-08'"
   ]
  },
  {
   "cell_type": "markdown",
   "id": "44123913-4f2f-43dc-a5c4-a145848665d8",
   "metadata": {},
   "source": [
    "# OBS issue summary"
   ]
  },
  {
   "cell_type": "code",
   "execution_count": null,
   "id": "f8c30802-e799-408b-962a-0358ab11f783",
   "metadata": {},
   "outputs": [],
   "source": [
    "import os\n",
    "import json\n",
    "from urllib.parse import urljoin, urlencode\n",
    "from typing import Any\n",
    "from pprint import pprint\n",
    "from datetime import datetime\n",
    "from collections import defaultdict\n",
    "\n",
    "import httpx\n",
    "import pandas as pd\n",
    "from lsst.rsp import get_access_token"
   ]
  },
  {
   "cell_type": "code",
   "execution_count": null,
   "id": "8bfebe79-9f4a-4218-82ef-7e7b9386d8f1",
   "metadata": {},
   "outputs": [],
   "source": [
    "class JiraClient:\n",
    "    \"\"\"Jira API client for Notebook Aspect users.\"\"\"\n",
    "\n",
    "    def __init__(self) -> None:\n",
    "        env_url = os.getenv(\"EXTERNAL_INSTANCE_URL\", None)\n",
    "        if env_url is None:\n",
    "            raise RuntimeError(\"EXTERNAL_INSTANCE_URL environment variable is not set\")\n",
    "\n",
    "        self.jira_url = urljoin(env_url, \"/jira-data-proxy/\")\n",
    "        self._http_client = httpx.AsyncClient()\n",
    "\n",
    "    async def aclose(self) -> None:\n",
    "        await self._http_client.close()\n",
    "\n",
    "    @property\n",
    "    def _token(self) -> str:\n",
    "        \"\"\"An RSP token.\"\"\"\n",
    "        return get_access_token()\n",
    "\n",
    "    async def search(\n",
    "        self,\n",
    "        jql: str,\n",
    "        start_at: int | None = None,\n",
    "        max_results: int | None = None,\n",
    "        fields: list[str] | None = None,\n",
    "        exclude_fields: list[str] | None = None,\n",
    "        expand: list[str] | None = None\n",
    "    ) -> dict[str, Any]:\n",
    "        qs_parts = [(\"jql\", jql)]\n",
    "        if start_at:\n",
    "            qs_parts.append((\"startAt\", str(start_at)))\n",
    "        if max_results:\n",
    "            qs_parts.append((\"maxResults\", str(max_results)))\n",
    "        if fields or exclude_fields:\n",
    "            all_fields = []\n",
    "            if fields:\n",
    "                all_fields.extend(fields)\n",
    "            if exclude_fields:\n",
    "                all_fields.extend([f\"-{f}\" for f in exclude_fields])\n",
    "            qs_parts.append((\"fields\", \",\".join(all_fields)))\n",
    "        if expand:\n",
    "            qs_parts.append((\"exclude\", \",\".join(expand)))\n",
    "        qs = urlencode(qs_parts)\n",
    "        url = urljoin(self.jira_url, f\"rest/api/2/search?{qs}\")\n",
    "        r = await self._http_client.get(url, headers={\"Authorization\": f\"Bearer {self._token}\"})\n",
    "        r.raise_for_status()\n",
    "        return r.json()\n",
    "\n",
    "\n",
    "client = JiraClient()"
   ]
  },
  {
   "cell_type": "code",
   "execution_count": null,
   "id": "05bd9c3b-5a55-4362-9cb1-99e25fa7abeb",
   "metadata": {},
   "outputs": [],
   "source": [
    "obs_data = await client.search(\n",
    "    'project = \"OBS\" AND created >= 2024-01-15 AND created <= 2024-01-31',\n",
    "    fields=[\"summary\", \"created\", \"status\", \"reporter\", \"components\"]\n",
    ")\n",
    "# pprint(obs_data)"
   ]
  },
  {
   "cell_type": "code",
   "execution_count": null,
   "id": "fe55d751-e3ea-4eec-82a9-324fce947f73",
   "metadata": {},
   "outputs": [],
   "source": [
    "reduced_obs_data = defaultdict(list)\n",
    "for obs in obs_data[\"issues\"]:\n",
    "    reduced_obs_data[\"key\"].append(obs[\"key\"])\n",
    "    fields = obs[\"fields\"]\n",
    "    reduced_obs_data[\"summary\"].append(fields[\"summary\"])\n",
    "    reduced_obs_data[\"created\"].append(datetime.strptime(fields[\"created\"], \"%Y-%m-%dT%H:%M:%S.%f%z\"))\n",
    "    reduced_obs_data[\"reporter\"].append(fields[\"reporter\"][\"displayName\"])\n",
    "    reduced_obs_data[\"status\"].append(fields[\"status\"][\"name\"])\n",
    "issues_df = pd.DataFrame(reduced_obs_data)"
   ]
  },
  {
   "cell_type": "code",
   "execution_count": null,
   "id": "a31bedc2-a7bf-4a73-bba8-6ae9d91826df",
   "metadata": {},
   "outputs": [],
   "source": [
    "issues_df.sort_values(by=[\"created\"])"
   ]
  },
  {
   "cell_type": "code",
   "execution_count": null,
   "id": "de2faa9d-526e-4f6c-be66-c132413d97d9",
   "metadata": {},
   "outputs": [],
   "source": []
  }
 ],
 "metadata": {
  "kernelspec": {
   "display_name": "LSST",
   "language": "python",
   "name": "lsst"
  },
  "language_info": {
   "codemirror_mode": {
    "name": "ipython",
    "version": 3
   },
   "file_extension": ".py",
   "mimetype": "text/x-python",
   "name": "python",
   "nbconvert_exporter": "python",
   "pygments_lexer": "ipython3",
   "version": "3.11.4"
  }
 },
 "nbformat": 4,
 "nbformat_minor": 5
}
