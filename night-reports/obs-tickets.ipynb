{
 "cells": [
  {
   "cell_type": "code",
   "execution_count": null,
   "id": "b7c3633a-31ec-46f4-8b2c-47fe172a0215",
   "metadata": {},
   "outputs": [],
   "source": [
    "# Times Square parameters\n",
    "import datetime\n",
    "end_date = datetime.datetime.strptime('2024-01-08', \"%Y-%m-%d\")\n",
    "lookback = 14"
   ]
  },
  {
   "cell_type": "markdown",
   "id": "44123913-4f2f-43dc-a5c4-a145848665d8",
   "metadata": {},
   "source": [
    "# OBS issue summary"
   ]
  },
  {
   "cell_type": "code",
   "execution_count": null,
   "id": "f8c30802-e799-408b-962a-0358ab11f783",
   "metadata": {},
   "outputs": [],
   "source": [
    "import os\n",
    "import json\n",
    "from urllib.parse import urljoin, urlencode\n",
    "from typing import Any\n",
    "from pprint import pprint\n",
    "from datetime import datetime, timedelta\n",
    "from collections import defaultdict\n",
    "\n",
    "import httpx\n",
    "import pandas as pd\n",
    "from IPython.display import HTML\n",
    "from lsst.rsp import get_access_token"
   ]
  },
  {
   "cell_type": "code",
   "execution_count": null,
   "id": "8bfebe79-9f4a-4218-82ef-7e7b9386d8f1",
   "metadata": {},
   "outputs": [],
   "source": [
    "class JiraClient:\n",
    "    \"\"\"Jira API client for Notebook Aspect users.\"\"\"\n",
    "\n",
    "    def __init__(self) -> None:\n",
    "        env_url = os.getenv(\"EXTERNAL_INSTANCE_URL\", None)\n",
    "        if env_url is None:\n",
    "            raise RuntimeError(\"EXTERNAL_INSTANCE_URL environment variable is not set\")\n",
    "\n",
    "        self.jira_url = urljoin(env_url, \"/jira-data-proxy/\")\n",
    "        self._http_client = httpx.AsyncClient()\n",
    "\n",
    "    async def aclose(self) -> None:\n",
    "        await self._http_client.close()\n",
    "\n",
    "    @property\n",
    "    def _token(self) -> str:\n",
    "        \"\"\"An RSP token.\"\"\"\n",
    "        return get_access_token()\n",
    "\n",
    "    async def search(\n",
    "        self,\n",
    "        jql: str,\n",
    "        start_at: int | None = None,\n",
    "        max_results: int | None = None,\n",
    "        fields: list[str] | None = None,\n",
    "        exclude_fields: list[str] | None = None,\n",
    "        expand: list[str] | None = None\n",
    "    ) -> dict[str, Any]:\n",
    "        # print(jql)\n",
    "        qs_parts = [(\"jql\", jql)]\n",
    "        if start_at:\n",
    "            qs_parts.append((\"startAt\", str(start_at)))\n",
    "        if max_results:\n",
    "            qs_parts.append((\"maxResults\", str(max_results)))\n",
    "        if fields or exclude_fields:\n",
    "            all_fields = []\n",
    "            if fields:\n",
    "                all_fields.extend(fields)\n",
    "            if exclude_fields:\n",
    "                all_fields.extend([f\"-{f}\" for f in exclude_fields])\n",
    "            qs_parts.append((\"fields\", \",\".join(all_fields)))\n",
    "        if expand:\n",
    "            qs_parts.append((\"exclude\", \",\".join(expand)))\n",
    "        qs = urlencode(qs_parts)\n",
    "        url = urljoin(self.jira_url, f\"rest/api/2/search?{qs}\")\n",
    "        # print(url)\n",
    "        r = await self._http_client.get(url, headers={\"Authorization\": f\"Bearer {self._token}\"})\n",
    "        r.raise_for_status()\n",
    "        return r.json()\n",
    "\n",
    "\n",
    "client = JiraClient()"
   ]
  },
  {
   "cell_type": "code",
   "execution_count": null,
   "id": "05bd9c3b-5a55-4362-9cb1-99e25fa7abeb",
   "metadata": {},
   "outputs": [],
   "source": [
    "td = timedelta(days=lookback)\n",
    "start_date = end_date - td\n",
    "# print(end_date)\n",
    "obs_data = await client.search(\n",
    "    f'project = \"OBS\" AND created >= {start_date.strftime(\"%Y-%m-%d\")} AND created <= {end_date.strftime(\"%Y-%m-%d\")}',\n",
    "    fields=[\"summary\", \"created\", \"status\", \"reporter\", \"components\"]\n",
    ")\n",
    "# pprint(obs_data)"
   ]
  },
  {
   "cell_type": "code",
   "execution_count": null,
   "id": "67f8bf6f-c221-429a-9d03-b2655798bb4d",
   "metadata": {},
   "outputs": [],
   "source": [
    "reduced_obs_data = defaultdict(list)\n",
    "for obs in obs_data[\"issues\"]:\n",
    "    reduced_obs_data[\"key\"].append(obs[\"key\"])\n",
    "    fields = obs[\"fields\"]\n",
    "    reduced_obs_data[\"summary\"].append(fields[\"summary\"])\n",
    "    reduced_obs_data[\"created\"].append(datetime.strptime(fields[\"created\"], \"%Y-%m-%dT%H:%M:%S.%f%z\"))\n",
    "    reduced_obs_data[\"reporter\"].append(fields[\"reporter\"][\"displayName\"])\n",
    "    reduced_obs_data[\"status\"].append(fields[\"status\"][\"name\"])\n",
    "\n",
    "issues_df = pd.DataFrame(reduced_obs_data)\n",
    "issues_df = issues_df.sort_values(by=[\"created\"])\n",
    "\n",
    "def link_issue(handle):\n",
    "    return f'<a href=\"https://rubinobs.atlassian.net/browse/{handle}\">{handle}</a>'\n",
    "\n",
    "\n",
    "def format_timestamp(dt):\n",
    "    return dt.strftime(\"%Y-%m-%d %H:%M\")\n",
    "\n",
    "\n",
    "HTML(\n",
    "    issues_df\n",
    "        .style\n",
    "        .hide(axis=\"index\")\n",
    "        .format(format_timestamp, subset=\"created\")\n",
    "        .format(link_issue, subset=\"key\")\n",
    "        .set_table_styles(\n",
    "            [{'selector': 'th', 'props': [('text-align', 'left')]}]\n",
    "        )\n",
    "        .set_properties(**{'text-align': 'left', 'min-width': '100px'})\n",
    "        .set_properties(**{'min-width': '200px'}, subset=\"created\")\n",
    "        .set_caption(f\"OBS issues {start_date.strftime(\"%Y-%m-%d\")} – {end_date.strftime(\"%Y-%m-%d\")}\")\n",
    "    .to_html()\n",
    ")"
   ]
  },
  {
   "cell_type": "code",
   "execution_count": null,
   "id": "e55c9c63-ab4f-4f5d-856d-2999a9be7dd3",
   "metadata": {},
   "outputs": [],
   "source": []
  }
 ],
 "metadata": {
  "kernelspec": {
   "display_name": "LSST",
   "language": "python",
   "name": "lsst"
  },
  "language_info": {
   "codemirror_mode": {
    "name": "ipython",
    "version": 3
   },
   "file_extension": ".py",
   "mimetype": "text/x-python",
   "name": "python",
   "nbconvert_exporter": "python",
   "pygments_lexer": "ipython3",
   "version": "3.12.10"
  }
 },
 "nbformat": 4,
 "nbformat_minor": 5
}
