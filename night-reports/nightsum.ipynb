{
 "cells": [
  {
   "cell_type": "markdown",
   "id": "ca1f04f0-f28b-4964-965a-c2e12186a84b",
   "metadata": {},
   "source": [
    "# Mimic of the DES night summary, but for Rubin Observatory"
   ]
  },
  {
   "cell_type": "code",
   "execution_count": null,
   "id": "54aad269-400f-44c2-8438-1b6111ba6a9b",
   "metadata": {},
   "outputs": [],
   "source": [
    "# This cell is only for setting parameter defaults\n",
    "day_obs = \"2027-11-10\""
   ]
  },
  {
   "cell_type": "code",
   "execution_count": null,
   "id": "cebab153-6aeb-4463-a06d-f8540807d838",
   "metadata": {},
   "outputs": [],
   "source": [
    "import datetime\n",
    "import sys\n",
    "import pandas as pd\n",
    "import bokeh\n",
    "import bokeh.io\n",
    "import bokeh.plotting\n",
    "import bokeh.models\n",
    "import bokeh.transform\n",
    "import bokeh.layouts\n",
    "import sqlite3\n",
    "import numpy as np\n",
    "import healpy\n",
    "import astropy\n",
    "import colorcet\n",
    "import healpy as hp\n",
    "from astropy.visualization import ZScaleInterval\n",
    "from astropy.time import Time\n",
    "from lsst.resources import ResourcePath"
   ]
  },
  {
   "cell_type": "raw",
   "id": "e7d89b25-fbca-4696-befa-38dc455518f7",
   "metadata": {
    "execution": {
     "iopub.execute_input": "2024-02-20T16:26:02.245922Z",
     "iopub.status.busy": "2024-02-20T16:26:02.245623Z",
     "iopub.status.idle": "2024-02-20T16:26:02.248804Z",
     "shell.execute_reply": "2024-02-20T16:26:02.248381Z",
     "shell.execute_reply.started": "2024-02-20T16:26:02.245903Z"
    }
   },
   "source": [
    "sys.path.insert(0, '/sdf/data/rubin/user/neilsen/devel/uranography')\n",
    "sys.path.insert(0, '/sdf/data/rubin/user/neilsen/devel/rubin_scheduler')\n",
    "sys.path.insert(0, '/sdf/data/rubin/user/neilsen/devel/rubin_sim')\n",
    "sys.path.insert(0, '/sdf/data/rubin/user/neilsen/devel/schedview')"
   ]
  },
  {
   "cell_type": "code",
   "execution_count": null,
   "id": "8946983f-95ab-42a9-b0ee-9cbfc26fb913",
   "metadata": {},
   "outputs": [],
   "source": [
    "import rubin_scheduler\n",
    "import rubin_scheduler.utils\n",
    "import rubin_scheduler.site_models\n",
    "import schedview.compute.astro\n",
    "import uranography\n",
    "import schedview.plot.visitmap\n",
    "\n",
    "from rubin_sim import maf\n",
    "from schedview.compute.camera import LsstCameraFootprintPerimeter\n",
    "from rubin_scheduler.scheduler.model_observatory import ModelObservatory\n",
    "from uranography.api import Planisphere, make_zscale_linear_cmap"
   ]
  },
  {
   "cell_type": "code",
   "execution_count": null,
   "id": "13a861a5-0cac-4c0f-9e7f-54ccdc7a6b51",
   "metadata": {},
   "outputs": [],
   "source": [
    "bokeh.io.output_notebook()"
   ]
  },
  {
   "cell_type": "code",
   "execution_count": null,
   "id": "8bdaefdd-bfed-40b8-a5fc-57f542554599",
   "metadata": {},
   "outputs": [],
   "source": [
    "astropy.utils.iers.conf.iers_degraded_accuracy = 'ignore'"
   ]
  },
  {
   "cell_type": "code",
   "execution_count": null,
   "id": "bb091c1c-45cb-477f-87cc-82f2be18facb",
   "metadata": {},
   "outputs": [],
   "source": [
    "baseline_opsim_rp = ResourcePath('/sdf/group/rubin/web_data/sim-data/sims_featureScheduler_runs3.4/baseline/baseline_v3.4_10yrs.db')\n",
    "day_obs_mjd = int(Time(day_obs).mjd)"
   ]
  },
  {
   "cell_type": "code",
   "execution_count": null,
   "id": "1596bc00-fdc5-4c1a-9bb3-c2b6631ff578",
   "metadata": {},
   "outputs": [],
   "source": [
    "band_cmap = bokeh.transform.factor_cmap(\n",
    "    'filter',\n",
    "    ('#56b4e9', '#008060', '#ff4000', '#850000', '#6600cc', '#000000'),\n",
    "    ['u', 'g', 'r', 'i', 'z', 'y'])"
   ]
  },
  {
   "cell_type": "code",
   "execution_count": null,
   "id": "a6245e00-a269-4e7d-917e-29cca8bb707a",
   "metadata": {},
   "outputs": [],
   "source": [
    "fiducial_depth = {\n",
    "                \"u\": 23.71,\n",
    "                \"g\": 24.67,\n",
    "                \"r\": 24.24,\n",
    "                \"i\": 23.82,\n",
    "                \"z\": 23.21,\n",
    "                \"y\": 22.40,\n",
    "}"
   ]
  },
  {
   "cell_type": "code",
   "execution_count": null,
   "id": "a20b1d42-64e9-4012-b528-bfb1010b04ce",
   "metadata": {},
   "outputs": [],
   "source": [
    "observatory = ModelObservatory(init_load_length=1)\n",
    "timezone = \"Chile/Continental\""
   ]
  },
  {
   "cell_type": "code",
   "execution_count": null,
   "id": "68df87f1-80c7-4432-8346-b16a1e64e596",
   "metadata": {},
   "outputs": [],
   "source": [
    "def visit_query(visit_resource_path, query):\n",
    "    with baseline_opsim_rp.as_local() as local_baseline_opsim_rp:\n",
    "        with sqlite3.connect(local_baseline_opsim_rp.ospath) as baseline_db_connection:\n",
    "            visits = pd.read_sql_query(query, baseline_db_connection)\n",
    "\n",
    "    visits.set_index('observationId', inplace=True)\n",
    "    \n",
    "    # Add start time\n",
    "    start_time = pd.to_datetime(visits['observationStartMJD'] + 2400000.5, origin='julian', unit='D')\n",
    "    visits.insert(0, 'start_time', start_time)\n",
    "\n",
    "    # Add day_obs\n",
    "    day_obs_mjd = np.floor(visits['observationStartMJD'] - 0.5).astype('int')\n",
    "    day_obs_datetime = Time(day_obs_mjd, format='mjd').datetime\n",
    "    day_obs_date = [datetime.date(t.year, t.month, t.day) for t in day_obs_datetime]\n",
    "    day_obs_iso8601 = tuple(str(d) for d in day_obs_date)\n",
    "    visits.insert(1, 'day_obs_mjd', day_obs_mjd)\n",
    "    visits.insert(2, 'day_obs_date', day_obs_date)\n",
    "    visits.insert(3, 'day_obs_iso8601', day_obs_iso8601)\n",
    "\n",
    "    # Add coordinates tuple\n",
    "    coord_column = max(tuple(visits.columns).index('fieldRA'), tuple(visits.columns).index('fieldDec')) + 1\n",
    "    visits.insert(coord_column, 'coords', list(zip(visits['fieldRA'], visits['fieldDec'])))\n",
    "    \n",
    "    # Add derived depth columns\n",
    "    depth_col_index = tuple(visits.columns).index('fiveSigmaDepth')\n",
    "    tau = 10**(0.8*(visits.fiveSigmaDepth - visits['filter'].map(fiducial_depth)))\n",
    "    t_eff = visits['visitExposureTime'] * tau\n",
    "    visits.insert(depth_col_index+1, 'tau', tau)\n",
    "    visits.insert(depth_col_index+2, 'teff', t_eff)\n",
    "\n",
    "    # Add time between successive exposures\n",
    "    # Assume the previous visits ended at its observationStartMJD + visitTime,\n",
    "    # That this visit ends at its own observationStartMJD + visitTime,\n",
    "    # and visitExposureTime does not count as overhead.\n",
    "    overhead = visits['observationStartMJD'].diff()*24*60*60 - visits['visitTime'].shift(1) + visits['visitTime'] - visits['visitExposureTime']\n",
    "    slew_time_col_index = tuple(visits.columns).index('slewTime')\n",
    "    visits.insert(slew_time_col_index + 1, 'overhead', overhead)\n",
    "\n",
    "    #\n",
    "    filter_col_index = tuple(visits.columns).index('filter')\n",
    "    previous_filter = visits['filter'].shift(1)\n",
    "    visits.insert(filter_col_index + 1, 'previous_filter', previous_filter)\n",
    "    \n",
    "    return visits"
   ]
  },
  {
   "cell_type": "code",
   "execution_count": null,
   "id": "61dd2a1a-ab61-421d-b429-3dccf143ad82",
   "metadata": {},
   "outputs": [],
   "source": [
    "visits = visit_query(\n",
    "    baseline_opsim_rp,\n",
    "    f\"SELECT * FROM observations WHERE FLOOR(observationStartMJD-0.5)={day_obs_mjd}\"\n",
    ")"
   ]
  },
  {
   "cell_type": "markdown",
   "id": "f838eee5-3839-4030-a981-90cf2cb2b621",
   "metadata": {},
   "source": [
    "Using fiducial depths for t_eff calculation from https://github.com/lsst-sims/smtn-002/blob/main/notebooks/teff_fiducial.ipynb commit e367d65.\n",
    "These probably should be updated."
   ]
  },
  {
   "cell_type": "code",
   "execution_count": null,
   "id": "214fdae1-9936-4415-95e3-a8328d6ae5d7",
   "metadata": {},
   "outputs": [],
   "source": [
    "visits.head()['start_time']"
   ]
  },
  {
   "cell_type": "markdown",
   "id": "6a3134fa-10ad-403b-bce3-56858e59d6fb",
   "metadata": {},
   "source": [
    "## Conditions and statistics"
   ]
  },
  {
   "cell_type": "markdown",
   "id": "485d3d14-dae3-4d4e-981d-eaaf99d60929",
   "metadata": {},
   "source": [
    "### Sun and Moon"
   ]
  },
  {
   "cell_type": "code",
   "execution_count": null,
   "id": "4c4101a0-fcf4-4b8a-93f4-6ad6d900dbea",
   "metadata": {},
   "outputs": [],
   "source": [
    "day_obs_datetime = Time(day_obs_mjd, format='mjd').datetime\n",
    "day_obs_date = datetime.date(day_obs_datetime.year, day_obs_datetime.month, day_obs_datetime.day)\n",
    "night_events = schedview.compute.astro.night_events(day_obs_date)\n",
    "night_events"
   ]
  },
  {
   "cell_type": "code",
   "execution_count": null,
   "id": "e235f6b8-9799-414f-8b4d-166a394b69ae",
   "metadata": {},
   "outputs": [],
   "source": [
    "print(f\"Moon phase: {visits['moonPhase'].median()}\")"
   ]
  },
  {
   "cell_type": "markdown",
   "id": "9d387553-ac08-4cb5-8a41-f1da65311699",
   "metadata": {},
   "source": [
    "### Numbers of exposures, and gaps between them"
   ]
  },
  {
   "cell_type": "code",
   "execution_count": null,
   "id": "7a4c227d-509b-419c-8841-fa8f9692fc3b",
   "metadata": {},
   "outputs": [],
   "source": [
    "relative_start_time = (visits['observationStartMJD'].min() - night_events.loc['sun_n12_setting','MJD'])*60*24\n",
    "print(f\"Open shutter of first exposure: {relative_start_time} minutes before 12 degree evening twilight\")\n",
    "\n",
    "relative_end_time = ((visits['observationStartMJD'] + visits['visitTime']/(24*60*60)).max() - night_events.loc['sun_n12_rising','MJD'])*60*24\n",
    "print(f\"Close shutter time of last exposure: {-1*relative_end_time} minutes after 12 degree morning twilight\")\n",
    "\n",
    "total_time = ((visits['observationStartMJD'] + visits['visitTime']/(24*60*60)).max() - visits['observationStartMJD'].min())*24\n",
    "print(f\"Total wall clock time: {total_time} hours\")\n",
    "\n",
    "num_exposures = len(visits)\n",
    "print(f\"Number of exposures: {num_exposures}\")\n",
    "\n",
    "total_exptime = visits.visitExposureTime.sum()/(60*60)\n",
    "print(f\"Total open shutter time: {total_exptime} hours\")\n",
    "\n",
    "mean_gap_time = 60*60*(total_time - total_exptime)/(num_exposures - 1)\n",
    "print(f\"Mean gap time: {mean_gap_time} seconds\")\n",
    "\n",
    "median_gap_time = visits.overhead.median()\n",
    "print(f\"Median gap time: {median_gap_time} seconds\")"
   ]
  },
  {
   "cell_type": "markdown",
   "id": "9ad2f7a1-1df3-4b62-b0a3-e8618051d97c",
   "metadata": {},
   "source": [
    "## Histogram of gaps between exposures"
   ]
  },
  {
   "cell_type": "code",
   "execution_count": null,
   "id": "08a78ebe-bd59-41d6-b2a0-314b6708864a",
   "metadata": {},
   "outputs": [],
   "source": [
    "bins = np.arange(0, 30)\n",
    "hist, edges = np.histogram(visits.overhead, density=False, bins=bins)\n",
    "p1 = bokeh.plotting.figure(title='Overhead', y_axis_label='Overhead (seconds)')\n",
    "p1.quad(top=hist, bottom=0, left=edges[:-1], right=edges[1:],\n",
    "         fill_color=\"skyblue\", line_color=\"white\")\n",
    "\n",
    "p2 = bokeh.plotting.figure(title='Overhead vs. slew distance', y_axis_label='overhead (sec.)', x_axis_label='slew distance (deg.)')\n",
    "for band in band_cmap.transform.factors:\n",
    "    these_visits = visits.query(f'filter == \"{band}\"')\n",
    "    if len(these_visits) > 0:\n",
    "        p2.circle(x='slewDistance', y='overhead', color=band_cmap, fill_alpha=0.3, source=these_visits, legend_label=band)\n",
    "\n",
    "legend = p2.legend[0]\n",
    "legend.orientation = 'horizontal'\n",
    "p2.add_layout(legend, 'below')\n",
    "\n",
    "gap_plots = bokeh.layouts.row([p1, p2])\n",
    "\n",
    "bokeh.io.show(gap_plots)"
   ]
  },
  {
   "cell_type": "markdown",
   "id": "d6a2d6e4-720d-405b-9ed4-fd60becad920",
   "metadata": {},
   "source": [
    "## Long gaps between exposures"
   ]
  },
  {
   "cell_type": "code",
   "execution_count": null,
   "id": "63283a0a-a7c7-406c-bdf4-14c40e16ffdb",
   "metadata": {},
   "outputs": [],
   "source": [
    "num_gaps = 10\n",
    "long_gap_visits = visits.sort_values('overhead', ascending=False).query('overhead>30').loc[:, ['start_time', 'overhead', 'slewDistance', 'filter', 'previous_filter']].sort_values('observationId')\n",
    "long_gap_visits"
   ]
  },
  {
   "cell_type": "markdown",
   "id": "bda63097-941a-4e1c-85cd-84307768ff2c",
   "metadata": {},
   "source": [
    "## PSF Width"
   ]
  },
  {
   "cell_type": "code",
   "execution_count": null,
   "id": "6b1e32fd-2936-4bda-bb2a-b1afff932eeb",
   "metadata": {},
   "outputs": [],
   "source": [
    "p = bokeh.plotting.figure(title='PSF Width', y_axis_label='seeingFwhmEff')\n",
    "for band in band_cmap.transform.factors:\n",
    "    these_visits = visits.query(f'filter == \"{band}\"')\n",
    "    if len(these_visits) > 0:\n",
    "        p.circle(x='start_time', y='seeingFwhmEff', color=band_cmap, fill_alpha=0.3, source=these_visits, legend_label=band)\n",
    "\n",
    "p.xaxis[0].formatter = bokeh.models.DatetimeTickFormatter(hours=\"%H:%M\")\n",
    "\n",
    "legend = p.legend[0]\n",
    "legend.orientation = 'horizontal'\n",
    "p.add_layout(legend, 'below')\n",
    "bokeh.io.show(p)"
   ]
  },
  {
   "cell_type": "markdown",
   "id": "a468c10f-9f50-47ea-a61d-5c16fd2fff25",
   "metadata": {},
   "source": [
    "## Instrumental seeing"
   ]
  },
  {
   "cell_type": "code",
   "execution_count": null,
   "id": "8c776964-ed24-46ea-b401-c7bd18d2c2ca",
   "metadata": {},
   "outputs": [],
   "source": [
    "# Get a seeing model that applies atmospheric and wavelength corrections, but not instrumental contributions.\n",
    "seeing_model = rubin_scheduler.site_models.SeeingModel(\n",
    "    telescope_seeing=0.0,\n",
    "    optical_design_seeing=0.0,\n",
    "    camera_seeing=0.0\n",
    ")\n",
    "seeing_indx_dict = {}\n",
    "for i, filtername in enumerate(seeing_model.filter_list):\n",
    "    seeing_indx_dict[filtername] = i\n",
    "    \n",
    "noninstrumental_seeing = np.array(tuple(seeing_model(v.seeingFwhm500, v.airmass)['fwhmEff'][seeing_indx_dict[v['filter']]].item() for i, v in visits.iterrows()))\n",
    "visits['nonatmo_fwhm'] = np.sqrt(visits['seeingFwhmEff']**2 - noninstrumental_seeing**2)"
   ]
  },
  {
   "cell_type": "code",
   "execution_count": null,
   "id": "a0a43a30-d0c1-456f-bfe1-0bf5b66e5587",
   "metadata": {},
   "outputs": [],
   "source": [
    "p = bokeh.plotting.figure(title='Instrumental seeing', y_axis_label='Instrumetal contribution to the FWHM')\n",
    "for band in band_cmap.transform.factors:\n",
    "    these_visits = visits.query(f'filter == \"{band}\"')\n",
    "    if len(these_visits) > 0:\n",
    "        p.circle(x='start_time', y='nonatmo_fwhm', color=band_cmap, fill_alpha=0.3, source=these_visits, legend_label=band)\n",
    "\n",
    "p.xaxis[0].formatter = bokeh.models.DatetimeTickFormatter(hours=\"%H:%M\")\n",
    "\n",
    "legend = p.legend[0]\n",
    "legend.orientation = 'horizontal'\n",
    "p.add_layout(legend, 'below')\n",
    "bokeh.io.show(p)"
   ]
  },
  {
   "cell_type": "markdown",
   "id": "6f1eccfd-0ec4-45f9-8be4-d189f47c8ad8",
   "metadata": {},
   "source": [
    "This perplexes me; I expected the instrumental contribution in simulations to be constant."
   ]
  },
  {
   "cell_type": "markdown",
   "id": "e82c9b6d-16eb-4b1c-98cd-0265f25ea1a0",
   "metadata": {},
   "source": [
    "## PSF ellipticity"
   ]
  },
  {
   "cell_type": "markdown",
   "id": "27c2990a-6362-4111-bafd-cb0b02fed2e7",
   "metadata": {},
   "source": [
    "No ellipticity is simulated by opsim."
   ]
  },
  {
   "cell_type": "markdown",
   "id": "0671c396-23ea-40f9-8051-94643931b989",
   "metadata": {},
   "source": [
    "## Effective exposure time"
   ]
  },
  {
   "cell_type": "code",
   "execution_count": null,
   "id": "240979e5-24da-442b-bb5b-34a819cd154c",
   "metadata": {},
   "outputs": [],
   "source": [
    "p = bokeh.plotting.figure(title='Effective exposure time', y_axis_label=r'Effecive exposure time (sec.)')\n",
    "for band in band_cmap.transform.factors:\n",
    "    these_visits = visits.query(f'filter == \"{band}\"')\n",
    "    if len(these_visits) > 0:\n",
    "        p.circle(x='start_time', y='teff', color=band_cmap, fill_alpha=0.3, source=these_visits, legend_label=band)\n",
    "\n",
    "p.xaxis[0].formatter = bokeh.models.DatetimeTickFormatter(hours=\"%H:%M\")\n",
    "\n",
    "legend = p.legend[0]\n",
    "legend.orientation = 'horizontal'\n",
    "p.add_layout(legend, 'below')\n",
    "bokeh.io.show(p)"
   ]
  },
  {
   "cell_type": "markdown",
   "id": "1332b0b8-ebab-4003-ae94-cfb828b54102",
   "metadata": {
    "execution": {
     "iopub.execute_input": "2024-02-19T20:07:50.543357Z",
     "iopub.status.busy": "2024-02-19T20:07:50.543104Z",
     "iopub.status.idle": "2024-02-19T20:07:50.545759Z",
     "shell.execute_reply": "2024-02-19T20:07:50.545351Z",
     "shell.execute_reply.started": "2024-02-19T20:07:50.543342Z"
    }
   },
   "source": [
    "## Sky brightness"
   ]
  },
  {
   "cell_type": "markdown",
   "id": "adb8a557-d14f-4ff6-bd32-3a56a9fb383d",
   "metadata": {},
   "source": [
    "When run with current opsim simulations, all simulations are either completely spoiled (infinite extinction) or clear (no extinction), and what is recorded is a fraction of the sky covered by clouds.\n",
    "\n",
    "So, where the DES nightsum plots the extinction, what is plotted here is the recorded fraction cloud cover."
   ]
  },
  {
   "cell_type": "code",
   "execution_count": null,
   "id": "51580e68-5190-413b-838c-d2c78a898cd8",
   "metadata": {},
   "outputs": [],
   "source": [
    "p = bokeh.plotting.figure(title='Sky brightness', y_axis_label=r'cloud cover')\n",
    "for band in band_cmap.transform.factors:\n",
    "    these_visits = visits.query(f'filter == \"{band}\"')\n",
    "    if len(these_visits) > 0:\n",
    "        p.circle(x='start_time', y='cloud', color=band_cmap, fill_alpha=0.3, source=these_visits, legend_label=band)\n",
    "\n",
    "p.xaxis[0].formatter = bokeh.models.DatetimeTickFormatter(hours=\"%H:%M\")\n",
    "\n",
    "legend = p.legend[0]\n",
    "legend.orientation = 'horizontal'\n",
    "p.add_layout(legend, 'below')\n",
    "bokeh.io.show(p)"
   ]
  },
  {
   "cell_type": "markdown",
   "id": "e5ac8114-2e48-4f05-9296-e7ea0271ae7c",
   "metadata": {},
   "source": [
    "## Visit map"
   ]
  },
  {
   "cell_type": "code",
   "execution_count": null,
   "id": "06f4dcc4-41eb-4246-a516-9abfb90cb2b6",
   "metadata": {},
   "outputs": [],
   "source": [
    "vmap, vmap_data = schedview.plot.visitmap.create_visit_skymaps(\n",
    "    visits=visits,\n",
    "    night_date=day_obs_date,\n",
    "    timezone=timezone,\n",
    "    observatory=observatory,\n",
    ")"
   ]
  },
  {
   "cell_type": "code",
   "execution_count": null,
   "id": "fc128314-4270-47f5-9f63-63020c3bf428",
   "metadata": {},
   "outputs": [],
   "source": [
    "bokeh.io.show(vmap)"
   ]
  },
  {
   "cell_type": "markdown",
   "id": "43634b30-8c12-4416-86c3-375ee6fbabcd",
   "metadata": {},
   "source": [
    "## Survey Progress"
   ]
  },
  {
   "cell_type": "code",
   "execution_count": null,
   "id": "8ee83b73-1f13-4a09-b22d-39745dc475c5",
   "metadata": {},
   "outputs": [],
   "source": [
    "def create_visit_map_for_band(visits, band, conditions, map_hpix, scale_limits=None, palette=colorcet.blues):\n",
    "    camera_perimeter = LsstCameraFootprintPerimeter()\n",
    "\n",
    "    plot = bokeh.plotting.figure(\n",
    "        frame_width=256,\n",
    "        frame_height=256,\n",
    "        match_aspect=True,\n",
    "        title=f\"Visits in {band}\",\n",
    "    )\n",
    "    psphere = Planisphere(mjd=conditions.mjd, plot=plot)\n",
    "\n",
    "    if scale_limits is None:\n",
    "        scale_limits = ZScaleInterval().get_limits(map_hpix[~ map_hpix.mask])\n",
    "\n",
    "    cmap = bokeh.transform.linear_cmap('value', palette, scale_limits[0], scale_limits[1])\n",
    "    psphere.add_healpix(map_hpix, nside=hp.npix2nside(len(map_hpix)), cmap=cmap)\n",
    "\n",
    "    band_visits = visits.query(f\"filter == '{band}'\")\n",
    "\n",
    "    if len(band_visits)>0:\n",
    "        ras, decls = camera_perimeter(band_visits.fieldRA, band_visits.fieldDec, band_visits.rotSkyPos)\n",
    "        \n",
    "        perimeter_df = pd.DataFrame(\n",
    "            {\n",
    "                \"ra\": ras,\n",
    "                \"decl\": decls,\n",
    "            }\n",
    "        )\n",
    "        visit_ds = psphere.add_patches(\n",
    "            perimeter_df,\n",
    "            patches_kwargs={\n",
    "                'fill_color': None,\n",
    "                'line_color': 'black',\n",
    "                'line_width': 1\n",
    "            }\n",
    "        )\n",
    "\n",
    "    psphere.decorate()\n",
    "\n",
    "    psphere.add_marker(\n",
    "        ra=np.degrees(conditions.sun_ra),\n",
    "        decl=np.degrees(conditions.sun_dec),\n",
    "        name=\"Sun\",\n",
    "        glyph_size=8,\n",
    "        circle_kwargs={\"color\": \"yellow\", \"fill_alpha\": 1},\n",
    "    )\n",
    "\n",
    "    psphere.add_marker(\n",
    "        ra=np.degrees(conditions.moon_ra),\n",
    "        decl=np.degrees(conditions.moon_dec),\n",
    "        name=\"Moon\",\n",
    "        glyph_size=8,\n",
    "        circle_kwargs={\"color\": \"orange\", \"fill_alpha\": 0.8},\n",
    "    )\n",
    "\n",
    "    return plot"
   ]
  },
  {
   "cell_type": "markdown",
   "id": "9340b2fb-7e03-4bfd-830b-e867fb29353f",
   "metadata": {},
   "source": [
    "### Map depth accumulated so far"
   ]
  },
  {
   "cell_type": "code",
   "execution_count": null,
   "id": "adc2ffea-7a3c-483b-9fa1-179d5b29066d",
   "metadata": {},
   "outputs": [],
   "source": [
    "observatory.mjd = night_events.loc['night_middle', 'MJD']\n",
    "conditions = observatory.return_conditions()"
   ]
  },
  {
   "cell_type": "code",
   "execution_count": null,
   "id": "4504e4dc-7b77-4f0f-b061-6aa973c4bf75",
   "metadata": {},
   "outputs": [],
   "source": [
    "bands = 'ugrizy'\n",
    "bundle = {}\n",
    "for band in bands:\n",
    "    constraint = f\"filter == '{band}' AND observationStartMjd < {night_events.loc['sunset', 'MJD']}\"\n",
    "    slicer = maf.HealpixSlicer(nside=32)\n",
    "    metric = maf.Coaddm5Metric()\n",
    "    bundle[band] = maf.MetricBundle(metric, slicer, constraint, run_name='last_night')\n",
    "\n",
    "with baseline_opsim_rp.as_local() as opsim_db_rp:\n",
    "    bundle_group = maf.MetricBundleGroup(\n",
    "        bundle, opsim_db_rp.ospath\n",
    "    )\n",
    "    bundle_group.run_all()\n",
    "    depth_hpix = {b: bundle[b].metric_values for b in bands}\n"
   ]
  },
  {
   "cell_type": "code",
   "execution_count": null,
   "id": "1633213e-3dab-4529-8a7c-8d40a4f06715",
   "metadata": {},
   "outputs": [],
   "source": [
    "visit_map = {}\n",
    "for band in 'ugrizy':\n",
    "    tau_hpix = 10**(0.8*(depth_hpix[band] - fiducial_depth[band]))\n",
    "    tau_hpix.fill_value = np.nan\n",
    "    visit_map[band] = create_visit_map_for_band(visits, band, conditions, tau_hpix)\n",
    "\n",
    "visit_map_grid = bokeh.layouts.gridplot([\n",
    "    [visit_map['u'], visit_map['g'], visit_map['r']],\n",
    "    [visit_map['i'], visit_map['z'], visit_map['y']]\n",
    "])\n",
    "bokeh.io.show(visit_map_grid)"
   ]
  },
  {
   "cell_type": "markdown",
   "id": "090d2d73-aa86-425f-95b6-da6ddcefdf80",
   "metadata": {
    "execution": {
     "iopub.execute_input": "2024-02-20T18:16:28.591671Z",
     "iopub.status.busy": "2024-02-20T18:16:28.591237Z",
     "iopub.status.idle": "2024-02-20T18:16:28.593811Z",
     "shell.execute_reply": "2024-02-20T18:16:28.593411Z",
     "shell.execute_reply.started": "2024-02-20T18:16:28.591655Z"
    }
   },
   "source": [
    "### Map time since the most recent visits"
   ]
  },
  {
   "cell_type": "code",
   "execution_count": null,
   "id": "78eb99b0-5637-4b26-8e6b-48296e76dc33",
   "metadata": {},
   "outputs": [],
   "source": [
    "bands = 'ugrizy'\n",
    "bundle = {}\n",
    "for band in bands:\n",
    "    constraint = f\"filter == '{band}' AND observationStartMjd < {night_events.loc['sunset', 'MJD']}\"\n",
    "    slicer = maf.HealpixSlicer(nside=32)\n",
    "    metric = maf.MaxMetric('observationStartMJD')\n",
    "    bundle[band] = maf.MetricBundle(metric, slicer, constraint, run_name='last_night')\n",
    "\n",
    "with baseline_opsim_rp.as_local() as opsim_db_rp:\n",
    "    bundle_group = maf.MetricBundleGroup(\n",
    "        bundle, opsim_db_rp.ospath\n",
    "    )\n",
    "    bundle_group.run_all()\n",
    "    time_since_latest_hpix = {b: night_events.loc['sunset', 'MJD'] - bundle[b].metric_values for b in bands}"
   ]
  },
  {
   "cell_type": "code",
   "execution_count": null,
   "id": "33c090ad-1c7d-4974-848b-031f4e787d88",
   "metadata": {},
   "outputs": [],
   "source": [
    "visit_map = {band: create_visit_map_for_band(visits, band, conditions, time_since_latest_hpix[band], [0, 14], 'Viridis256') for band in 'ugrizy'}\n",
    "visit_map_grid = bokeh.layouts.gridplot([\n",
    "    [visit_map['u'], visit_map['g'], visit_map['r']],\n",
    "    [visit_map['i'], visit_map['z'], visit_map['y']]\n",
    "])\n",
    "bokeh.io.show(visit_map_grid)"
   ]
  },
  {
   "cell_type": "markdown",
   "id": "53308798-2113-4699-a784-446727d8143e",
   "metadata": {},
   "source": [
    "## DDF Cadence"
   ]
  },
  {
   "cell_type": "code",
   "execution_count": null,
   "id": "416af60b-d182-4ec7-9931-d4057e58f048",
   "metadata": {},
   "outputs": [],
   "source": [
    "time_window_duration = 120\n",
    "ddf_plot_mjds = np.arange(day_obs_mjd - time_window_duration, day_obs_mjd)"
   ]
  },
  {
   "cell_type": "code",
   "execution_count": null,
   "id": "dcb49af2-fd84-4ec8-8df5-0ca090da02f0",
   "metadata": {},
   "outputs": [],
   "source": [
    "ddf_plot_datetimes = Time(ddf_plot_mjds, format='mjd').datetime\n",
    "ddf_plot_dates = [datetime.date(t.year, t.month, t.day) for t in ddf_plot_datetimes]\n",
    "ddf_plot_iso8601 = [str(d) for d in ddf_plot_dates]"
   ]
  },
  {
   "cell_type": "code",
   "execution_count": null,
   "id": "7b52df96-f163-4151-a282-babb25c20a88",
   "metadata": {},
   "outputs": [],
   "source": [
    "ddf_field_names = tuple(rubin_scheduler.utils.ddf_locations().keys())"
   ]
  },
  {
   "cell_type": "code",
   "execution_count": null,
   "id": "0af40a8e-1a60-4d81-85c4-7e8bd58b3ffd",
   "metadata": {},
   "outputs": [],
   "source": [
    "ddf_visits = visit_query(\n",
    "    baseline_opsim_rp,\n",
    "    f\"\"\"SELECT * FROM observations\n",
    "    WHERE target IN {tuple(field_name for field_name in ddf_field_names)}\n",
    "      AND FLOOR(observationStartMJD-0.5)<={day_obs_mjd}\n",
    "      AND FLOOR(observationStartMJD-0.5)>{day_obs_mjd-time_window_duration}\"\"\")"
   ]
  },
  {
   "cell_type": "code",
   "execution_count": null,
   "id": "3444bd06-269a-4e08-b03e-7ffee2125f73",
   "metadata": {},
   "outputs": [],
   "source": [
    "nightly_ddf = ddf_visits.groupby(['target', 'day_obs_iso8601', 'filter'])['teff'].sum().reset_index()\n",
    "nightly_ddf = nightly_ddf.pivot(index=['target', 'day_obs_iso8601'], columns='filter', values='teff').fillna(0.0).reset_index().set_index('target')"
   ]
  },
  {
   "cell_type": "code",
   "execution_count": null,
   "id": "15e76cf3-1584-444c-a06e-22e6549493ea",
   "metadata": {},
   "outputs": [],
   "source": [
    "cadence_plots = []\n",
    "bands = band_cmap.transform.factors\n",
    "ddf_field_names = [fn for fn in ddf_field_names if fn in nightly_ddf.index]\n",
    "x_range = bokeh.models.FactorRange(factors=ddf_plot_iso8601)\n",
    "\n",
    "for field_name in ddf_field_names:\n",
    "    last_plot = len(cadence_plots) == len(ddf_field_names)-1\n",
    "\n",
    "    df = nightly_ddf.loc[field_name, :]\n",
    "    figure_kwargs = {\n",
    "        'x_range' : x_range,\n",
    "        'title': field_name,\n",
    "        'frame_height': 150,\n",
    "        'frame_width': 1024,\n",
    "        'title_location': 'left',\n",
    "    }\n",
    "\n",
    "    if not last_plot:\n",
    "        figure_kwargs['x_axis_location'] = None\n",
    "\n",
    "    p = bokeh.plotting.figure(**figure_kwargs)\n",
    "\n",
    "    p.xaxis.major_label_orientation = 'vertical'\n",
    "\n",
    "    vbar_stack_kwargs = {\n",
    "        'stackers': bands,\n",
    "        'x': 'day_obs_iso8601',\n",
    "        'width': 0.9,\n",
    "        'source': df,\n",
    "        'color': band_cmap.transform.palette,\n",
    "        'fill_alpha': 0.3,\n",
    "    }\n",
    "    if last_plot:\n",
    "        vbar_stack_kwargs['legend_label'] = bands\n",
    "\n",
    "    p.vbar_stack(**vbar_stack_kwargs)\n",
    "    if last_plot:\n",
    "        legend = p.legend[0]\n",
    "        legend.orientation = 'horizontal'\n",
    "        p.add_layout(legend, 'below')\n",
    "    \n",
    "    cadence_plots.append(p)\n",
    "\n",
    "cadence_plot_layout = bokeh.layouts.column(cadence_plots)\n",
    "\n",
    "bokeh.io.show(cadence_plot_layout)"
   ]
  },
  {
   "cell_type": "markdown",
   "id": "0e3605be-cd8f-4d3f-8e93-64ced652db0b",
   "metadata": {
    "execution": {
     "iopub.execute_input": "2024-02-16T21:47:37.587126Z",
     "iopub.status.busy": "2024-02-16T21:47:37.586843Z",
     "iopub.status.idle": "2024-02-16T21:47:37.589195Z",
     "shell.execute_reply": "2024-02-16T21:47:37.588851Z",
     "shell.execute_reply.started": "2024-02-16T21:47:37.587109Z"
    }
   },
   "source": [
    "## Table of exposures"
   ]
  },
  {
   "cell_type": "code",
   "execution_count": null,
   "id": "4c713a9a-8ea7-4146-80e4-aca34c836855",
   "metadata": {},
   "outputs": [],
   "source": [
    "displayed_columns = ['start_time', 'fieldRA', 'fieldDec', 'filter', 'visitExposureTime', 'numExposures', 'tau', 'skyBrightness', 'seeingFwhmEff', 'cloud', 'note']\n",
    "displayed_visits_df = visits.loc[:, displayed_columns]\n",
    "with pd.option_context('display.max_rows', 2000):\n",
    "    display(displayed_visits_df)"
   ]
  },
  {
   "cell_type": "code",
   "execution_count": null,
   "id": "204d1167-3d36-40c4-933a-d28dd5df5645",
   "metadata": {},
   "outputs": [],
   "source": [
    "data_source"
   ]
  },
  {
   "cell_type": "code",
   "execution_count": null,
   "id": "78e90b62-2c7f-47e7-a304-1f530adc48be",
   "metadata": {},
   "outputs": [],
   "source": []
  }
 ],
 "metadata": {
  "kernelspec": {
   "display_name": "ehn311",
   "language": "python",
   "name": "ehn311"
  },
  "language_info": {
   "codemirror_mode": {
    "name": "ipython",
    "version": 3
   },
   "file_extension": ".py",
   "mimetype": "text/x-python",
   "name": "python",
   "nbconvert_exporter": "python",
   "pygments_lexer": "ipython3",
   "version": "3.11.6"
  }
 },
 "nbformat": 4,
 "nbformat_minor": 5
}
